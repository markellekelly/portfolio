{
 "cells": [
  {
   "cell_type": "code",
   "execution_count": null,
   "metadata": {},
   "outputs": [],
   "source": [
    "import numpy as np\n",
    "import matplotlib.pyplot as plt\n",
    "import PIL\n",
    "from PIL import Image"
   ]
  },
  {
   "cell_type": "code",
   "execution_count": 5,
   "metadata": {},
   "outputs": [],
   "source": [
    "def open_image(path, width, height):\n",
    "    img = Image.open(path).convert('RGB')\n",
    "    img = img.resize((width, height), PIL.Image.ANTIALIAS)\n",
    "    return np.array(img)"
   ]
  },
  {
   "cell_type": "markdown",
   "metadata": {},
   "source": [
    "# Test Opening & Resizing Image for each Dataset\n",
    "Saved as raw cells so this isn't run every time the notebook is called from another notebook."
   ]
  },
  {
   "cell_type": "raw",
   "metadata": {},
   "source": [
    "test_path_101 = '101_ObjectCategories/accordion/image_0001.jpg'\n",
    "test_path_hunter = 'PhotosDataset/Hunter/IMG_1121.png'\n",
    "test_path_alex = 'PhotosDataset/Alex/0075969.png'"
   ]
  },
  {
   "cell_type": "raw",
   "metadata": {},
   "source": [
    "img1 = open_image(test_path_alex)\n",
    "plt.imshow(img1)\n",
    "plt.show()"
   ]
  },
  {
   "cell_type": "raw",
   "metadata": {},
   "source": [
    "img2 = open_image(test_path_hunter)\n",
    "plt.imshow(img2)\n",
    "plt.show()"
   ]
  },
  {
   "cell_type": "raw",
   "metadata": {},
   "source": [
    "img3 = open_image(test_path_101)\n",
    "plt.imshow(img3)\n",
    "plt.show()"
   ]
  },
  {
   "cell_type": "markdown",
   "metadata": {},
   "source": [
    "# Buid Dataset From 101 Object Categories"
   ]
  },
  {
   "cell_type": "code",
   "execution_count": 3,
   "metadata": {},
   "outputs": [],
   "source": [
    "import os\n",
    "import datetime"
   ]
  },
  {
   "cell_type": "code",
   "execution_count": null,
   "metadata": {},
   "outputs": [],
   "source": [
    "def get_datasets(width, height, which = 'both'):\n",
    "    data = {}\n",
    "    if which == 'both' or which == 'categories':\n",
    "        # Cal Tech 101 \n",
    "        # Takes 1 minute!\n",
    "        start = datetime.datetime.now()\n",
    "\n",
    "        categories = os.listdir('101_ObjectCategories')\n",
    "        X_categories = []\n",
    "        y_categories = []\n",
    "        paths_categories = []\n",
    "\n",
    "        for category in categories:\n",
    "            pictures = os.listdir('101_ObjectCategories/'+category)\n",
    "            for picture in pictures:\n",
    "                path = '101_ObjectCategories/'+category+'/'+picture\n",
    "                X_categories.append(open_image(path, width, height))\n",
    "                y_categories.append(category)\n",
    "                paths_categories.append(path)\n",
    "\n",
    "        X_categories = np.array(X_categories)\n",
    "        y_categories = np.array(y_categories)\n",
    "\n",
    "        end = datetime.datetime.now()\n",
    "        print(\"Object Categories Time:\", end - start)\n",
    "        data['X_categories'] = X_categories\n",
    "        data['y_categories'] = y_categories\n",
    "\n",
    "    if which == 'both' or which == 'alex_hunter':\n",
    "        # Alex Hunter\n",
    "        # Takes 3 seconds\n",
    "        start = datetime.datetime.now()\n",
    "\n",
    "        X_alex_hunter = []\n",
    "        y_alex_hunter = []\n",
    "        paths_alex_hunter = []\n",
    "\n",
    "        for category in ['Hunter','Alex']:\n",
    "            pictures = os.listdir('PhotosDataset/'+category)\n",
    "            for picture in pictures:\n",
    "                path = 'PhotosDataset/'+category+'/'+picture\n",
    "                X_alex_hunter.append(open_image(path, width, height))\n",
    "                y_alex_hunter.append(category)\n",
    "                paths_alex_hunter.append(path)\n",
    "\n",
    "        X_alex_hunter = np.array(X_alex_hunter)\n",
    "        y_alex_hunter = np.array(y_alex_hunter)\n",
    "\n",
    "        end = datetime.datetime.now()\n",
    "        print(\"Alex Hunter Time:\", end - start)\n",
    "        \n",
    "        data['X_alex_hunter'] = X_alex_hunter\n",
    "        data['y_alex_hunter'] = y_alex_hunter\n",
    "    \n",
    "    return data"
   ]
  }
 ],
 "metadata": {
  "kernelspec": {
   "display_name": "Python 3",
   "language": "python",
   "name": "python3"
  },
  "language_info": {
   "codemirror_mode": {
    "name": "ipython",
    "version": 3
   },
   "file_extension": ".py",
   "mimetype": "text/x-python",
   "name": "python",
   "nbconvert_exporter": "python",
   "pygments_lexer": "ipython3",
   "version": "3.7.4"
  }
 },
 "nbformat": 4,
 "nbformat_minor": 4
}
