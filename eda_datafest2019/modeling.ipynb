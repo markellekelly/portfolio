{
 "cells": [
  {
   "cell_type": "code",
   "execution_count": 1,
   "metadata": {},
   "outputs": [],
   "source": [
    "import pandas as pd"
   ]
  },
  {
   "cell_type": "code",
   "execution_count": 2,
   "metadata": {},
   "outputs": [],
   "source": [
    "daily = pd.read_csv('daily.csv').drop('Unnamed: 0',axis=1)"
   ]
  },
  {
   "cell_type": "code",
   "execution_count": 3,
   "metadata": {},
   "outputs": [
    {
     "data": {
      "text/plain": [
       "2088"
      ]
     },
     "execution_count": 3,
     "metadata": {},
     "output_type": "execute_result"
    }
   ],
   "source": [
    "len(daily)"
   ]
  },
  {
   "cell_type": "raw",
   "metadata": {},
   "source": [
    "daily = daily[daily['DaysTillNext'].notna()]"
   ]
  },
  {
   "cell_type": "raw",
   "metadata": {},
   "source": [
    "len(daily)"
   ]
  },
  {
   "cell_type": "code",
   "execution_count": 4,
   "metadata": {},
   "outputs": [],
   "source": [
    "import numpy as np"
   ]
  },
  {
   "cell_type": "raw",
   "metadata": {},
   "source": [
    "newFatigue = pd.Series(list(daily.loc[1:len(daily),'Fatigue'])+[\"NA\"])\n",
    "newFatigueSt = pd.Series(list(daily.loc[1:len(daily),'Fatigue_standard'])+[\"NA\"])\n",
    "daily['Fatigue'] = newFatigue\n",
    "daily['Fatigue_standard'] = newFatigueSt"
   ]
  },
  {
   "cell_type": "code",
   "execution_count": 5,
   "metadata": {},
   "outputs": [],
   "source": [
    "np.random.seed(31415)"
   ]
  },
  {
   "cell_type": "markdown",
   "metadata": {},
   "source": [
    "## Todays data, tomorrow morning's fatigue rating"
   ]
  },
  {
   "cell_type": "raw",
   "metadata": {},
   "source": [
    "daily.to_csv('daily.csv')"
   ]
  },
  {
   "cell_type": "code",
   "execution_count": 6,
   "metadata": {},
   "outputs": [
    {
     "data": {
      "text/plain": [
       "Index(['index', 'PlayerID', 'AvgImpulseSpike', 'Date', 'DaysSinceLast',\n",
       "       'DaysTillNext', 'DistanceLastGame', 'AvgSpeedLastGame', 'Fatigue',\n",
       "       'Soreness', 'Desire', 'Irritability', 'BedTime', 'WakeTime',\n",
       "       'SleepHours', 'SleepQuality', 'MonitoringScore', 'Pain', 'Illness',\n",
       "       'Menstruation', 'Nutrition', 'NutritionAdjustment', 'USGMeasurement',\n",
       "       'USG', 'TrainingReadiness', 'Fatigue_standard', 'Soreness_standard',\n",
       "       'Desire_standard', 'Irritability_standard', 'SleepHours_standard',\n",
       "       'SleepQuality_standard', 'MonitoringScore_standard', 'USG_standard',\n",
       "       'LastWins', 'LastLosses', 'LastWLDiff', 'LastWon', 'avgRPE',\n",
       "       'avgSessionDuration', 'TotalTrainingSessions', 'ConditioningSession',\n",
       "       'GameSession', 'Mobility/RecoverySession', 'SkillsSession',\n",
       "       'SpeedSession', 'StrengthSession', 'CombatSession', 'TrainingDay',\n",
       "       'RestDay', 'interactAvgSessionDurationTraining',\n",
       "       'interactAvgRPETraining', 'DistanceLastGame*DaysSinceLast',\n",
       "       'AvgImpulseSpike*DaysSinceLast'],\n",
       "      dtype='object')"
      ]
     },
     "execution_count": 6,
     "metadata": {},
     "output_type": "execute_result"
    }
   ],
   "source": [
    "daily.columns"
   ]
  },
  {
   "cell_type": "code",
   "execution_count": 7,
   "metadata": {},
   "outputs": [],
   "source": [
    "X = daily[['AvgImpulseSpike',\n",
    "#            'DistanceLastGame*DaysSinceLast',\n",
    "#            'AvgImpulseSpike*DaysSinceLast',\n",
    "           'DaysSinceLast', 'DaysTillNext',\n",
    "       'DistanceLastGame', 'AvgSpeedLastGame', \n",
    "       'Pain', 'Illness', 'Menstruation', 'Nutrition',\n",
    "       'NutritionAdjustment', 'TrainingReadiness',\n",
    "       'Soreness_standard', 'Desire_standard',\n",
    "       'Irritability_standard', 'SleepHours_standard', 'SleepQuality_standard',\n",
    "       'LastWLDiff', 'LastWon', 'avgRPE',\n",
    "       'avgSessionDuration', 'TotalTrainingSessions', 'ConditioningSession',\n",
    "       'GameSession', 'Mobility/RecoverySession', 'SkillsSession',\n",
    "       'SpeedSession', 'StrengthSession', 'CombatSession', 'TrainingDay',\n",
    "       'RestDay']]"
   ]
  },
  {
   "cell_type": "code",
   "execution_count": 8,
   "metadata": {},
   "outputs": [],
   "source": [
    "X = pd.get_dummies(X, drop_first = True)"
   ]
  },
  {
   "cell_type": "code",
   "execution_count": 9,
   "metadata": {},
   "outputs": [],
   "source": [
    "X['DaysSinceLast'] = X['DaysSinceLast'] - X['DaysSinceLast'].mean()"
   ]
  },
  {
   "cell_type": "code",
   "execution_count": 10,
   "metadata": {},
   "outputs": [],
   "source": [
    "X['DaysTillNext'] = X['DaysTillNext'] - X['DaysTillNext'].mean()"
   ]
  },
  {
   "cell_type": "markdown",
   "metadata": {},
   "source": [
    "--------"
   ]
  },
  {
   "cell_type": "code",
   "execution_count": 11,
   "metadata": {},
   "outputs": [],
   "source": [
    "def to_cat(fatigue_standard):\n",
    "    if fatigue_standard <= -0.6:\n",
    "        return 'Low'\n",
    "    elif fatigue_standard <= 0.6:\n",
    "        return 'Mid'\n",
    "    else:\n",
    "        return 'High'"
   ]
  },
  {
   "cell_type": "raw",
   "metadata": {},
   "source": [
    "import numpy as np"
   ]
  },
  {
   "cell_type": "code",
   "execution_count": 12,
   "metadata": {},
   "outputs": [
    {
     "data": {
      "text/plain": [
       "(574, 841, 673)"
      ]
     },
     "execution_count": 12,
     "metadata": {},
     "output_type": "execute_result"
    }
   ],
   "source": [
    "y = daily['Fatigue_standard']\n",
    "y_cat = pd.Series([to_cat(fatigue) for fatigue in y])\n",
    "sum(y_cat=='Low'), sum(y_cat=='Mid'), sum(y_cat=='High')"
   ]
  },
  {
   "cell_type": "code",
   "execution_count": 13,
   "metadata": {},
   "outputs": [],
   "source": [
    "np.random.seed(31415)"
   ]
  },
  {
   "cell_type": "code",
   "execution_count": 14,
   "metadata": {},
   "outputs": [],
   "source": [
    "from sklearn.model_selection import train_test_split\n",
    "x_train, x_test, y_train, y_test = train_test_split(X, y_cat, test_size=0.3, random_state=0)"
   ]
  },
  {
   "cell_type": "markdown",
   "metadata": {},
   "source": [
    "# Random Forest"
   ]
  },
  {
   "cell_type": "code",
   "execution_count": 15,
   "metadata": {},
   "outputs": [],
   "source": [
    "from sklearn.ensemble import RandomForestClassifier"
   ]
  },
  {
   "cell_type": "code",
   "execution_count": 16,
   "metadata": {},
   "outputs": [
    {
     "name": "stderr",
     "output_type": "stream",
     "text": [
      "/Users/markelle/miniconda3/lib/python3.7/site-packages/sklearn/ensemble/forest.py:245: FutureWarning: The default value of n_estimators will change from 10 in version 0.20 to 100 in 0.22.\n",
      "  \"10 in version 0.20 to 100 in 0.22.\", FutureWarning)\n"
     ]
    },
    {
     "name": "stdout",
     "output_type": "stream",
     "text": [
      "Train Score: 0.6187297433774209\n",
      "Test Score: 0.5548092633582092\n"
     ]
    }
   ],
   "source": [
    "basicForest = RandomForestClassifier(class_weight = 'balanced')\n",
    "basicForest.fit(x_train, y_train)\n",
    "predicted = basicForest.predict(x_test)\n",
    "\n",
    "from sklearn.model_selection import cross_val_score\n",
    "trainscore = np.mean(cross_val_score(basicForest, x_train, y_train, cv=5))\n",
    "testscore = np.mean(cross_val_score(basicForest, x_test, y_test, cv=5))\n",
    "print(\"Train Score:\", trainscore)\n",
    "print(\"Test Score:\", testscore)"
   ]
  },
  {
   "cell_type": "markdown",
   "metadata": {},
   "source": [
    "### Step 1. Find optimal hyperparameters"
   ]
  },
  {
   "cell_type": "code",
   "execution_count": 17,
   "metadata": {},
   "outputs": [],
   "source": [
    "from sklearn.model_selection import GridSearchCV"
   ]
  },
  {
   "cell_type": "code",
   "execution_count": 18,
   "metadata": {},
   "outputs": [
    {
     "name": "stderr",
     "output_type": "stream",
     "text": [
      "/Users/markelle/miniconda3/lib/python3.7/site-packages/sklearn/model_selection/_search.py:814: DeprecationWarning: The default of the `iid` parameter will change from True to False in version 0.22 and will be removed in 0.24. This will change numeric results when test-set sizes are unequal.\n",
      "  DeprecationWarning)\n"
     ]
    }
   ],
   "source": [
    "param_grid = {'n_estimators':[5,10,50,100,150],\n",
    "              'criterion':['gini','entropy']}\n",
    "\n",
    "grid = GridSearchCV(RandomForestClassifier(class_weight = 'balanced'), param_grid, cv=5)\n",
    "grid.fit(x_test, y_test);"
   ]
  },
  {
   "cell_type": "code",
   "execution_count": 19,
   "metadata": {},
   "outputs": [
    {
     "data": {
      "text/plain": [
       "RandomForestClassifier(bootstrap=True, class_weight='balanced',\n",
       "                       criterion='gini', max_depth=None, max_features='auto',\n",
       "                       max_leaf_nodes=None, min_impurity_decrease=0.0,\n",
       "                       min_impurity_split=None, min_samples_leaf=1,\n",
       "                       min_samples_split=2, min_weight_fraction_leaf=0.0,\n",
       "                       n_estimators=150, n_jobs=None, oob_score=False,\n",
       "                       random_state=None, verbose=0, warm_start=False)"
      ]
     },
     "execution_count": 19,
     "metadata": {},
     "output_type": "execute_result"
    }
   ],
   "source": [
    "model = grid.best_estimator_\n",
    "model"
   ]
  },
  {
   "cell_type": "markdown",
   "metadata": {},
   "source": [
    "### Step 2. Fit and predict from this model"
   ]
  },
  {
   "cell_type": "code",
   "execution_count": 907,
   "metadata": {},
   "outputs": [],
   "source": [
    "model.fit(x_train, y_train);"
   ]
  },
  {
   "cell_type": "code",
   "execution_count": 908,
   "metadata": {},
   "outputs": [
    {
     "name": "stdout",
     "output_type": "stream",
     "text": [
      "Train Score: 0.657\n",
      "Test Score: 0.606\n"
     ]
    }
   ],
   "source": [
    "predictions = model.predict(x_test)\n",
    "trainscore = np.mean(cross_val_score(model, x_train, y_train, cv=5))\n",
    "testscore = np.mean(cross_val_score(model, x_test, y_test, cv=5))\n",
    "print(\"Train Score:\", round(trainscore,3))\n",
    "print(\"Test Score:\", round(testscore,3))"
   ]
  },
  {
   "cell_type": "markdown",
   "metadata": {},
   "source": [
    "### Step 3. Feature Reduction"
   ]
  },
  {
   "cell_type": "code",
   "execution_count": 909,
   "metadata": {},
   "outputs": [
    {
     "name": "stdout",
     "output_type": "stream",
     "text": [
      "Optimal number of features : 8\n"
     ]
    },
    {
     "data": {
      "image/png": "[encoded data removed]",
      "text/plain": [
       "<Figure size 432x288 with 1 Axes>"
      ]
     },
     "metadata": {
      "needs_background": "light"
     },
     "output_type": "display_data"
    }
   ],
   "source": [
    "import matplotlib.pyplot as plt\n",
    "from sklearn.model_selection import StratifiedKFold\n",
    "from sklearn.feature_selection import RFECV\n",
    "\n",
    "rfecv = RFECV(estimator=model, step=1, cv=StratifiedKFold(5))\n",
    "rfecv.fit(X, y_cat)\n",
    "\n",
    "print(\"Optimal number of features : %d\" % rfecv.n_features_)\n",
    "\n",
    "# Plot number of features VS. cross-validation scores\n",
    "plt.figure()\n",
    "plt.xlabel(\"Number of features selected\")\n",
    "plt.ylabel(\"Cross validation score (percent correct)\")\n",
    "plt.plot(range(1, len(rfecv.grid_scores_) + 1), rfecv.grid_scores_)\n",
    "plt.show()"
   ]
  },
  {
   "cell_type": "code",
   "execution_count": 911,
   "metadata": {},
   "outputs": [
    {
     "name": "stdout",
     "output_type": "stream",
     "text": [
      "Num Features: 9\n",
      "Features to Keep:\n"
     ]
    },
    {
     "data": {
      "text/html": [
       "<div>\n",
       "<style scoped>\n",
       "    .dataframe tbody tr th:only-of-type {\n",
       "        vertical-align: middle;\n",
       "    }\n",
       "\n",
       "    .dataframe tbody tr th {\n",
       "        vertical-align: top;\n",
       "    }\n",
       "\n",
       "    .dataframe thead th {\n",
       "        text-align: right;\n",
       "    }\n",
       "</style>\n",
       "<table border=\"1\" class=\"dataframe\">\n",
       "  <thead>\n",
       "    <tr style=\"text-align: right;\">\n",
       "      <th></th>\n",
       "      <th>Keep?</th>\n",
       "      <th>Feature</th>\n",
       "    </tr>\n",
       "  </thead>\n",
       "  <tbody>\n",
       "    <tr>\n",
       "      <th>0</th>\n",
       "      <td>True</td>\n",
       "      <td>AvgImpulseSpike</td>\n",
       "    </tr>\n",
       "    <tr>\n",
       "      <th>1</th>\n",
       "      <td>True</td>\n",
       "      <td>DaysSinceLast</td>\n",
       "    </tr>\n",
       "    <tr>\n",
       "      <th>2</th>\n",
       "      <td>True</td>\n",
       "      <td>DaysTillNext</td>\n",
       "    </tr>\n",
       "    <tr>\n",
       "      <th>4</th>\n",
       "      <td>True</td>\n",
       "      <td>AvgSpeedLastGame</td>\n",
       "    </tr>\n",
       "    <tr>\n",
       "      <th>6</th>\n",
       "      <td>True</td>\n",
       "      <td>Soreness_standard</td>\n",
       "    </tr>\n",
       "    <tr>\n",
       "      <th>7</th>\n",
       "      <td>True</td>\n",
       "      <td>Desire_standard</td>\n",
       "    </tr>\n",
       "    <tr>\n",
       "      <th>9</th>\n",
       "      <td>True</td>\n",
       "      <td>SleepHours_standard</td>\n",
       "    </tr>\n",
       "    <tr>\n",
       "      <th>10</th>\n",
       "      <td>True</td>\n",
       "      <td>SleepQuality_standard</td>\n",
       "    </tr>\n",
       "    <tr>\n",
       "      <th>13</th>\n",
       "      <td>True</td>\n",
       "      <td>avgRPE</td>\n",
       "    </tr>\n",
       "  </tbody>\n",
       "</table>\n",
       "</div>"
      ],
      "text/plain": [
       "    Keep?                Feature\n",
       "0    True        AvgImpulseSpike\n",
       "1    True          DaysSinceLast\n",
       "2    True           DaysTillNext\n",
       "4    True       AvgSpeedLastGame\n",
       "6    True      Soreness_standard\n",
       "7    True        Desire_standard\n",
       "9    True    SleepHours_standard\n",
       "10   True  SleepQuality_standard\n",
       "13   True                 avgRPE"
      ]
     },
     "execution_count": 911,
     "metadata": {},
     "output_type": "execute_result"
    }
   ],
   "source": [
    "from sklearn.feature_selection import RFE\n",
    "\n",
    "model2 = RandomForestClassifier()\n",
    "rfe = RFE(model2, 9)\n",
    "fit = rfe.fit(x_train, y_train)\n",
    "print(\"Num Features:\",fit.n_features_)\n",
    "print(\"Features to Keep:\")\n",
    "features = pd.concat([pd.Series(fit.support_), pd.Series(x_train.columns)], axis = 1)\\\n",
    "    .reset_index().drop('index', axis = 1)\\\n",
    "    .rename(columns = {0:'Keep?',1:'Feature'})\n",
    "features[features['Keep?']==True]"
   ]
  },
  {
   "cell_type": "code",
   "execution_count": 912,
   "metadata": {},
   "outputs": [
    {
     "data": {
      "text/plain": [
       "['AvgImpulseSpike',\n",
       " 'DaysSinceLast',\n",
       " 'DaysTillNext',\n",
       " 'AvgSpeedLastGame',\n",
       " 'Soreness_standard',\n",
       " 'Desire_standard',\n",
       " 'SleepHours_standard',\n",
       " 'SleepQuality_standard',\n",
       " 'avgRPE']"
      ]
     },
     "execution_count": 912,
     "metadata": {},
     "output_type": "execute_result"
    }
   ],
   "source": [
    "list(features[features['Keep?']==True]['Feature'])"
   ]
  },
  {
   "cell_type": "code",
   "execution_count": 913,
   "metadata": {},
   "outputs": [],
   "source": [
    "X_sub = X[list(features[features['Keep?']==True]['Feature'])]"
   ]
  },
  {
   "cell_type": "code",
   "execution_count": 914,
   "metadata": {},
   "outputs": [],
   "source": [
    "np.random.seed(31415)"
   ]
  },
  {
   "cell_type": "code",
   "execution_count": 915,
   "metadata": {},
   "outputs": [],
   "source": [
    "x_train, x_test, y_train, y_test = train_test_split(X_sub, y_cat, test_size=0.3, random_state=0)"
   ]
  },
  {
   "cell_type": "code",
   "execution_count": 916,
   "metadata": {},
   "outputs": [],
   "source": [
    "model.fit(x_train, y_train);"
   ]
  },
  {
   "cell_type": "code",
   "execution_count": 917,
   "metadata": {},
   "outputs": [
    {
     "name": "stdout",
     "output_type": "stream",
     "text": [
      "Train Score: 0.654\n",
      "Test Score: 0.603\n"
     ]
    }
   ],
   "source": [
    "predictions = model.predict(x_test)\n",
    "trainscore = np.mean(cross_val_score(model, x_train, y_train, cv=5))\n",
    "testscore = np.mean(cross_val_score(model, x_test, y_test, cv=5))\n",
    "print(\"Train Score:\", round(trainscore,3))\n",
    "print(\"Test Score:\", round(testscore,3))"
   ]
  },
  {
   "cell_type": "code",
   "execution_count": 918,
   "metadata": {},
   "outputs": [
    {
     "data": {
      "application/vnd.vegalite.v2+json": {
       "$schema": "https://vega.github.io/schema/vega-lite/v2.6.0.json",
       "config": {
        "view": {
         "height": 300,
         "width": 400
        }
       },
       "data": {
        "name": "data-cca8483f19bec947602b582bfe67ba1b"
       },
       "datasets": {
        "data-cca8483f19bec947602b582bfe67ba1b": [
         {
          "color": true,
          "feature": "AvgImpulseSpike",
          "importance": 0.08268373456616084
         },
         {
          "color": true,
          "feature": "DaysSinceLast",
          "importance": 0.11778200978251631
         },
         {
          "color": true,
          "feature": "DaysTillNext",
          "importance": 0.10074659341475556
         },
         {
          "color": true,
          "feature": "AvgSpeedLastGame",
          "importance": 0.08723287633111206
         },
         {
          "color": true,
          "feature": "Soreness_standard",
          "importance": 0.15542026589838048
         },
         {
          "color": true,
          "feature": "Desire_standard",
          "importance": 0.13652478039955085
         },
         {
          "color": true,
          "feature": "SleepHours_standard",
          "importance": 0.11602797226643359
         },
         {
          "color": true,
          "feature": "SleepQuality_standard",
          "importance": 0.11692346992759013
         },
         {
          "color": true,
          "feature": "avgRPE",
          "importance": 0.08665829741350016
         }
        ]
       },
       "encoding": {
        "x": {
         "axis": {
          "title": "Factor"
         },
         "field": "feature",
         "sort": {
          "field": "importance",
          "op": "sum",
          "order": "descending"
         },
         "type": "nominal"
        },
        "y": {
         "axis": {
          "title": "Importance"
         },
         "field": "importance",
         "type": "quantitative"
        }
       },
       "mark": {
        "color": "teal",
        "type": "bar"
       }
      },
      "image/png": "[encoded data removed]",
      "text/plain": [
       "<VegaLite 2 object>\n",
       "\n",
       "If you see this message, it means the renderer has not been properly enabled\n",
       "for the frontend that you are using. For more information, see\n",
       "https://altair-viz.github.io/user_guide/troubleshooting.html\n"
      ]
     },
     "execution_count": 918,
     "metadata": {},
     "output_type": "execute_result"
    }
   ],
   "source": [
    "importances = pd.DataFrame({'importance': model.feature_importances_, \n",
    "                            'feature':X_sub.columns})\n",
    "\n",
    "importances['color'] = importances['importance']>0.03\n",
    "import altair as alt\n",
    "alt.Chart(importances).mark_bar(color='teal').encode(\n",
    "    alt.X('feature', axis = alt.Axis(title='Factor'), \n",
    "          sort = alt.EncodingSortField(field='importance',op='sum',order='descending')\n",
    "    ),\n",
    "    alt.Y('importance', axis = alt.Axis(title = \"Importance\")),\n",
    "    #alt.Color('color', title='Keep?', scale = alt.Scale(domain=[True,False], range=['navy','teal']))\n",
    ")"
   ]
  },
  {
   "cell_type": "markdown",
   "metadata": {},
   "source": [
    "### Step 4. (Remove?), fit, predict"
   ]
  },
  {
   "cell_type": "code",
   "execution_count": 803,
   "metadata": {},
   "outputs": [],
   "source": [
    "model.fit(x_train, y_train);"
   ]
  },
  {
   "cell_type": "code",
   "execution_count": 804,
   "metadata": {},
   "outputs": [
    {
     "name": "stdout",
     "output_type": "stream",
     "text": [
      "Train Score: 0.664\n",
      "Test Score: 0.608\n"
     ]
    }
   ],
   "source": [
    "predictions = model.predict(x_test)\n",
    "trainscore = np.mean(cross_val_score(model, x_train, y_train, cv=5))\n",
    "testscore = np.mean(cross_val_score(model, x_test, y_test, cv=5))\n",
    "print(\"Train Score:\", round(trainscore,3))\n",
    "print(\"Test Score:\", round(testscore,3))"
   ]
  },
  {
   "cell_type": "code",
   "execution_count": null,
   "metadata": {},
   "outputs": [],
   "source": []
  },
  {
   "cell_type": "code",
   "execution_count": 805,
   "metadata": {},
   "outputs": [],
   "source": [
    "from sklearn.metrics import confusion_matrix\n",
    "import seaborn as sns\n",
    "import matplotlib.pyplot as plt"
   ]
  },
  {
   "cell_type": "code",
   "execution_count": 806,
   "metadata": {},
   "outputs": [
    {
     "data": {
      "image/png": "[encoded data removed]",
      "text/plain": [
       "<Figure size 432x288 with 1 Axes>"
      ]
     },
     "metadata": {
      "needs_background": "light"
     },
     "output_type": "display_data"
    }
   ],
   "source": [
    "mat = confusion_matrix(y_test, predictions)\n",
    "sns.heatmap(mat.T, square=True, annot=True, fmt='d', cbar=False)\n",
    "plt.xlabel('true label')\n",
    "plt.ylabel('predicted label')\n",
    "plt.title('Confusion Matrix for Random Forest')\n",
    "plt.xticks([0.5,1.5,2.5],['Low','Mid','High'])\n",
    "plt.yticks([0.5,1.5,2.5],['Low','Mid','High'])\n",
    "plt.show()"
   ]
  },
  {
   "cell_type": "markdown",
   "metadata": {},
   "source": [
    "# Neural Net"
   ]
  },
  {
   "cell_type": "code",
   "execution_count": 178,
   "metadata": {},
   "outputs": [],
   "source": [
    "from sklearn.neural_network import MLPClassifier\n",
    "nn = MLPClassifier()\n",
    "nn.fit(x_train, y_train);"
   ]
  },
  {
   "cell_type": "code",
   "execution_count": 179,
   "metadata": {},
   "outputs": [
    {
     "name": "stdout",
     "output_type": "stream",
     "text": [
      "Train Score: 0.4208754208754209\n",
      "Test Score: 0.36910994764397903\n"
     ]
    }
   ],
   "source": [
    "predictions = nn.predict(x_test)\n",
    "trainscore = nn.score(x_train, y_train)\n",
    "testscore = nn.score(x_test, y_test)\n",
    "print(\"Train Score:\", trainscore)\n",
    "print(\"Test Score:\", testscore)"
   ]
  },
  {
   "cell_type": "markdown",
   "metadata": {},
   "source": [
    "# Naive Bayes"
   ]
  },
  {
   "cell_type": "code",
   "execution_count": 180,
   "metadata": {},
   "outputs": [],
   "source": [
    "from sklearn.naive_bayes import GaussianNB\n",
    "nb = GaussianNB()\n",
    "nb.fit(x_train, y_train);"
   ]
  },
  {
   "cell_type": "code",
   "execution_count": 181,
   "metadata": {},
   "outputs": [
    {
     "name": "stdout",
     "output_type": "stream",
     "text": [
      "Train Score: 0.5173961840628507\n",
      "Test Score: 0.4712041884816754\n"
     ]
    }
   ],
   "source": [
    "pred = nb.predict(x_test)\n",
    "trainscore = nb.score(x_train, y_train)\n",
    "testscore = nb.score(x_test, y_test)\n",
    "print(\"Train Score:\", trainscore)\n",
    "print(\"Test Score:\", testscore)"
   ]
  },
  {
   "cell_type": "markdown",
   "metadata": {},
   "source": [
    "# KNN"
   ]
  },
  {
   "cell_type": "code",
   "execution_count": 475,
   "metadata": {},
   "outputs": [],
   "source": [
    "x_train, x_test, y_train, y_test = train_test_split(X_sub, y_cat, test_size=0.3, random_state=0)"
   ]
  },
  {
   "cell_type": "code",
   "execution_count": 476,
   "metadata": {},
   "outputs": [],
   "source": [
    "from sklearn.neighbors import KNeighborsClassifier\n",
    "kn = KNeighborsClassifier()\n",
    "kn.fit(x_train, y_train);"
   ]
  },
  {
   "cell_type": "code",
   "execution_count": 477,
   "metadata": {},
   "outputs": [
    {
     "name": "stdout",
     "output_type": "stream",
     "text": [
      "Train Score: 0.6249144421629022\n",
      "Test Score: 0.4609250398724083\n"
     ]
    }
   ],
   "source": [
    "pred = kn.predict(x_test)\n",
    "trainscore = kn.score(x_train, y_train)\n",
    "testscore = kn.score(x_test, y_test)\n",
    "print(\"Train Score:\", trainscore)\n",
    "print(\"Test Score:\", testscore)"
   ]
  },
  {
   "cell_type": "code",
   "execution_count": 480,
   "metadata": {},
   "outputs": [
    {
     "data": {
      "text/plain": [
       "array([0.15266135, 0.1159905 , 0.10067037, 0.11147827, 0.08314582,\n",
       "       0.10378761, 0.09943877, 0.07897929, 0.0802518 , 0.07359623])"
      ]
     },
     "execution_count": 480,
     "metadata": {},
     "output_type": "execute_result"
    }
   ],
   "source": [
    "model.feature_importances_"
   ]
  },
  {
   "cell_type": "code",
   "execution_count": 481,
   "metadata": {},
   "outputs": [
    {
     "data": {
      "text/plain": [
       "35"
      ]
     },
     "execution_count": 481,
     "metadata": {},
     "output_type": "execute_result"
    }
   ],
   "source": [
    "len(X.columns)"
   ]
  },
  {
   "cell_type": "code",
   "execution_count": 20,
   "metadata": {},
   "outputs": [
    {
     "data": {
      "application/vnd.vegalite.v3+json": {
       "$schema": "https://vega.github.io/schema/vega-lite/v3.4.0.json",
       "config": {
        "mark": {
         "tooltip": null
        },
        "view": {
         "height": 300,
         "width": 400
        }
       },
       "data": {
        "name": "data-2a67936ad5b43bfd8057c690829c7ffd"
       },
       "datasets": {
        "data-2a67936ad5b43bfd8057c690829c7ffd": [
         {
          "color": true,
          "feature": "AvgImpulseSpike",
          "importance": 0.05085542648017809
         },
         {
          "color": true,
          "feature": "DaysSinceLast",
          "importance": 0.0730428948893683
         },
         {
          "color": true,
          "feature": "DaysTillNext",
          "importance": 0.06560002922329414
         },
         {
          "color": true,
          "feature": "DistanceLastGame",
          "importance": 0.049177104779020896
         },
         {
          "color": true,
          "feature": "AvgSpeedLastGame",
          "importance": 0.048107705158256145
         },
         {
          "color": true,
          "feature": "TrainingReadiness",
          "importance": 0.031108949111044126
         },
         {
          "color": true,
          "feature": "Soreness_standard",
          "importance": 0.11454634110304669
         },
         {
          "color": true,
          "feature": "Desire_standard",
          "importance": 0.08800990900242533
         },
         {
          "color": true,
          "feature": "Irritability_standard",
          "importance": 0.06220209237867942
         },
         {
          "color": true,
          "feature": "SleepHours_standard",
          "importance": 0.07657555140882262
         },
         {
          "color": true,
          "feature": "SleepQuality_standard",
          "importance": 0.07059131089951971
         },
         {
          "color": false,
          "feature": "LastWLDiff",
          "importance": 0.019751126406263926
         },
         {
          "color": false,
          "feature": "LastWon",
          "importance": 0.014149345456173652
         },
         {
          "color": true,
          "feature": "avgRPE",
          "importance": 0.05016806841214628
         },
         {
          "color": true,
          "feature": "avgSessionDuration",
          "importance": 0.03882291683868975
         },
         {
          "color": false,
          "feature": "TotalTrainingSessions",
          "importance": 0.021787144718962363
         },
         {
          "color": false,
          "feature": "ConditioningSession",
          "importance": 0.01123029580934422
         },
         {
          "color": false,
          "feature": "GameSession",
          "importance": 0.006789509366947814
         },
         {
          "color": false,
          "feature": "Mobility/RecoverySession",
          "importance": 0.009553595845460915
         },
         {
          "color": false,
          "feature": "SkillsSession",
          "importance": 0.010889493455062115
         },
         {
          "color": false,
          "feature": "SpeedSession",
          "importance": 0.006958444741808771
         },
         {
          "color": false,
          "feature": "StrengthSession",
          "importance": 0.0086856859205953
         },
         {
          "color": false,
          "feature": "CombatSession",
          "importance": 0.0025138279863713003
         },
         {
          "color": false,
          "feature": "TrainingDay",
          "importance": 0.006403376907772098
         },
         {
          "color": false,
          "feature": "RestDay",
          "importance": 0.006098843131729054
         },
         {
          "color": false,
          "feature": "Pain_Yes",
          "importance": 0.0063059563393543265
         },
         {
          "color": false,
          "feature": "Illness_Slightly Off",
          "importance": 0.007175689388907952
         },
         {
          "color": false,
          "feature": "Illness_Yes",
          "importance": 0.005293945806217662
         },
         {
          "color": false,
          "feature": "Menstruation_Yes",
          "importance": 0.008331069565659738
         },
         {
          "color": false,
          "feature": "Nutrition_Okay",
          "importance": 0.011540343542135538
         },
         {
          "color": false,
          "feature": "Nutrition_Poor",
          "importance": 0.001316113315133683
         },
         {
          "color": false,
          "feature": "NutritionAdjustment_No",
          "importance": 0.004828213259577494
         },
         {
          "color": false,
          "feature": "NutritionAdjustment_Yes",
          "importance": 0.011589679352030608
         }
        ]
       },
       "encoding": {
        "color": {
         "field": "color",
         "scale": {
          "domain": [
           true,
           false
          ],
          "range": [
           "navy",
           "teal"
          ]
         },
         "title": "Keep?",
         "type": "nominal"
        },
        "x": {
         "axis": {
          "title": "Factor"
         },
         "field": "feature",
         "sort": {
          "field": "importance",
          "op": "sum",
          "order": "descending"
         },
         "type": "nominal"
        },
        "y": {
         "axis": {
          "title": "Importance"
         },
         "field": "importance",
         "type": "quantitative"
        }
       },
       "mark": "bar"
      },
      "image/png": "[encoded data removed]",
      "text/plain": [
       "<VegaLite 3 object>\n",
       "\n",
       "If you see this message, it means the renderer has not been properly enabled\n",
       "for the frontend that you are using. For more information, see\n",
       "https://altair-viz.github.io/user_guide/troubleshooting.html\n"
      ]
     },
     "execution_count": 20,
     "metadata": {},
     "output_type": "execute_result"
    }
   ],
   "source": [
    "importances = pd.DataFrame({'importance': model.feature_importances_, 'feature':X.columns})\n",
    "\n",
    "importances['color'] = importances['importance']>0.03\n",
    "import altair as alt\n",
    "alt.Chart(importances).mark_bar().encode(\n",
    "    alt.X('feature', axis = alt.Axis(title='Factor'), \n",
    "          sort = alt.EncodingSortField(field='importance',op='sum',order='descending')\n",
    "    ),\n",
    "    alt.Y('importance', axis = alt.Axis(title = \"Importance\")),\n",
    "    alt.Color('color', title='Keep?', scale = alt.Scale(domain=[True,False], range=['navy','teal']))\n",
    ")"
   ]
  },
  {
   "cell_type": "markdown",
   "metadata": {},
   "source": [
    "# Linear Regression"
   ]
  },
  {
   "cell_type": "code",
   "execution_count": 488,
   "metadata": {},
   "outputs": [],
   "source": [
    "from sklearn.linear_model import LinearRegression"
   ]
  },
  {
   "cell_type": "code",
   "execution_count": 494,
   "metadata": {},
   "outputs": [],
   "source": [
    "x_train, x_test, y_train, y_test = train_test_split(X, y, test_size=0.3, random_state=0)"
   ]
  },
  {
   "cell_type": "code",
   "execution_count": 495,
   "metadata": {},
   "outputs": [
    {
     "name": "stdout",
     "output_type": "stream",
     "text": [
      "Train Score: 0.34404522105425867\n",
      "Test Score: 0.3297506299101075\n"
     ]
    }
   ],
   "source": [
    "linReg = LinearRegression()\n",
    "linReg.fit(x_train, y_train)\n",
    "predicted = linReg.predict(x_test)\n",
    "\n",
    "from sklearn.model_selection import cross_val_score\n",
    "trainscore = np.mean(cross_val_score(linReg, x_train, y_train, cv=5))\n",
    "testscore = np.mean(cross_val_score(linReg, x_test, y_test, cv=5))\n",
    "print(\"Train Score:\", trainscore)\n",
    "print(\"Test Score:\", testscore)"
   ]
  },
  {
   "cell_type": "markdown",
   "metadata": {},
   "source": [
    "# Naive Bayes"
   ]
  },
  {
   "cell_type": "code",
   "execution_count": 571,
   "metadata": {},
   "outputs": [],
   "source": [
    "x_train, x_test, y_train, y_test = train_test_split(X, y_cat, test_size=0.3, random_state=0)"
   ]
  },
  {
   "cell_type": "code",
   "execution_count": 572,
   "metadata": {},
   "outputs": [
    {
     "data": {
      "text/plain": [
       "GaussianNB(priors=None)"
      ]
     },
     "execution_count": 572,
     "metadata": {},
     "output_type": "execute_result"
    }
   ],
   "source": [
    "from sklearn.naive_bayes import GaussianNB\n",
    "nb = GaussianNB()\n",
    "nb.fit(x_train, y_train)"
   ]
  },
  {
   "cell_type": "code",
   "execution_count": 573,
   "metadata": {},
   "outputs": [
    {
     "name": "stdout",
     "output_type": "stream",
     "text": [
      "Train Score: 0.5817932922655715\n",
      "Test Score: 0.5550239234449761\n",
      "CV Train Score: 0.5092267053158165\n",
      "CV Test Score: 0.5118991174490285\n"
     ]
    }
   ],
   "source": [
    "pred = nb.predict(x_test)\n",
    "trainscore = nb.score(x_train, y_train)\n",
    "testscore = nb.score(x_test, y_test)\n",
    "print(\"Train Score:\", trainscore)\n",
    "print(\"Test Score:\", testscore)\n",
    "\n",
    "trainscore = np.mean(cross_val_score(nb, x_train, y_train, cv=5))\n",
    "testscore = np.mean(cross_val_score(nb, x_test, y_test, cv=5))\n",
    "print(\"CV Train Score:\", trainscore)\n",
    "print(\"CV Test Score:\", testscore)"
   ]
  },
  {
   "cell_type": "markdown",
   "metadata": {},
   "source": [
    "# Gaussian Process"
   ]
  },
  {
   "cell_type": "code",
   "execution_count": 567,
   "metadata": {},
   "outputs": [],
   "source": [
    "x_train, x_test, y_train, y_test = train_test_split(X, y_cat, test_size=0.3, random_state=0)"
   ]
  },
  {
   "cell_type": "code",
   "execution_count": 568,
   "metadata": {},
   "outputs": [
    {
     "data": {
      "text/plain": [
       "GaussianProcessClassifier(copy_X_train=True, kernel=None,\n",
       "             max_iter_predict=100, multi_class='one_vs_rest', n_jobs=1,\n",
       "             n_restarts_optimizer=0, optimizer='fmin_l_bfgs_b',\n",
       "             random_state=None, warm_start=False)"
      ]
     },
     "execution_count": 568,
     "metadata": {},
     "output_type": "execute_result"
    }
   ],
   "source": [
    "from sklearn.gaussian_process import GaussianProcessClassifier\n",
    "gpc = GaussianProcessClassifier()\n",
    "gpc.fit(x_train, y_train)"
   ]
  },
  {
   "cell_type": "code",
   "execution_count": 574,
   "metadata": {},
   "outputs": [
    {
     "name": "stdout",
     "output_type": "stream",
     "text": [
      "Train Score: 1.0\n",
      "Test Score: 0.4433811802232855\n",
      "CV Train Score: 0.428474917013418\n",
      "CV Test Score: 0.4289973833915922\n"
     ]
    }
   ],
   "source": [
    "pred = gpc.predict(x_test)\n",
    "trainscore = gpc.score(x_train, y_train)\n",
    "testscore = gpc.score(x_test, y_test)\n",
    "print(\"Train Score:\", trainscore)\n",
    "print(\"Test Score:\", testscore)\n",
    "\n",
    "trainscore = np.mean(cross_val_score(gpc, x_train, y_train, cv=5))\n",
    "testscore = np.mean(cross_val_score(gpc, x_test, y_test, cv=5))\n",
    "print(\"CV Train Score:\", trainscore)\n",
    "print(\"CV Test Score:\", testscore)"
   ]
  },
  {
   "cell_type": "code",
   "execution_count": null,
   "metadata": {},
   "outputs": [],
   "source": []
  }
 ],
 "metadata": {
  "kernelspec": {
   "display_name": "Python 3",
   "language": "python",
   "name": "python3"
  },
  "language_info": {
   "codemirror_mode": {
    "name": "ipython",
    "version": 3
   },
   "file_extension": ".py",
   "mimetype": "text/x-python",
   "name": "python",
   "nbconvert_exporter": "python",
   "pygments_lexer": "ipython3",
   "version": "3.7.3"
  }
 },
 "nbformat": 4,
 "nbformat_minor": 4
}
