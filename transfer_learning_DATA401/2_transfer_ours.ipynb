{
 "cells": [
  {
   "cell_type": "markdown",
   "metadata": {},
   "source": [
    "# Transfer Learning Using Our Model\n",
    "In this notebook, we use our convolutional neural network from `CNN.ipynb` in transfer learning to predict who took a given picture."
   ]
  },
  {
   "cell_type": "code",
   "execution_count": 1,
   "metadata": {},
   "outputs": [],
   "source": [
    "import random\n",
    "import numpy as np\n",
    "import pickle\n",
    "import pandas as pd"
   ]
  },
  {
   "cell_type": "code",
   "execution_count": 2,
   "metadata": {},
   "outputs": [],
   "source": [
    "np.random.seed(123)\n",
    "random.seed(123)"
   ]
  },
  {
   "cell_type": "markdown",
   "metadata": {},
   "source": [
    "# Load Data\n",
    "Load the alex_hunter dataset, resizing images to 100 X 75 (dimensions used to train our cnn model for cal tech 101 dataset)."
   ]
  },
  {
   "cell_type": "code",
   "execution_count": 3,
   "metadata": {},
   "outputs": [
    {
     "name": "stdout",
     "output_type": "stream",
     "text": [
      "Alex Hunter Time: 0:00:21.830268\n",
      "369 Alex Hunter Pictures\n"
     ]
    }
   ],
   "source": [
    "%run DataPreparation.ipynb\n",
    "\n",
    "# size to match our model\n",
    "width = 100\n",
    "data = get_datasets(width=width, height=round(0.75*width), which='alex_hunter')\n",
    "\n",
    "X_alex_hunter = data['X_alex_hunter']\n",
    "y_alex_hunter = data['y_alex_hunter']\n",
    "\n",
    "print(len(X_alex_hunter), 'Alex Hunter Pictures')"
   ]
  },
  {
   "cell_type": "code",
   "execution_count": 4,
   "metadata": {},
   "outputs": [],
   "source": [
    "# subside warnings from keras\n",
    "# (these are tensorflow warnings because of the way keras uses tensorflow,\n",
    "# not warings from our implementation)\n",
    "import warnings\n",
    "warnings.filterwarnings('ignore')"
   ]
  },
  {
   "cell_type": "markdown",
   "metadata": {},
   "source": [
    "# Load Convolutional Neural Network for Object Categories Data\n",
    "\n",
    "Load CNN, drop the last layer, and freeze all layers"
   ]
  },
  {
   "cell_type": "code",
   "execution_count": 5,
   "metadata": {},
   "outputs": [
    {
     "name": "stderr",
     "output_type": "stream",
     "text": [
      "Using TensorFlow backend.\n"
     ]
    }
   ],
   "source": [
    "with open(\"models/models_MARK.pickle\", \"rb\") as f:\n",
    "    object_cnn = pickle.load(f)"
   ]
  },
  {
   "cell_type": "code",
   "execution_count": 6,
   "metadata": {},
   "outputs": [],
   "source": [
    "import keras\n",
    "\n",
    "# remove last layer of object classification cnn\n",
    "model = keras.Sequential()\n",
    "for layer in object_cnn.layers[:-1]:\n",
    "    model.add(layer)\n",
    "    \n",
    "# freeze all layers - exclude from future training\n",
    "for layer in model.layers:\n",
    "    layer.trainable = False"
   ]
  },
  {
   "cell_type": "markdown",
   "metadata": {},
   "source": [
    "# Prep Data\n",
    "Make sure the response variable is seen as categorical by keras. Shuffle the data and split into train test split."
   ]
  },
  {
   "cell_type": "code",
   "execution_count": 7,
   "metadata": {},
   "outputs": [],
   "source": [
    "# --- Constants -----------------------------------\n",
    "test_prop = 0.3\n",
    "test_split = round(test_prop*len(X_alex_hunter))\n",
    "num_classes = len(set(y_alex_hunter))\n",
    "\n",
    "# --- Shuffle Data -----------------------------------\n",
    "idxs = np.array(range(len(X_alex_hunter)))\n",
    "np.random.shuffle(idxs)\n",
    "X_alex_hunter = X_alex_hunter[idxs]\n",
    "y_alex_hunter = y_alex_hunter[idxs]\n",
    "\n",
    "# --- Data Manipulation -----------------------------------\n",
    "distinct_categories = sorted(list(set(y_alex_hunter)))\n",
    "y_alex_hunter_cat = [\n",
    "    distinct_categories.index(y) for y in y_alex_hunter\n",
    "]\n",
    "y_alex_hunter_cat = keras.utils.to_categorical(\n",
    "    y_alex_hunter_cat, num_classes\n",
    ")\n",
    "\n",
    "# --- Train Test Split -----------------------------------\n",
    "X_alex_hunter_test = X_alex_hunter[:test_split]\n",
    "y_alex_hunter_test = y_alex_hunter_cat[:test_split]\n",
    "y_alex_hunter_labels_test = y_alex_hunter[:test_split]\n",
    "\n",
    "X_alex_hunter_train = X_alex_hunter[test_split:]\n",
    "y_alex_hunter_train = y_alex_hunter_cat[test_split:]\n",
    "y_alex_hunter_labels_train = y_alex_hunter[test_split:]"
   ]
  },
  {
   "cell_type": "code",
   "execution_count": null,
   "metadata": {},
   "outputs": [],
   "source": [
    "print(len(X_alex_hunter_train), 'Train (', \n",
    "      list(y_alex_hunter_labels_train).count('Hunter'), 'Hunter,', \n",
    "      list(y_alex_hunter_labels_train).count('Alex'), 'Alex )')\n",
    "print(len(X_alex_hunter_test), 'Test (', \n",
    "      list(y_alex_hunter_labels_test).count('Hunter'), 'Hunter,', \n",
    "      list(y_alex_hunter_labels_test).count('Alex'), 'Alex )')"
   ]
  },
  {
   "cell_type": "markdown",
   "metadata": {},
   "source": [
    "# Add to Model\n",
    "Add a final dense layer (the only layer that will be trained) leading to one output node per category (in this case 2, one for Hunter and one for Alex)."
   ]
  },
  {
   "cell_type": "code",
   "execution_count": 9,
   "metadata": {},
   "outputs": [],
   "source": [
    "model.add(keras.layers.Dense(\n",
    "    num_classes, activation='softmax'\n",
    "))"
   ]
  },
  {
   "cell_type": "code",
   "execution_count": 17,
   "metadata": {},
   "outputs": [
    {
     "name": "stdout",
     "output_type": "stream",
     "text": [
      "Train on 258 samples, validate on 111 samples\n",
      "Epoch 1/3\n",
      "258/258 [==============================] - 13s 51ms/step - loss: 7.9367e-05 - accuracy: 1.0000 - val_loss: 0.0910 - val_accuracy: 0.9910\n",
      "Epoch 2/3\n",
      "258/258 [==============================] - 13s 51ms/step - loss: 6.8095e-05 - accuracy: 1.0000 - val_loss: 0.0888 - val_accuracy: 0.9910\n",
      "Epoch 3/3\n",
      "258/258 [==============================] - 12s 46ms/step - loss: 6.1145e-05 - accuracy: 1.0000 - val_loss: 0.0870 - val_accuracy: 0.9910\n"
     ]
    },
    {
     "data": {
      "text/plain": [
       "<keras.callbacks.callbacks.History at 0x13b1d3fd0>"
      ]
     },
     "execution_count": 17,
     "metadata": {},
     "output_type": "execute_result"
    }
   ],
   "source": [
    "#from tensorflow import set_random_seed\n",
    "import tensorflow\n",
    "np.random.seed(123)\n",
    "random.seed(123)\n",
    "tensorflow.random.set_seed(123)\n",
    "\n",
    "batch_size = 5\n",
    "epochs = 3\n",
    "model.compile(\n",
    "    loss=keras.losses.categorical_crossentropy,\n",
    "    optimizer=keras.optimizers.SGD(\n",
    "      lr=0.01, momentum=0.0, nesterov=False\n",
    "    ),\n",
    "#     optimizer=keras.optimizers.Adam(lr=0.0001),\n",
    "    metrics=['accuracy']\n",
    ")\n",
    "\n",
    "model.fit(\n",
    "    X_alex_hunter_train, y_alex_hunter_train,\n",
    "    batch_size=batch_size,\n",
    "    epochs=epochs,\n",
    "    verbose=1,\n",
    "    validation_data=(\n",
    "        X_alex_hunter_test, y_alex_hunter_test\n",
    "    )\n",
    ")"
   ]
  },
  {
   "cell_type": "markdown",
   "metadata": {},
   "source": [
    "# Evaluation\n",
    "Create confusion matrix"
   ]
  },
  {
   "cell_type": "code",
   "execution_count": 12,
   "metadata": {},
   "outputs": [
    {
     "data": {
      "text/plain": [
       "('Alex', [1.0, 0.0])"
      ]
     },
     "execution_count": 12,
     "metadata": {},
     "output_type": "execute_result"
    }
   ],
   "source": [
    "y_alex_hunter_labels_test[0], list(y_alex_hunter_test[0])"
   ]
  },
  {
   "cell_type": "code",
   "execution_count": 13,
   "metadata": {},
   "outputs": [],
   "source": [
    "predictions = model.predict(X_alex_hunter_test)"
   ]
  },
  {
   "cell_type": "code",
   "execution_count": null,
   "metadata": {},
   "outputs": [],
   "source": [
    "def to_choice(pred):\n",
    "    \"\"\"\n",
    "    Neural network returns a float for Hunter and a float for Alex\n",
    "    This function transforms this into an actual prediction,\n",
    "    based on which output's value is largest.\n",
    "    \n",
    "    e.g. [0.9496, 0.0504] -> [1, 0], codes for \"Alex\"\n",
    "    \"\"\"\n",
    "    if pred[0] > pred[1]:\n",
    "        # ALEX\n",
    "        return np.array([1,0]), 'Alex'\n",
    "    else:\n",
    "        # HUNTER\n",
    "        return np.array([0,1]), 'Hunter'\n",
    "    \n",
    "# outer = true, inner = predicted\n",
    "confusion = {\n",
    "    # of true zeros\n",
    "    'Alex true': {\n",
    "        # number predicted as 0\n",
    "        'Alex pred':0,\n",
    "        # number predicted as 1\n",
    "        'Hunter pred':0\n",
    "    },\n",
    "    # of true ones\n",
    "    'Hunter true': {\n",
    "        # number predicted as 0\n",
    "        'Alex pred':0,\n",
    "        # number predicted as 1\n",
    "        'Hunter pred':0\n",
    "    }\n",
    "}\n",
    "\n",
    "correct = 0\n",
    "for i in range(len(predictions)):\n",
    "    pred_choice, pred_label = to_choice(predictions[i])\n",
    "    true = y_alex_hunter_test[i]\n",
    "    true_label = 'Alex' if true[0] == 1 else 'Hunter'\n",
    "    if pred_label == true_label:\n",
    "        correct += 1\n",
    "    else:\n",
    "        print('Incorrect:', i)\n",
    "    confusion[true_label+' true'][pred_label+' pred'] += 1\n",
    "\n",
    "print(\"{0}% correct\".format(round(100*correct/len(predictions), 2)))"
   ]
  },
  {
   "cell_type": "code",
   "execution_count": 16,
   "metadata": {},
   "outputs": [
    {
     "data": {
      "image/png": "[encoded data removed]",
      "text/plain": [
       "<Figure size 432x288 with 1 Axes>"
      ]
     },
     "metadata": {
      "needs_background": "light"
     },
     "output_type": "display_data"
    }
   ],
   "source": [
    "plt.imshow(X_alex_hunter_test[57])\n",
    "plt.title(\"One wrong classification:\\nImage from Hunter, predicted as Alex\")\n",
    "plt.show()"
   ]
  },
  {
   "cell_type": "code",
   "execution_count": null,
   "metadata": {},
   "outputs": [],
   "source": []
  }
 ],
 "metadata": {
  "kernelspec": {
   "display_name": "Python 3",
   "language": "python",
   "name": "python3"
  },
  "language_info": {
   "codemirror_mode": {
    "name": "ipython",
    "version": 3
   },
   "file_extension": ".py",
   "mimetype": "text/x-python",
   "name": "python",
   "nbconvert_exporter": "python",
   "pygments_lexer": "ipython3",
   "version": "3.7.4"
  }
 },
 "nbformat": 4,
 "nbformat_minor": 4
}
