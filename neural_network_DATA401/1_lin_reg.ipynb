{
 "cells": [
  {
   "cell_type": "markdown",
   "metadata": {},
   "source": [
    "# Linear Regression"
   ]
  },
  {
   "cell_type": "markdown",
   "metadata": {},
   "source": [
    "#### Implement regression and accuracy calculation."
   ]
  },
  {
   "cell_type": "code",
   "execution_count": 1,
   "metadata": {},
   "outputs": [],
   "source": [
    "import pandas as pd\n",
    "import numpy as np\n",
    "import sys\n",
    "from sklearn.linear_model import LinearRegression\n",
    "from sklearn.model_selection import train_test_split\n",
    "import warnings\n",
    "warnings.filterwarnings(\"ignore\")"
   ]
  },
  {
   "cell_type": "code",
   "execution_count": 2,
   "metadata": {},
   "outputs": [],
   "source": [
    "def generate_model(data, y, features):\n",
    "    \"\"\"\n",
    "    Generate linear regression model coefficients\n",
    "    \n",
    "    Params:\n",
    "        data: a dataframe containing intercept and explanatory variables\n",
    "        y: a series of the response variable\n",
    "        features: array of features to include ('intercept' is automatically added)\n",
    "                    \n",
    "    Returns:\n",
    "        An array of computed model coefficients\n",
    "    \"\"\"\n",
    "    \n",
    "    features = [\"intercept\"] + features\n",
    "    mat_data = data.as_matrix(features)\n",
    "    betas = (np.matmul(np.matmul(np.linalg.inv(\n",
    "        np.matmul(mat_data.T, mat_data)), mat_data.T), y.as_matrix()))\n",
    "    return betas"
   ]
  },
  {
   "cell_type": "code",
   "execution_count": 3,
   "metadata": {},
   "outputs": [],
   "source": [
    "def calc_accuracy(X_test, y, coef, features, R2=False):\n",
    "    \"\"\"\n",
    "    Calculate accuracy metric for a model\n",
    "    \n",
    "    Params:\n",
    "        X_test: a dataframe containing intercept and explanatory variables\n",
    "        y: a series of the response variable\n",
    "        coef: array containing model coefficients\n",
    "        features: array of features to include ('intercept' is automatically added)\n",
    "        R2: boolean of whether to print R^2\n",
    "        \n",
    "    Returns:\n",
    "        A float representing prediction accuracy (MSE)\n",
    "    \"\"\"\n",
    "\n",
    "    features = [\"intercept\"] + features\n",
    "    mat_dat = X_test.as_matrix(features)\n",
    "    n = len(X_test)\n",
    "    var1 = np.matmul(mat_dat, coef.T)\n",
    "    residuals = y.as_matrix() - var1\n",
    "    sst = y.var() * len(y)\n",
    "    sse = np.sum(residuals**2) \n",
    "    if R2:\n",
    "        print(\"R^2 = \" + str(1 - sse/sst))\n",
    "    return sse/n"
   ]
  },
  {
   "cell_type": "markdown",
   "metadata": {},
   "source": [
    "#### Import and set up dataset."
   ]
  },
  {
   "cell_type": "code",
   "execution_count": 4,
   "metadata": {},
   "outputs": [],
   "source": [
    "df = pd.read_csv(\"data.csv\",index_col=0)\n",
    "for col in df:\n",
    "    df[col] = (df[col] - df[col].min())/(df[col].max() - df[col].min())"
   ]
  },
  {
   "cell_type": "code",
   "execution_count": 5,
   "metadata": {},
   "outputs": [],
   "source": [
    "y = df['price_doc'].copy()\n",
    "X = df.drop('price_doc',axis=1)\n",
    "X_train, X_test, y_train, y_test = train_test_split(X, y)\n",
    "X_traini = X_train.copy()\n",
    "X_traini['intercept'] = 1\n",
    "X_testi = X_test.copy()\n",
    "X_testi['intercept'] = 1\n",
    "feat = list(X.columns[:len(X.columns)-1])"
   ]
  },
  {
   "cell_type": "code",
   "execution_count": 9,
   "metadata": {},
   "outputs": [
    {
     "data": {
      "text/plain": [
       "Index(['full_sq', 'life_sq', 'floor', 'num_room', 'state', 'product_type',\n",
       "       'raion_popul', 'green_zone_part', 'indust_part', 'children_preschool',\n",
       "       'children_school', 'healthcare_centers_raion',\n",
       "       'university_top_20_raion', 'culture_objects_top_25_raion',\n",
       "       'shopping_centers_raion', 'oil_chemistry_raion', 'radiation_raion',\n",
       "       'railroad_terminal_raion', 'big_market_raion', 'nuclear_reactor_raion',\n",
       "       'detention_facility_raion', 'work_all', 'ekder_all', 'park_km',\n",
       "       'public_transport_station_km', 'big_road1_km', 'fitness_km',\n",
       "       'big_church_count_5000', 'mosque_count_5000', 'cafe_avg_price_5000',\n",
       "       'office_count_5000', 'ecology', 'salary', 'cpi', 'usdrub',\n",
       "       'mortgage_rate', 'unemployment', 'bandwidth_sports',\n",
       "       'rent_price_2room_eco'],\n",
       "      dtype='object')"
      ]
     },
     "execution_count": 9,
     "metadata": {},
     "output_type": "execute_result"
    }
   ],
   "source": [
    "X.columns"
   ]
  },
  {
   "cell_type": "markdown",
   "metadata": {},
   "source": [
    "#### Run linear regression."
   ]
  },
  {
   "cell_type": "code",
   "execution_count": 10,
   "metadata": {},
   "outputs": [],
   "source": [
    "betas = generate_model(X_traini,y_train,feat)"
   ]
  },
  {
   "cell_type": "code",
   "execution_count": 11,
   "metadata": {},
   "outputs": [
    {
     "name": "stdout",
     "output_type": "stream",
     "text": [
      "R^2 = 0.46160285118697375\n"
     ]
    },
    {
     "data": {
      "text/plain": [
       "0.0011031736542436797"
      ]
     },
     "execution_count": 11,
     "metadata": {},
     "output_type": "execute_result"
    }
   ],
   "source": [
    "calc_accuracy(X_testi, y_test, betas, feat,R2=True)"
   ]
  },
  {
   "cell_type": "markdown",
   "metadata": {},
   "source": [
    "#### Compare to scikit-learn."
   ]
  },
  {
   "cell_type": "code",
   "execution_count": 12,
   "metadata": {},
   "outputs": [
    {
     "data": {
      "text/plain": [
       "0.4614794639603329"
      ]
     },
     "execution_count": 12,
     "metadata": {},
     "output_type": "execute_result"
    }
   ],
   "source": [
    "linreg = LinearRegression()\n",
    "fit = linreg.fit(X_train,y_train)\n",
    "fit.score(X_test,y_test)"
   ]
  },
  {
   "cell_type": "markdown",
   "metadata": {},
   "source": [
    "R^2 is very close to scikit-learn's."
   ]
  },
  {
   "cell_type": "markdown",
   "metadata": {},
   "source": [
    "#### Optimize feature set."
   ]
  },
  {
   "cell_type": "markdown",
   "metadata": {},
   "source": [
    "Based on prediction accuracy with 5-fold cross validation"
   ]
  },
  {
   "cell_type": "code",
   "execution_count": 15,
   "metadata": {},
   "outputs": [
    {
     "name": "stdout",
     "output_type": "stream",
     "text": [
      "Chose: life_sq (0.0014645458910447437)\n",
      "Chose: product_type (0.0013254011334959189)\n",
      "Chose: park_km (0.0012672458829675703)\n",
      "Chose: bandwidth_sports (0.0012296944083203007)\n",
      "Chose: office_count_5000 (0.001199473392690629)\n",
      "Chose: culture_objects_top_25_raion (0.0011726579879252682)\n",
      "Chose: floor (0.0011512000631567207)\n",
      "Chose: ekder_all (0.0011395880252318608)\n",
      "Chose: num_room (0.0011289097240660764)\n",
      "Chose: big_church_count_5000 (0.0011192005550694438)\n",
      "Chose: indust_part (0.0011117174383623138)\n",
      "Chose: mosque_count_5000 (0.0011064358148436839)\n",
      "Chose: ecology (0.0011006496538824198)\n",
      "Chose: healthcare_centers_raion (0.0010962179574878724)\n",
      "Chose: railroad_terminal_raion (0.0010938169271714517)\n",
      "Chose: fitness_km (0.001091741219474969)\n",
      "Chose: big_market_raion (0.0010893603683215206)\n",
      "Chose: big_road1_km (0.0010872450522384104)\n",
      "Chose: green_zone_part (0.00108614447370202)\n",
      "Chose: nuclear_reactor_raion (0.001085363248575072)\n",
      "Chose: work_all (0.001084697519828985)\n",
      "Chose: cpi (0.0010840996561873972)\n",
      "Chose: mortgage_rate (0.0010829914461994532)\n",
      "Chose: university_top_20_raion (0.0010827205804315484)\n",
      "Chose: children_school (0.001082626986499488)\n",
      "Chose: raion_popul (0.0010823533454453204)\n",
      "Chose: children_preschool (0.00108196090435489)\n",
      "Found Optimal Model, (27 features of 38)\n",
      "['life_sq', 'product_type', 'park_km', 'bandwidth_sports', 'office_count_5000', 'culture_objects_top_25_raion', 'floor', 'ekder_all', 'num_room', 'big_church_count_5000', 'indust_part', 'mosque_count_5000', 'ecology', 'healthcare_centers_raion', 'railroad_terminal_raion', 'fitness_km', 'big_market_raion', 'big_road1_km', 'green_zone_part', 'nuclear_reactor_raion', 'work_all', 'cpi', 'mortgage_rate', 'university_top_20_raion', 'children_school', 'raion_popul', 'children_preschool']\n",
      "[ 8.01025282e-05  6.33265184e-01  9.23826017e-03 -3.10026390e-02\n",
      "  5.38499292e-03  1.12591969e-01 -6.20203354e-02  6.17038676e-02\n",
      "  7.90591434e-01  1.03519544e-01 -7.53963070e-02 -1.77159210e-02\n",
      "  8.58240477e-03  1.01954239e-02  1.23976423e-02 -1.06640508e-02\n",
      " -4.47968859e-02 -4.98559914e-03 -7.91428716e-03 -6.79375587e-03\n",
      "  4.25195523e-03  2.17672437e+00  1.86819274e-02 -3.75948930e-03\n",
      "  1.31029139e-02  3.21863609e-01 -3.35674299e+00  2.32310234e-01]\n",
      "R^2 = 0.4611069622154469\n",
      "0.0012613045256317896\n"
     ]
    }
   ],
   "source": [
    "last_err = sys.maxsize    # Last model prediction accuracy\n",
    "model_err = sys.maxsize   # Current model prediction accuracy\n",
    "pred_features = []     # Current features in model\n",
    "target_feature = None     # Current best feature\n",
    "best_coefs = None\n",
    "features = feat\n",
    "X['intercept']=1\n",
    "while len(pred_features) < len(features):\n",
    "    for feature in list(set(features) - set(pred_features)):\n",
    "        folds = 5\n",
    "        sp = len(X)/folds\n",
    "        err = []\n",
    "        for i in range(folds):\n",
    "            lower = int(sp * i)\n",
    "            upper = int(sp * (i+1))\n",
    "            test_x = X.iloc[lower:upper]\n",
    "            test_y = y.iloc[lower:upper]\n",
    "            train_x = pd.concat((X.iloc[:lower], X.iloc[upper:]))\n",
    "            train_y = pd.concat((y.iloc[:lower], y.iloc[upper:]))    \n",
    "            \n",
    "            try_features = pred_features + [feature]\n",
    "            coefs = generate_model(train_x, train_y, try_features)\n",
    "            err += [calc_accuracy(test_x, test_y, coefs, try_features)]\n",
    "        cur_err = sum(err)/len(err)\n",
    "        # Record feature if it has lowest error so far\n",
    "        if last_err is None or cur_err < last_err:\n",
    "            last_err = cur_err\n",
    "            target_feature = feature\n",
    "            best_coefs = coefs\n",
    "    # If the best feature improves the model's prediction error, add it\n",
    "    if last_err < model_err:\n",
    "        pred_features.append(target_feature)\n",
    "        model_err = last_err\n",
    "        print(\"Chose: \" + target_feature + \" (\" + str(model_err) + \")\")\n",
    "    # Otherwise, quit\n",
    "    else:\n",
    "        print(\"Found Optimal Model, (%d features of %d)\" % (len(pred_features), len(features)))\n",
    "        print(pred_features)\n",
    "        print(best_coefs)\n",
    "        print(calc_accuracy(test_x, test_y, best_coefs, pred_features, True))\n",
    "        break"
   ]
  },
  {
   "cell_type": "code",
   "execution_count": null,
   "metadata": {},
   "outputs": [],
   "source": []
  }
 ],
 "metadata": {
  "kernelspec": {
   "display_name": "Python 3",
   "language": "python",
   "name": "python3"
  },
  "language_info": {
   "codemirror_mode": {
    "name": "ipython",
    "version": 3
   },
   "file_extension": ".py",
   "mimetype": "text/x-python",
   "name": "python",
   "nbconvert_exporter": "python",
   "pygments_lexer": "ipython3",
   "version": "3.7.4"
  }
 },
 "nbformat": 4,
 "nbformat_minor": 4
}
