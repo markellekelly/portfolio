{
 "cells": [
  {
   "cell_type": "markdown",
   "metadata": {},
   "source": [
    "# Presentation"
   ]
  },
  {
   "cell_type": "markdown",
   "metadata": {},
   "source": [
    "## Exploration and Modeling of U.S. Permanent Visa Applications, 2012-2017"
   ]
  },
  {
   "cell_type": "markdown",
   "metadata": {},
   "source": [
    "This project takes a close look at United States Permanent Visa Applications submitted between 2012 and 2017. An exploratory data analysis examines which employers and industries are bringing in the most immigrants, where these immigrants are moving to, and where they are coming from. It also begins to investigate which factors are correlated with visa approval. For my challenge area, I looked at several methods of topic extraction for text columns about applicants' jobs and industries, including Latent Dirichlet Allocation and two models of non-negative matrix factorization. Finally, this project aims to predict whether visa applications will be approved or denied using logistic regression and machine learning."
   ]
  },
  {
   "cell_type": "markdown",
   "metadata": {},
   "source": [
    "In order for U.S. employers to hire a foreign worker permanently, the worker must be approved for a certification, or visa, by the U.S. Department of Labor. Data on these applications is posted annually in different sets on the Department's website, which were combined into one large data set and posted on Kaggle by Jacob Boysen (jboysen) as \"us-perm-visas\".<br>\n",
    "This data set, with nearly 375,000 observations and over 70 columns, contains information on all U.S. permanent work visa applications from 2012 to 2017, including employer, position, wage offered, job posting history, employee education, and final decision."
   ]
  },
  {
   "cell_type": "markdown",
   "metadata": {},
   "source": [
    "- Which employers, cities, and industries are bringing in the most immigrants? What countries are they coming from?\n",
    "- What factors are correlated with whether a visa request will be approved or denied?\n",
    "- How can I use natural language processing to determine the essential industries and fields bringing in immigrants?\n",
    "- Can I predict whether a visa request will be approved or denied?"
   ]
  },
  {
   "cell_type": "markdown",
   "metadata": {},
   "source": [
    "## Import and Tidy Discussion"
   ]
  },
  {
   "cell_type": "markdown",
   "metadata": {},
   "source": [
    "Refer to Notebook 2: [Import and Tidy](02-Import & Tidy.ipynb)<br>"
   ]
  },
  {
   "cell_type": "code",
   "execution_count": 1,
   "metadata": {},
   "outputs": [],
   "source": [
    "import pandas as pd\n",
    "import numpy as np"
   ]
  },
  {
   "cell_type": "code",
   "execution_count": 2,
   "metadata": {},
   "outputs": [],
   "source": [
    "visas = pd.read_csv('/data/markellekelly/visas.csv',parse_dates=['decision_date'],\n",
    "                   dtype=str,index_col=0)"
   ]
  },
  {
   "cell_type": "code",
   "execution_count": 3,
   "metadata": {},
   "outputs": [],
   "source": [
    "numeric_list = ['employer_num_employees','job_info_experience_num_months','overall_wage_offer','employer_desperation',\n",
    "               'annual_wage']\n",
    "for x in numeric_list:\n",
    "    visas[x] = visas[x].apply(pd.to_numeric)"
   ]
  },
  {
   "cell_type": "markdown",
   "metadata": {},
   "source": [
    "## Important Data Analysis and Visualizations"
   ]
  },
  {
   "cell_type": "code",
   "execution_count": 4,
   "metadata": {},
   "outputs": [],
   "source": [
    "import altair as alt\n",
    "from vega_datasets import data\n",
    "cities = visas['case_no'].groupby(visas['job_info_work_city']).aggregate('count').reset_index()\n",
    "cities.sort_values(by='case_no',ascending=False)\n",
    "top75cities = cities.sort_values(by='case_no',ascending=False)[:75]\n",
    "top75cities['latitude'] = [40.7128,30.6280,37.3382,47.6740,29.7604,\n",
    "                           37.7749,37.3861,37.3541,37.3688,47.6062,\n",
    "                           33.0198,41.8781,34.0522,32.7157,40.5187,\n",
    "                           32.8140,33.7490,30.2672,32.7791,37.5483,\n",
    "                           45.5229,37.3230,37.4419,40.7282,42.3601,\n",
    "                           42.7284,25.7617,33.6846,42.4990,39.9612,\n",
    "                           40.5549,34.0754,37.4530,38.9072,27.9506,\n",
    "                           47.6101,38.9696,40.5754,38.6780,40.3573,\n",
    "                           32.9483,40.5940,40.4317,35.2271,40.4406,\n",
    "                           33.3062,37.5364,37.4323,42.3736,40.7357,\n",
    "                           40.8932,40.6782,33.4484,39.9526,37.4852,\n",
    "                           42.0334,37.7022,37.5407,42.4793,38.9586,\n",
    "                           35.7915,34.0007,41.9868,40.4976,38.2527,\n",
    "                           42.4734,29.4241,38.8462,40.5793,37.6624,\n",
    "                           39.2904,32.3668,40.3383,37.5630,38.8943]\n",
    "top75cities['longitude'] =[74.0060,96.3344,121.8863,122.1215,95.3698,\n",
    "                           122.4194,122.0839,121.9552,122.0363,122.3321,\n",
    "                           96.6989,87.6298,118.2437,117.1611,74.4121,\n",
    "                           96.9489,84.3880,97.7431,96.8003,121.9886,\n",
    "                           122.9898,122.0322,122.1430,74.0776,71.0589,\n",
    "                           73.6918,80.1918,117.8265,83.3677,82.9988,\n",
    "                           74.4643,84.2941,122.1817,77.0369,82.4572,\n",
    "                           122.2015,77.3861,74.3224,121.1761,74.6672,\n",
    "                           96.7299,74.6049,74.4050,80.8431,79.9959,\n",
    "                           111.8413,122.2455,121.8996,71.1097,74.1724,\n",
    "                           74.0117,73.9442,112.0740,75.1652,122.2364,\n",
    "                           88.0834,121.9358,77.4360,71.1523,77.3570,\n",
    "                           78.7811,81.0348,87.8722,74.4885,85.7585,\n",
    "                           83.2219,98.4936,77.3064,74.4115,121.8747,\n",
    "                           76.6122,86.3000,74.5853,122.3255,77.4311]\n",
    "top75cities['longitude'] = top75cities['longitude'] * -1"
   ]
  },
  {
   "cell_type": "code",
   "execution_count": 5,
   "metadata": {},
   "outputs": [],
   "source": [
    "def top_employer(x):\n",
    "    subset = visas[visas['job_info_work_city'] == x]\n",
    "    groups = subset['case_no'].groupby(visas['employer_name']).aggregate('count').reset_index()\n",
    "    sort = groups.sort_values(by='case_no',ascending=False)\n",
    "    return (sort.iloc[0]['employer_name'],sort.iloc[0]['case_no'])"
   ]
  },
  {
   "cell_type": "code",
   "execution_count": 6,
   "metadata": {},
   "outputs": [],
   "source": [
    "employer1_list = []\n",
    "employer_count_list = []\n",
    "for val in top75cities['job_info_work_city']:\n",
    "    emp1, emp2 = top_employer(val)\n",
    "    employer1_list.append(emp1)\n",
    "    employer_count_list.append(emp2)\n",
    "top75cities['top_employer'] = employer1_list\n",
    "top75cities['employer_count'] = employer_count_list"
   ]
  },
  {
   "cell_type": "code",
   "execution_count": 7,
   "metadata": {},
   "outputs": [
    {
     "data": {
      "application/vnd.vegalite.v2+json": {
       "$schema": "https://vega.github.io/schema/vega-lite/v2.json",
       "config": {
        "view": {
         "height": 300,
         "width": 400
        }
       },
       "hconcat": [
        {
         "data": {
          "values": [
           {
            "case_no": 17758,
            "employer_count": 775,
            "job_info_work_city": "NEW YORK",
            "latitude": 40.7128,
            "longitude": -74.006,
            "top_employer": "BLOOMBERG L.P."
           },
           {
            "case_no": 10964,
            "employer_count": 10872,
            "job_info_work_city": "COLLEGE STATION",
            "latitude": 30.628,
            "longitude": -96.3344,
            "top_employer": "COGNIZANT TECHNOLOGY SOLUTIONS US CORPORATION"
           },
           {
            "case_no": 8355,
            "employer_count": 1945,
            "job_info_work_city": "SAN JOSE",
            "latitude": 37.3382,
            "longitude": -121.8863,
            "top_employer": "CISCO SYSTEMS INC."
           },
           {
            "case_no": 7902,
            "employer_count": 7207,
            "job_info_work_city": "REDMOND",
            "latitude": 47.674,
            "longitude": -122.1215,
            "top_employer": "MICROSOFT CORPORATION"
           },
           {
            "case_no": 7667,
            "employer_count": 146,
            "job_info_work_city": "HOUSTON",
            "latitude": 29.7604,
            "longitude": -95.3698,
            "top_employer": "TECHNIP USA INC."
           },
           {
            "case_no": 7079,
            "employer_count": 700,
            "job_info_work_city": "SAN FRANCISCO",
            "latitude": 37.7749,
            "longitude": -122.4194,
            "top_employer": "SALESFORCE.COM"
           },
           {
            "case_no": 6740,
            "employer_count": 3809,
            "job_info_work_city": "MOUNTAIN VIEW",
            "latitude": 37.3861,
            "longitude": -122.0839,
            "top_employer": "GOOGLE INC."
           },
           {
            "case_no": 5806,
            "employer_count": 1114,
            "job_info_work_city": "SANTA CLARA",
            "latitude": 37.3541,
            "longitude": -121.9552,
            "top_employer": "INTEL CORPORATION"
           },
           {
            "case_no": 5530,
            "employer_count": 1259,
            "job_info_work_city": "SUNNYVALE",
            "latitude": 37.3688,
            "longitude": -122.0363,
            "top_employer": "YAHOO! INC."
           },
           {
            "case_no": 5202,
            "employer_count": 3436,
            "job_info_work_city": "SEATTLE",
            "latitude": 47.6062,
            "longitude": -122.3321,
            "top_employer": "AMAZON CORPORATE LLC"
           },
           {
            "case_no": 4968,
            "employer_count": 2498,
            "job_info_work_city": "PLANO",
            "latitude": 33.0198,
            "longitude": -96.6989,
            "top_employer": "INFOSYS LTD."
           },
           {
            "case_no": 4438,
            "employer_count": 349,
            "job_info_work_city": "CHICAGO",
            "latitude": 41.8781,
            "longitude": -87.6298,
            "top_employer": "CAPGEMINI U.S. LLC"
           },
           {
            "case_no": 4176,
            "employer_count": 76,
            "job_info_work_city": "LOS ANGELES",
            "latitude": 34.0522,
            "longitude": -118.2437,
            "top_employer": "LOS ANGELES UNIFIED SCHOOL DISTRICT"
           },
           {
            "case_no": 3979,
            "employer_count": 1333,
            "job_info_work_city": "SAN DIEGO",
            "latitude": 32.7157,
            "longitude": -117.1611,
            "top_employer": "QUALCOMM TECHNOLOGIES INC."
           },
           {
            "case_no": 3969,
            "employer_count": 421,
            "job_info_work_city": "EDISON",
            "latitude": 40.5187,
            "longitude": -74.4121,
            "top_employer": "LARSEN & TOUBRO INFOTECH LIMITED"
           },
           {
            "case_no": 3391,
            "employer_count": 177,
            "job_info_work_city": "IRVING",
            "latitude": 32.814,
            "longitude": -96.9489,
            "top_employer": "VERIZON COMMUNICATIONS INC. & ALL ITS SUBSIDIARIES & AFFILIATES"
           },
           {
            "case_no": 3187,
            "employer_count": 336,
            "job_info_work_city": "ATLANTA",
            "latitude": 33.749,
            "longitude": -84.388,
            "top_employer": "MANHATTAN ASSOCIATES INC."
           },
           {
            "case_no": 3108,
            "employer_count": 261,
            "job_info_work_city": "AUSTIN",
            "latitude": 30.2672,
            "longitude": -97.7431,
            "top_employer": "INTEL CORPORATION"
           },
           {
            "case_no": 3025,
            "employer_count": 359,
            "job_info_work_city": "DALLAS",
            "latitude": 32.7791,
            "longitude": -96.8003,
            "top_employer": "DALLAS INDEPENDENT SCHOOL DISTRICT"
           },
           {
            "case_no": 3010,
            "employer_count": 447,
            "job_info_work_city": "FREMONT",
            "latitude": 37.5483,
            "longitude": -121.9886,
            "top_employer": "INFOSYS TECHNOLOGIES LIMITED"
           },
           {
            "case_no": 2878,
            "employer_count": 2670,
            "job_info_work_city": "HILLSBORO",
            "latitude": 45.5229,
            "longitude": -122.9898,
            "top_employer": "INTEL CORPORATION"
           },
           {
            "case_no": 2831,
            "employer_count": 2437,
            "job_info_work_city": "CUPERTINO",
            "latitude": 37.323,
            "longitude": -122.0322,
            "top_employer": "APPLE INC."
           },
           {
            "case_no": 2622,
            "employer_count": 750,
            "job_info_work_city": "PALO ALTO",
            "latitude": 37.4419,
            "longitude": -122.143,
            "top_employer": "VMWARE INC."
           },
           {
            "case_no": 2566,
            "employer_count": 481,
            "job_info_work_city": "JERSEY CITY",
            "latitude": 40.7282,
            "longitude": -74.0776,
            "top_employer": "HCL AMERICA INC."
           },
           {
            "case_no": 2269,
            "employer_count": 196,
            "job_info_work_city": "BOSTON",
            "latitude": 42.3601,
            "longitude": -71.0589,
            "top_employer": "SAPIENT CORPORATION"
           },
           {
            "case_no": 2233,
            "employer_count": 425,
            "job_info_work_city": "TROY",
            "latitude": 42.7284,
            "longitude": -73.6918,
            "top_employer": "HTC GLOBAL SERVICES INC."
           },
           {
            "case_no": 2127,
            "employer_count": 113,
            "job_info_work_city": "MIAMI",
            "latitude": 25.7617,
            "longitude": -80.1918,
            "top_employer": "PURE BEAUTY FARMS INC"
           },
           {
            "case_no": 2062,
            "employer_count": 310,
            "job_info_work_city": "IRVINE",
            "latitude": 33.6846,
            "longitude": -117.8265,
            "top_employer": "BROADCOM CORPORATION"
           },
           {
            "case_no": 1948,
            "employer_count": 343,
            "job_info_work_city": "FARMINGTON HILLS",
            "latitude": 42.499,
            "longitude": -83.3677,
            "top_employer": "HCL GLOBAL SYSTEMS INC"
           },
           {
            "case_no": 1908,
            "employer_count": 559,
            "job_info_work_city": "COLUMBUS",
            "latitude": 39.9612,
            "longitude": -82.9988,
            "top_employer": "CUMMINS INC."
           },
           {
            "case_no": 1843,
            "employer_count": 216,
            "job_info_work_city": "PISCATAWAY",
            "latitude": 40.5549,
            "longitude": -74.4643,
            "top_employer": "MARLABS INC"
           },
           {
            "case_no": 1766,
            "employer_count": 77,
            "job_info_work_city": "ALPHARETTA",
            "latitude": 34.0754,
            "longitude": -84.2941,
            "top_employer": "VIRTUE GROUP LLC."
           },
           {
            "case_no": 1702,
            "employer_count": 1372,
            "job_info_work_city": "MENLO PARK",
            "latitude": 37.453,
            "longitude": -122.1817,
            "top_employer": "FACEBOOK INC."
           },
           {
            "case_no": 1692,
            "employer_count": 63,
            "job_info_work_city": "WASHINGTON",
            "latitude": 38.9072,
            "longitude": -77.0369,
            "top_employer": "BOARD OF GOVERNORS OF THE FEDERAL RESERVE SYSTEM"
           },
           {
            "case_no": 1679,
            "employer_count": 782,
            "job_info_work_city": "TAMPA",
            "latitude": 27.9506,
            "longitude": -82.4572,
            "top_employer": "KFORCE INC."
           },
           {
            "case_no": 1616,
            "employer_count": 277,
            "job_info_work_city": "BELLEVUE",
            "latitude": 47.6101,
            "longitude": -122.2015,
            "top_employer": "EXPEDIA INC."
           },
           {
            "case_no": 1575,
            "employer_count": 137,
            "job_info_work_city": "HERNDON",
            "latitude": 38.9696,
            "longitude": -77.3861,
            "top_employer": "IDEXCEL INC"
           },
           {
            "case_no": 1559,
            "employer_count": 226,
            "job_info_work_city": "ISELIN",
            "latitude": 40.5754,
            "longitude": -74.3224,
            "top_employer": "POLARIS SOFTWARE LAB (INDIA) LTD."
           },
           {
            "case_no": 1528,
            "employer_count": 1107,
            "job_info_work_city": "FOLSOM",
            "latitude": 38.678,
            "longitude": -121.1761,
            "top_employer": "INTEL CORPORATION"
           },
           {
            "case_no": 1426,
            "employer_count": 110,
            "job_info_work_city": "PRINCETON",
            "latitude": 40.3573,
            "longitude": -74.6672,
            "top_employer": "PAMTEN INC."
           },
           {
            "case_no": 1354,
            "employer_count": 267,
            "job_info_work_city": "RICHARDSON",
            "latitude": 32.9483,
            "longitude": -96.7299,
            "top_employer": "FUJITSU AMERICA INC."
           },
           {
            "case_no": 1336,
            "employer_count": 822,
            "job_info_work_city": "BRIDGEWATER",
            "latitude": 40.594,
            "longitude": -74.6049,
            "top_employer": "IGATE TECHNOLOGIES INC."
           },
           {
            "case_no": 1309,
            "employer_count": 1055,
            "job_info_work_city": "EAST BRUNSWICK",
            "latitude": 40.4317,
            "longitude": -74.405,
            "top_employer": "WIPRO LIMITED"
           },
           {
            "case_no": 1290,
            "employer_count": 210,
            "job_info_work_city": "CHARLOTTE",
            "latitude": 35.2271,
            "longitude": -80.8431,
            "top_employer": "BANK OF AMERICA"
           },
           {
            "case_no": 1260,
            "employer_count": 365,
            "job_info_work_city": "PITTSBURGH",
            "latitude": 40.4406,
            "longitude": -79.9959,
            "top_employer": "MASTECH INC. A MASTECH HOLDINGS INC. COMPANY"
           },
           {
            "case_no": 1247,
            "employer_count": 667,
            "job_info_work_city": "CHANDLER",
            "latitude": 33.3062,
            "longitude": -111.8413,
            "top_employer": "INTEL CORPORATION"
           },
           {
            "case_no": 1240,
            "employer_count": 1172,
            "job_info_work_city": "REDWOOD SHORES",
            "latitude": 37.5364,
            "longitude": -122.2455,
            "top_employer": "ORACLE AMERICA INC."
           },
           {
            "case_no": 1169,
            "employer_count": 290,
            "job_info_work_city": "MILPITAS",
            "latitude": 37.4323,
            "longitude": -121.8996,
            "top_employer": "SANDISK CORPORATION"
           },
           {
            "case_no": 1157,
            "employer_count": 204,
            "job_info_work_city": "CAMBRIDGE",
            "latitude": 42.3736,
            "longitude": -71.1097,
            "top_employer": "PATNI AMERICAS INC."
           },
           {
            "case_no": 1150,
            "employer_count": 83,
            "job_info_work_city": "NEWARK",
            "latitude": 40.7357,
            "longitude": -74.1724,
            "top_employer": "HALLMARK GLOBAL TECHNOLOGIES INC."
           },
           {
            "case_no": 1111,
            "employer_count": 1064,
            "job_info_work_city": "TEANECK",
            "latitude": 40.8932,
            "longitude": -74.0117,
            "top_employer": "COGNIZANT TECHNOLOGY SOLUTIONS US CORPORATION"
           },
           {
            "case_no": 1055,
            "employer_count": 236,
            "job_info_work_city": "BROOKLYN",
            "latitude": 40.6782,
            "longitude": -73.9442,
            "top_employer": "NEW YORK CITY DEPARTMENT OF EDUCATION"
           },
           {
            "case_no": 1043,
            "employer_count": 202,
            "job_info_work_city": "PHOENIX",
            "latitude": 33.4484,
            "longitude": -112.074,
            "top_employer": "AMERICAN EXPRESS TRAVEL RELATED SERVICES"
           },
           {
            "case_no": 1023,
            "employer_count": 94,
            "job_info_work_city": "PHILADELPHIA",
            "latitude": 39.9526,
            "longitude": -75.1652,
            "top_employer": "COMCAST CABLE COMMUNICATIONS LLC"
           },
           {
            "case_no": 1014,
            "employer_count": 91,
            "job_info_work_city": "REDWOOD CITY",
            "latitude": 37.4852,
            "longitude": -122.2364,
            "top_employer": "INFORMATICA CORPORATION"
           },
           {
            "case_no": 1007,
            "employer_count": 114,
            "job_info_work_city": "SCHAUMBURG",
            "latitude": 42.0334,
            "longitude": -88.0834,
            "top_employer": "GLOBAL INFOTECH INC"
           },
           {
            "case_no": 974,
            "employer_count": 208,
            "job_info_work_city": "DUBLIN",
            "latitude": 37.7022,
            "longitude": -121.9358,
            "top_employer": "ERP ANALYSTS INC"
           },
           {
            "case_no": 972,
            "employer_count": 252,
            "job_info_work_city": "RICHMOND",
            "latitude": 37.5407,
            "longitude": -77.436,
            "top_employer": "CAPITAL ONE SERVICES LLC"
           },
           {
            "case_no": 963,
            "employer_count": 790,
            "job_info_work_city": "WOBURN",
            "latitude": 42.4793,
            "longitude": -71.1523,
            "top_employer": "RANDSTAD TECHNOLOGIES LP"
           },
           {
            "case_no": 956,
            "employer_count": 81,
            "job_info_work_city": "RESTON",
            "latitude": 38.9586,
            "longitude": -77.357,
            "top_employer": "HEADSTRONG SERVICES LLC"
           },
           {
            "case_no": 945,
            "employer_count": 334,
            "job_info_work_city": "CARY",
            "latitude": 35.7915,
            "longitude": -78.7811,
            "top_employer": "HCL AMERICA INC."
           },
           {
            "case_no": 944,
            "employer_count": 98,
            "job_info_work_city": "COLUMBIA",
            "latitude": 34.0007,
            "longitude": -81.0348,
            "top_employer": "QUALITY SOFTWARE SERVICES INC."
           },
           {
            "case_no": 940,
            "employer_count": 831,
            "job_info_work_city": "ROSEMONT",
            "latitude": 41.9868,
            "longitude": -87.8722,
            "top_employer": "CAPGEMINI FINANCIAL SERVICES USA INC."
           },
           {
            "case_no": 939,
            "employer_count": 221,
            "job_info_work_city": "SOMERSET",
            "latitude": 40.4976,
            "longitude": -74.4885,
            "top_employer": "NATSOFT CORPORATION"
           },
           {
            "case_no": 931,
            "employer_count": 457,
            "job_info_work_city": "LOUISVILLE",
            "latitude": 38.2527,
            "longitude": -85.7585,
            "top_employer": "V-SOFT CONSULTING GROUP INC."
           },
           {
            "case_no": 927,
            "employer_count": 327,
            "job_info_work_city": "SOUTHFIELD",
            "latitude": 42.4734,
            "longitude": -83.2219,
            "top_employer": "TECHNOSOFT CORPORATION"
           },
           {
            "case_no": 906,
            "employer_count": 96,
            "job_info_work_city": "SAN ANTONIO",
            "latitude": 29.4241,
            "longitude": -98.4936,
            "top_employer": "RACKSPACE US INC."
           },
           {
            "case_no": 899,
            "employer_count": 216,
            "job_info_work_city": "FAIRFAX",
            "latitude": 38.8462,
            "longitude": -77.3064,
            "top_employer": "CGI TECHNOLOGIES AND SOLUTIONS INC."
           },
           {
            "case_no": 896,
            "employer_count": 107,
            "job_info_work_city": "SOUTH PLAINFIELD",
            "latitude": 40.5793,
            "longitude": -74.4115,
            "top_employer": "ASTIR IT SOLUTIONS INC"
           },
           {
            "case_no": 893,
            "employer_count": 122,
            "job_info_work_city": "PLEASANTON",
            "latitude": 37.6624,
            "longitude": -121.8747,
            "top_employer": "TELECOM TECHNOLOGY SERVICES INC."
           },
           {
            "case_no": 884,
            "employer_count": 268,
            "job_info_work_city": "BALTIMORE",
            "latitude": 39.2904,
            "longitude": -76.6122,
            "top_employer": "BALTIMORE CITY PUBLIC SCHOOL SYSTEM"
           },
           {
            "case_no": 867,
            "employer_count": 592,
            "job_info_work_city": "MONTGOMERY",
            "latitude": 32.3668,
            "longitude": -86.3,
            "top_employer": "KOCH FOODS OF ALABAMA LLC"
           },
           {
            "case_no": 835,
            "employer_count": 521,
            "job_info_work_city": "PLAINSBORO",
            "latitude": 40.3383,
            "longitude": -74.5853,
            "top_employer": "COMPUNNEL SOFTWARE GROUP INC."
           },
           {
            "case_no": 812,
            "employer_count": 47,
            "job_info_work_city": "SAN MATEO",
            "latitude": 37.563,
            "longitude": -122.3255,
            "top_employer": "SALESFORCE.COM"
           },
           {
            "case_no": 803,
            "employer_count": 103,
            "job_info_work_city": "CHANTILLY",
            "latitude": 38.8943,
            "longitude": -77.4311,
            "top_employer": "USM BUSINESS SYSTEMS INC"
           }
          ]
         },
         "encoding": {
          "color": {
           "value": "purple"
          },
          "x": {
           "axis": {
            "title": "Top Employer"
           },
           "field": "top_employer",
           "type": "nominal"
          },
          "y": {
           "axis": {
            "title": "Employer Visa Requests"
           },
           "field": "employer_count",
           "scale": {
            "domain": [
             0,
             12000
            ]
           },
           "type": "quantitative"
          }
         },
         "height": 200,
         "mark": "bar",
         "transform": [
          {
           "filter": {
            "selection": "selector001"
           }
          }
         ],
         "width": 30
        },
        {
         "layer": [
          {
           "data": {
            "format": {
             "feature": "states",
             "type": "topojson"
            },
            "url": "https://vega.github.io/vega-datasets/data/us-10m.json"
           },
           "height": 400,
           "mark": {
            "fill": "lightgray",
            "stroke": "white",
            "type": "geoshape"
           },
           "projection": {
            "type": "albersUsa"
           },
           "title": "Top 75 Cities for Permanent Visa Requests",
           "width": 650
          },
          {
           "data": {
            "values": [
             {
              "case_no": 17758,
              "employer_count": 775,
              "job_info_work_city": "NEW YORK",
              "latitude": 40.7128,
              "longitude": -74.006,
              "top_employer": "BLOOMBERG L.P."
             },
             {
              "case_no": 10964,
              "employer_count": 10872,
              "job_info_work_city": "COLLEGE STATION",
              "latitude": 30.628,
              "longitude": -96.3344,
              "top_employer": "COGNIZANT TECHNOLOGY SOLUTIONS US CORPORATION"
             },
             {
              "case_no": 8355,
              "employer_count": 1945,
              "job_info_work_city": "SAN JOSE",
              "latitude": 37.3382,
              "longitude": -121.8863,
              "top_employer": "CISCO SYSTEMS INC."
             },
             {
              "case_no": 7902,
              "employer_count": 7207,
              "job_info_work_city": "REDMOND",
              "latitude": 47.674,
              "longitude": -122.1215,
              "top_employer": "MICROSOFT CORPORATION"
             },
             {
              "case_no": 7667,
              "employer_count": 146,
              "job_info_work_city": "HOUSTON",
              "latitude": 29.7604,
              "longitude": -95.3698,
              "top_employer": "TECHNIP USA INC."
             },
             {
              "case_no": 7079,
              "employer_count": 700,
              "job_info_work_city": "SAN FRANCISCO",
              "latitude": 37.7749,
              "longitude": -122.4194,
              "top_employer": "SALESFORCE.COM"
             },
             {
              "case_no": 6740,
              "employer_count": 3809,
              "job_info_work_city": "MOUNTAIN VIEW",
              "latitude": 37.3861,
              "longitude": -122.0839,
              "top_employer": "GOOGLE INC."
             },
             {
              "case_no": 5806,
              "employer_count": 1114,
              "job_info_work_city": "SANTA CLARA",
              "latitude": 37.3541,
              "longitude": -121.9552,
              "top_employer": "INTEL CORPORATION"
             },
             {
              "case_no": 5530,
              "employer_count": 1259,
              "job_info_work_city": "SUNNYVALE",
              "latitude": 37.3688,
              "longitude": -122.0363,
              "top_employer": "YAHOO! INC."
             },
             {
              "case_no": 5202,
              "employer_count": 3436,
              "job_info_work_city": "SEATTLE",
              "latitude": 47.6062,
              "longitude": -122.3321,
              "top_employer": "AMAZON CORPORATE LLC"
             },
             {
              "case_no": 4968,
              "employer_count": 2498,
              "job_info_work_city": "PLANO",
              "latitude": 33.0198,
              "longitude": -96.6989,
              "top_employer": "INFOSYS LTD."
             },
             {
              "case_no": 4438,
              "employer_count": 349,
              "job_info_work_city": "CHICAGO",
              "latitude": 41.8781,
              "longitude": -87.6298,
              "top_employer": "CAPGEMINI U.S. LLC"
             },
             {
              "case_no": 4176,
              "employer_count": 76,
              "job_info_work_city": "LOS ANGELES",
              "latitude": 34.0522,
              "longitude": -118.2437,
              "top_employer": "LOS ANGELES UNIFIED SCHOOL DISTRICT"
             },
             {
              "case_no": 3979,
              "employer_count": 1333,
              "job_info_work_city": "SAN DIEGO",
              "latitude": 32.7157,
              "longitude": -117.1611,
              "top_employer": "QUALCOMM TECHNOLOGIES INC."
             },
             {
              "case_no": 3969,
              "employer_count": 421,
              "job_info_work_city": "EDISON",
              "latitude": 40.5187,
              "longitude": -74.4121,
              "top_employer": "LARSEN & TOUBRO INFOTECH LIMITED"
             },
             {
              "case_no": 3391,
              "employer_count": 177,
              "job_info_work_city": "IRVING",
              "latitude": 32.814,
              "longitude": -96.9489,
              "top_employer": "VERIZON COMMUNICATIONS INC. & ALL ITS SUBSIDIARIES & AFFILIATES"
             },
             {
              "case_no": 3187,
              "employer_count": 336,
              "job_info_work_city": "ATLANTA",
              "latitude": 33.749,
              "longitude": -84.388,
              "top_employer": "MANHATTAN ASSOCIATES INC."
             },
             {
              "case_no": 3108,
              "employer_count": 261,
              "job_info_work_city": "AUSTIN",
              "latitude": 30.2672,
              "longitude": -97.7431,
              "top_employer": "INTEL CORPORATION"
             },
             {
              "case_no": 3025,
              "employer_count": 359,
              "job_info_work_city": "DALLAS",
              "latitude": 32.7791,
              "longitude": -96.8003,
              "top_employer": "DALLAS INDEPENDENT SCHOOL DISTRICT"
             },
             {
              "case_no": 3010,
              "employer_count": 447,
              "job_info_work_city": "FREMONT",
              "latitude": 37.5483,
              "longitude": -121.9886,
              "top_employer": "INFOSYS TECHNOLOGIES LIMITED"
             },
             {
              "case_no": 2878,
              "employer_count": 2670,
              "job_info_work_city": "HILLSBORO",
              "latitude": 45.5229,
              "longitude": -122.9898,
              "top_employer": "INTEL CORPORATION"
             },
             {
              "case_no": 2831,
              "employer_count": 2437,
              "job_info_work_city": "CUPERTINO",
              "latitude": 37.323,
              "longitude": -122.0322,
              "top_employer": "APPLE INC."
             },
             {
              "case_no": 2622,
              "employer_count": 750,
              "job_info_work_city": "PALO ALTO",
              "latitude": 37.4419,
              "longitude": -122.143,
              "top_employer": "VMWARE INC."
             },
             {
              "case_no": 2566,
              "employer_count": 481,
              "job_info_work_city": "JERSEY CITY",
              "latitude": 40.7282,
              "longitude": -74.0776,
              "top_employer": "HCL AMERICA INC."
             },
             {
              "case_no": 2269,
              "employer_count": 196,
              "job_info_work_city": "BOSTON",
              "latitude": 42.3601,
              "longitude": -71.0589,
              "top_employer": "SAPIENT CORPORATION"
             },
             {
              "case_no": 2233,
              "employer_count": 425,
              "job_info_work_city": "TROY",
              "latitude": 42.7284,
              "longitude": -73.6918,
              "top_employer": "HTC GLOBAL SERVICES INC."
             },
             {
              "case_no": 2127,
              "employer_count": 113,
              "job_info_work_city": "MIAMI",
              "latitude": 25.7617,
              "longitude": -80.1918,
              "top_employer": "PURE BEAUTY FARMS INC"
             },
             {
              "case_no": 2062,
              "employer_count": 310,
              "job_info_work_city": "IRVINE",
              "latitude": 33.6846,
              "longitude": -117.8265,
              "top_employer": "BROADCOM CORPORATION"
             },
             {
              "case_no": 1948,
              "employer_count": 343,
              "job_info_work_city": "FARMINGTON HILLS",
              "latitude": 42.499,
              "longitude": -83.3677,
              "top_employer": "HCL GLOBAL SYSTEMS INC"
             },
             {
              "case_no": 1908,
              "employer_count": 559,
              "job_info_work_city": "COLUMBUS",
              "latitude": 39.9612,
              "longitude": -82.9988,
              "top_employer": "CUMMINS INC."
             },
             {
              "case_no": 1843,
              "employer_count": 216,
              "job_info_work_city": "PISCATAWAY",
              "latitude": 40.5549,
              "longitude": -74.4643,
              "top_employer": "MARLABS INC"
             },
             {
              "case_no": 1766,
              "employer_count": 77,
              "job_info_work_city": "ALPHARETTA",
              "latitude": 34.0754,
              "longitude": -84.2941,
              "top_employer": "VIRTUE GROUP LLC."
             },
             {
              "case_no": 1702,
              "employer_count": 1372,
              "job_info_work_city": "MENLO PARK",
              "latitude": 37.453,
              "longitude": -122.1817,
              "top_employer": "FACEBOOK INC."
             },
             {
              "case_no": 1692,
              "employer_count": 63,
              "job_info_work_city": "WASHINGTON",
              "latitude": 38.9072,
              "longitude": -77.0369,
              "top_employer": "BOARD OF GOVERNORS OF THE FEDERAL RESERVE SYSTEM"
             },
             {
              "case_no": 1679,
              "employer_count": 782,
              "job_info_work_city": "TAMPA",
              "latitude": 27.9506,
              "longitude": -82.4572,
              "top_employer": "KFORCE INC."
             },
             {
              "case_no": 1616,
              "employer_count": 277,
              "job_info_work_city": "BELLEVUE",
              "latitude": 47.6101,
              "longitude": -122.2015,
              "top_employer": "EXPEDIA INC."
             },
             {
              "case_no": 1575,
              "employer_count": 137,
              "job_info_work_city": "HERNDON",
              "latitude": 38.9696,
              "longitude": -77.3861,
              "top_employer": "IDEXCEL INC"
             },
             {
              "case_no": 1559,
              "employer_count": 226,
              "job_info_work_city": "ISELIN",
              "latitude": 40.5754,
              "longitude": -74.3224,
              "top_employer": "POLARIS SOFTWARE LAB (INDIA) LTD."
             },
             {
              "case_no": 1528,
              "employer_count": 1107,
              "job_info_work_city": "FOLSOM",
              "latitude": 38.678,
              "longitude": -121.1761,
              "top_employer": "INTEL CORPORATION"
             },
             {
              "case_no": 1426,
              "employer_count": 110,
              "job_info_work_city": "PRINCETON",
              "latitude": 40.3573,
              "longitude": -74.6672,
              "top_employer": "PAMTEN INC."
             },
             {
              "case_no": 1354,
              "employer_count": 267,
              "job_info_work_city": "RICHARDSON",
              "latitude": 32.9483,
              "longitude": -96.7299,
              "top_employer": "FUJITSU AMERICA INC."
             },
             {
              "case_no": 1336,
              "employer_count": 822,
              "job_info_work_city": "BRIDGEWATER",
              "latitude": 40.594,
              "longitude": -74.6049,
              "top_employer": "IGATE TECHNOLOGIES INC."
             },
             {
              "case_no": 1309,
              "employer_count": 1055,
              "job_info_work_city": "EAST BRUNSWICK",
              "latitude": 40.4317,
              "longitude": -74.405,
              "top_employer": "WIPRO LIMITED"
             },
             {
              "case_no": 1290,
              "employer_count": 210,
              "job_info_work_city": "CHARLOTTE",
              "latitude": 35.2271,
              "longitude": -80.8431,
              "top_employer": "BANK OF AMERICA"
             },
             {
              "case_no": 1260,
              "employer_count": 365,
              "job_info_work_city": "PITTSBURGH",
              "latitude": 40.4406,
              "longitude": -79.9959,
              "top_employer": "MASTECH INC. A MASTECH HOLDINGS INC. COMPANY"
             },
             {
              "case_no": 1247,
              "employer_count": 667,
              "job_info_work_city": "CHANDLER",
              "latitude": 33.3062,
              "longitude": -111.8413,
              "top_employer": "INTEL CORPORATION"
             },
             {
              "case_no": 1240,
              "employer_count": 1172,
              "job_info_work_city": "REDWOOD SHORES",
              "latitude": 37.5364,
              "longitude": -122.2455,
              "top_employer": "ORACLE AMERICA INC."
             },
             {
              "case_no": 1169,
              "employer_count": 290,
              "job_info_work_city": "MILPITAS",
              "latitude": 37.4323,
              "longitude": -121.8996,
              "top_employer": "SANDISK CORPORATION"
             },
             {
              "case_no": 1157,
              "employer_count": 204,
              "job_info_work_city": "CAMBRIDGE",
              "latitude": 42.3736,
              "longitude": -71.1097,
              "top_employer": "PATNI AMERICAS INC."
             },
             {
              "case_no": 1150,
              "employer_count": 83,
              "job_info_work_city": "NEWARK",
              "latitude": 40.7357,
              "longitude": -74.1724,
              "top_employer": "HALLMARK GLOBAL TECHNOLOGIES INC."
             },
             {
              "case_no": 1111,
              "employer_count": 1064,
              "job_info_work_city": "TEANECK",
              "latitude": 40.8932,
              "longitude": -74.0117,
              "top_employer": "COGNIZANT TECHNOLOGY SOLUTIONS US CORPORATION"
             },
             {
              "case_no": 1055,
              "employer_count": 236,
              "job_info_work_city": "BROOKLYN",
              "latitude": 40.6782,
              "longitude": -73.9442,
              "top_employer": "NEW YORK CITY DEPARTMENT OF EDUCATION"
             },
             {
              "case_no": 1043,
              "employer_count": 202,
              "job_info_work_city": "PHOENIX",
              "latitude": 33.4484,
              "longitude": -112.074,
              "top_employer": "AMERICAN EXPRESS TRAVEL RELATED SERVICES"
             },
             {
              "case_no": 1023,
              "employer_count": 94,
              "job_info_work_city": "PHILADELPHIA",
              "latitude": 39.9526,
              "longitude": -75.1652,
              "top_employer": "COMCAST CABLE COMMUNICATIONS LLC"
             },
             {
              "case_no": 1014,
              "employer_count": 91,
              "job_info_work_city": "REDWOOD CITY",
              "latitude": 37.4852,
              "longitude": -122.2364,
              "top_employer": "INFORMATICA CORPORATION"
             },
             {
              "case_no": 1007,
              "employer_count": 114,
              "job_info_work_city": "SCHAUMBURG",
              "latitude": 42.0334,
              "longitude": -88.0834,
              "top_employer": "GLOBAL INFOTECH INC"
             },
             {
              "case_no": 974,
              "employer_count": 208,
              "job_info_work_city": "DUBLIN",
              "latitude": 37.7022,
              "longitude": -121.9358,
              "top_employer": "ERP ANALYSTS INC"
             },
             {
              "case_no": 972,
              "employer_count": 252,
              "job_info_work_city": "RICHMOND",
              "latitude": 37.5407,
              "longitude": -77.436,
              "top_employer": "CAPITAL ONE SERVICES LLC"
             },
             {
              "case_no": 963,
              "employer_count": 790,
              "job_info_work_city": "WOBURN",
              "latitude": 42.4793,
              "longitude": -71.1523,
              "top_employer": "RANDSTAD TECHNOLOGIES LP"
             },
             {
              "case_no": 956,
              "employer_count": 81,
              "job_info_work_city": "RESTON",
              "latitude": 38.9586,
              "longitude": -77.357,
              "top_employer": "HEADSTRONG SERVICES LLC"
             },
             {
              "case_no": 945,
              "employer_count": 334,
              "job_info_work_city": "CARY",
              "latitude": 35.7915,
              "longitude": -78.7811,
              "top_employer": "HCL AMERICA INC."
             },
             {
              "case_no": 944,
              "employer_count": 98,
              "job_info_work_city": "COLUMBIA",
              "latitude": 34.0007,
              "longitude": -81.0348,
              "top_employer": "QUALITY SOFTWARE SERVICES INC."
             },
             {
              "case_no": 940,
              "employer_count": 831,
              "job_info_work_city": "ROSEMONT",
              "latitude": 41.9868,
              "longitude": -87.8722,
              "top_employer": "CAPGEMINI FINANCIAL SERVICES USA INC."
             },
             {
              "case_no": 939,
              "employer_count": 221,
              "job_info_work_city": "SOMERSET",
              "latitude": 40.4976,
              "longitude": -74.4885,
              "top_employer": "NATSOFT CORPORATION"
             },
             {
              "case_no": 931,
              "employer_count": 457,
              "job_info_work_city": "LOUISVILLE",
              "latitude": 38.2527,
              "longitude": -85.7585,
              "top_employer": "V-SOFT CONSULTING GROUP INC."
             },
             {
              "case_no": 927,
              "employer_count": 327,
              "job_info_work_city": "SOUTHFIELD",
              "latitude": 42.4734,
              "longitude": -83.2219,
              "top_employer": "TECHNOSOFT CORPORATION"
             },
             {
              "case_no": 906,
              "employer_count": 96,
              "job_info_work_city": "SAN ANTONIO",
              "latitude": 29.4241,
              "longitude": -98.4936,
              "top_employer": "RACKSPACE US INC."
             },
             {
              "case_no": 899,
              "employer_count": 216,
              "job_info_work_city": "FAIRFAX",
              "latitude": 38.8462,
              "longitude": -77.3064,
              "top_employer": "CGI TECHNOLOGIES AND SOLUTIONS INC."
             },
             {
              "case_no": 896,
              "employer_count": 107,
              "job_info_work_city": "SOUTH PLAINFIELD",
              "latitude": 40.5793,
              "longitude": -74.4115,
              "top_employer": "ASTIR IT SOLUTIONS INC"
             },
             {
              "case_no": 893,
              "employer_count": 122,
              "job_info_work_city": "PLEASANTON",
              "latitude": 37.6624,
              "longitude": -121.8747,
              "top_employer": "TELECOM TECHNOLOGY SERVICES INC."
             },
             {
              "case_no": 884,
              "employer_count": 268,
              "job_info_work_city": "BALTIMORE",
              "latitude": 39.2904,
              "longitude": -76.6122,
              "top_employer": "BALTIMORE CITY PUBLIC SCHOOL SYSTEM"
             },
             {
              "case_no": 867,
              "employer_count": 592,
              "job_info_work_city": "MONTGOMERY",
              "latitude": 32.3668,
              "longitude": -86.3,
              "top_employer": "KOCH FOODS OF ALABAMA LLC"
             },
             {
              "case_no": 835,
              "employer_count": 521,
              "job_info_work_city": "PLAINSBORO",
              "latitude": 40.3383,
              "longitude": -74.5853,
              "top_employer": "COMPUNNEL SOFTWARE GROUP INC."
             },
             {
              "case_no": 812,
              "employer_count": 47,
              "job_info_work_city": "SAN MATEO",
              "latitude": 37.563,
              "longitude": -122.3255,
              "top_employer": "SALESFORCE.COM"
             },
             {
              "case_no": 803,
              "employer_count": 103,
              "job_info_work_city": "CHANTILLY",
              "latitude": 38.8943,
              "longitude": -77.4311,
              "top_employer": "USM BUSINESS SYSTEMS INC"
             }
            ]
           },
           "encoding": {
            "color": {
             "value": "purple"
            },
            "size": {
             "field": "case_no",
             "legend": {
              "title": "Total City Visa Requests"
             },
             "type": "quantitative"
            },
            "x": {
             "field": "longitude",
             "type": "longitude"
            },
            "y": {
             "field": "latitude",
             "type": "latitude"
            }
           },
           "mark": "circle"
          },
          {
           "data": {
            "values": [
             {
              "case_no": 17758,
              "employer_count": 775,
              "job_info_work_city": "NEW YORK",
              "latitude": 40.7128,
              "longitude": -74.006,
              "top_employer": "BLOOMBERG L.P."
             },
             {
              "case_no": 10964,
              "employer_count": 10872,
              "job_info_work_city": "COLLEGE STATION",
              "latitude": 30.628,
              "longitude": -96.3344,
              "top_employer": "COGNIZANT TECHNOLOGY SOLUTIONS US CORPORATION"
             },
             {
              "case_no": 8355,
              "employer_count": 1945,
              "job_info_work_city": "SAN JOSE",
              "latitude": 37.3382,
              "longitude": -121.8863,
              "top_employer": "CISCO SYSTEMS INC."
             },
             {
              "case_no": 7902,
              "employer_count": 7207,
              "job_info_work_city": "REDMOND",
              "latitude": 47.674,
              "longitude": -122.1215,
              "top_employer": "MICROSOFT CORPORATION"
             },
             {
              "case_no": 7667,
              "employer_count": 146,
              "job_info_work_city": "HOUSTON",
              "latitude": 29.7604,
              "longitude": -95.3698,
              "top_employer": "TECHNIP USA INC."
             },
             {
              "case_no": 7079,
              "employer_count": 700,
              "job_info_work_city": "SAN FRANCISCO",
              "latitude": 37.7749,
              "longitude": -122.4194,
              "top_employer": "SALESFORCE.COM"
             },
             {
              "case_no": 6740,
              "employer_count": 3809,
              "job_info_work_city": "MOUNTAIN VIEW",
              "latitude": 37.3861,
              "longitude": -122.0839,
              "top_employer": "GOOGLE INC."
             },
             {
              "case_no": 5806,
              "employer_count": 1114,
              "job_info_work_city": "SANTA CLARA",
              "latitude": 37.3541,
              "longitude": -121.9552,
              "top_employer": "INTEL CORPORATION"
             },
             {
              "case_no": 5530,
              "employer_count": 1259,
              "job_info_work_city": "SUNNYVALE",
              "latitude": 37.3688,
              "longitude": -122.0363,
              "top_employer": "YAHOO! INC."
             },
             {
              "case_no": 5202,
              "employer_count": 3436,
              "job_info_work_city": "SEATTLE",
              "latitude": 47.6062,
              "longitude": -122.3321,
              "top_employer": "AMAZON CORPORATE LLC"
             },
             {
              "case_no": 4968,
              "employer_count": 2498,
              "job_info_work_city": "PLANO",
              "latitude": 33.0198,
              "longitude": -96.6989,
              "top_employer": "INFOSYS LTD."
             },
             {
              "case_no": 4438,
              "employer_count": 349,
              "job_info_work_city": "CHICAGO",
              "latitude": 41.8781,
              "longitude": -87.6298,
              "top_employer": "CAPGEMINI U.S. LLC"
             },
             {
              "case_no": 4176,
              "employer_count": 76,
              "job_info_work_city": "LOS ANGELES",
              "latitude": 34.0522,
              "longitude": -118.2437,
              "top_employer": "LOS ANGELES UNIFIED SCHOOL DISTRICT"
             },
             {
              "case_no": 3979,
              "employer_count": 1333,
              "job_info_work_city": "SAN DIEGO",
              "latitude": 32.7157,
              "longitude": -117.1611,
              "top_employer": "QUALCOMM TECHNOLOGIES INC."
             },
             {
              "case_no": 3969,
              "employer_count": 421,
              "job_info_work_city": "EDISON",
              "latitude": 40.5187,
              "longitude": -74.4121,
              "top_employer": "LARSEN & TOUBRO INFOTECH LIMITED"
             },
             {
              "case_no": 3391,
              "employer_count": 177,
              "job_info_work_city": "IRVING",
              "latitude": 32.814,
              "longitude": -96.9489,
              "top_employer": "VERIZON COMMUNICATIONS INC. & ALL ITS SUBSIDIARIES & AFFILIATES"
             },
             {
              "case_no": 3187,
              "employer_count": 336,
              "job_info_work_city": "ATLANTA",
              "latitude": 33.749,
              "longitude": -84.388,
              "top_employer": "MANHATTAN ASSOCIATES INC."
             },
             {
              "case_no": 3108,
              "employer_count": 261,
              "job_info_work_city": "AUSTIN",
              "latitude": 30.2672,
              "longitude": -97.7431,
              "top_employer": "INTEL CORPORATION"
             },
             {
              "case_no": 3025,
              "employer_count": 359,
              "job_info_work_city": "DALLAS",
              "latitude": 32.7791,
              "longitude": -96.8003,
              "top_employer": "DALLAS INDEPENDENT SCHOOL DISTRICT"
             },
             {
              "case_no": 3010,
              "employer_count": 447,
              "job_info_work_city": "FREMONT",
              "latitude": 37.5483,
              "longitude": -121.9886,
              "top_employer": "INFOSYS TECHNOLOGIES LIMITED"
             },
             {
              "case_no": 2878,
              "employer_count": 2670,
              "job_info_work_city": "HILLSBORO",
              "latitude": 45.5229,
              "longitude": -122.9898,
              "top_employer": "INTEL CORPORATION"
             },
             {
              "case_no": 2831,
              "employer_count": 2437,
              "job_info_work_city": "CUPERTINO",
              "latitude": 37.323,
              "longitude": -122.0322,
              "top_employer": "APPLE INC."
             },
             {
              "case_no": 2622,
              "employer_count": 750,
              "job_info_work_city": "PALO ALTO",
              "latitude": 37.4419,
              "longitude": -122.143,
              "top_employer": "VMWARE INC."
             },
             {
              "case_no": 2566,
              "employer_count": 481,
              "job_info_work_city": "JERSEY CITY",
              "latitude": 40.7282,
              "longitude": -74.0776,
              "top_employer": "HCL AMERICA INC."
             },
             {
              "case_no": 2269,
              "employer_count": 196,
              "job_info_work_city": "BOSTON",
              "latitude": 42.3601,
              "longitude": -71.0589,
              "top_employer": "SAPIENT CORPORATION"
             },
             {
              "case_no": 2233,
              "employer_count": 425,
              "job_info_work_city": "TROY",
              "latitude": 42.7284,
              "longitude": -73.6918,
              "top_employer": "HTC GLOBAL SERVICES INC."
             },
             {
              "case_no": 2127,
              "employer_count": 113,
              "job_info_work_city": "MIAMI",
              "latitude": 25.7617,
              "longitude": -80.1918,
              "top_employer": "PURE BEAUTY FARMS INC"
             },
             {
              "case_no": 2062,
              "employer_count": 310,
              "job_info_work_city": "IRVINE",
              "latitude": 33.6846,
              "longitude": -117.8265,
              "top_employer": "BROADCOM CORPORATION"
             },
             {
              "case_no": 1948,
              "employer_count": 343,
              "job_info_work_city": "FARMINGTON HILLS",
              "latitude": 42.499,
              "longitude": -83.3677,
              "top_employer": "HCL GLOBAL SYSTEMS INC"
             },
             {
              "case_no": 1908,
              "employer_count": 559,
              "job_info_work_city": "COLUMBUS",
              "latitude": 39.9612,
              "longitude": -82.9988,
              "top_employer": "CUMMINS INC."
             },
             {
              "case_no": 1843,
              "employer_count": 216,
              "job_info_work_city": "PISCATAWAY",
              "latitude": 40.5549,
              "longitude": -74.4643,
              "top_employer": "MARLABS INC"
             },
             {
              "case_no": 1766,
              "employer_count": 77,
              "job_info_work_city": "ALPHARETTA",
              "latitude": 34.0754,
              "longitude": -84.2941,
              "top_employer": "VIRTUE GROUP LLC."
             },
             {
              "case_no": 1702,
              "employer_count": 1372,
              "job_info_work_city": "MENLO PARK",
              "latitude": 37.453,
              "longitude": -122.1817,
              "top_employer": "FACEBOOK INC."
             },
             {
              "case_no": 1692,
              "employer_count": 63,
              "job_info_work_city": "WASHINGTON",
              "latitude": 38.9072,
              "longitude": -77.0369,
              "top_employer": "BOARD OF GOVERNORS OF THE FEDERAL RESERVE SYSTEM"
             },
             {
              "case_no": 1679,
              "employer_count": 782,
              "job_info_work_city": "TAMPA",
              "latitude": 27.9506,
              "longitude": -82.4572,
              "top_employer": "KFORCE INC."
             },
             {
              "case_no": 1616,
              "employer_count": 277,
              "job_info_work_city": "BELLEVUE",
              "latitude": 47.6101,
              "longitude": -122.2015,
              "top_employer": "EXPEDIA INC."
             },
             {
              "case_no": 1575,
              "employer_count": 137,
              "job_info_work_city": "HERNDON",
              "latitude": 38.9696,
              "longitude": -77.3861,
              "top_employer": "IDEXCEL INC"
             },
             {
              "case_no": 1559,
              "employer_count": 226,
              "job_info_work_city": "ISELIN",
              "latitude": 40.5754,
              "longitude": -74.3224,
              "top_employer": "POLARIS SOFTWARE LAB (INDIA) LTD."
             },
             {
              "case_no": 1528,
              "employer_count": 1107,
              "job_info_work_city": "FOLSOM",
              "latitude": 38.678,
              "longitude": -121.1761,
              "top_employer": "INTEL CORPORATION"
             },
             {
              "case_no": 1426,
              "employer_count": 110,
              "job_info_work_city": "PRINCETON",
              "latitude": 40.3573,
              "longitude": -74.6672,
              "top_employer": "PAMTEN INC."
             },
             {
              "case_no": 1354,
              "employer_count": 267,
              "job_info_work_city": "RICHARDSON",
              "latitude": 32.9483,
              "longitude": -96.7299,
              "top_employer": "FUJITSU AMERICA INC."
             },
             {
              "case_no": 1336,
              "employer_count": 822,
              "job_info_work_city": "BRIDGEWATER",
              "latitude": 40.594,
              "longitude": -74.6049,
              "top_employer": "IGATE TECHNOLOGIES INC."
             },
             {
              "case_no": 1309,
              "employer_count": 1055,
              "job_info_work_city": "EAST BRUNSWICK",
              "latitude": 40.4317,
              "longitude": -74.405,
              "top_employer": "WIPRO LIMITED"
             },
             {
              "case_no": 1290,
              "employer_count": 210,
              "job_info_work_city": "CHARLOTTE",
              "latitude": 35.2271,
              "longitude": -80.8431,
              "top_employer": "BANK OF AMERICA"
             },
             {
              "case_no": 1260,
              "employer_count": 365,
              "job_info_work_city": "PITTSBURGH",
              "latitude": 40.4406,
              "longitude": -79.9959,
              "top_employer": "MASTECH INC. A MASTECH HOLDINGS INC. COMPANY"
             },
             {
              "case_no": 1247,
              "employer_count": 667,
              "job_info_work_city": "CHANDLER",
              "latitude": 33.3062,
              "longitude": -111.8413,
              "top_employer": "INTEL CORPORATION"
             },
             {
              "case_no": 1240,
              "employer_count": 1172,
              "job_info_work_city": "REDWOOD SHORES",
              "latitude": 37.5364,
              "longitude": -122.2455,
              "top_employer": "ORACLE AMERICA INC."
             },
             {
              "case_no": 1169,
              "employer_count": 290,
              "job_info_work_city": "MILPITAS",
              "latitude": 37.4323,
              "longitude": -121.8996,
              "top_employer": "SANDISK CORPORATION"
             },
             {
              "case_no": 1157,
              "employer_count": 204,
              "job_info_work_city": "CAMBRIDGE",
              "latitude": 42.3736,
              "longitude": -71.1097,
              "top_employer": "PATNI AMERICAS INC."
             },
             {
              "case_no": 1150,
              "employer_count": 83,
              "job_info_work_city": "NEWARK",
              "latitude": 40.7357,
              "longitude": -74.1724,
              "top_employer": "HALLMARK GLOBAL TECHNOLOGIES INC."
             },
             {
              "case_no": 1111,
              "employer_count": 1064,
              "job_info_work_city": "TEANECK",
              "latitude": 40.8932,
              "longitude": -74.0117,
              "top_employer": "COGNIZANT TECHNOLOGY SOLUTIONS US CORPORATION"
             },
             {
              "case_no": 1055,
              "employer_count": 236,
              "job_info_work_city": "BROOKLYN",
              "latitude": 40.6782,
              "longitude": -73.9442,
              "top_employer": "NEW YORK CITY DEPARTMENT OF EDUCATION"
             },
             {
              "case_no": 1043,
              "employer_count": 202,
              "job_info_work_city": "PHOENIX",
              "latitude": 33.4484,
              "longitude": -112.074,
              "top_employer": "AMERICAN EXPRESS TRAVEL RELATED SERVICES"
             },
             {
              "case_no": 1023,
              "employer_count": 94,
              "job_info_work_city": "PHILADELPHIA",
              "latitude": 39.9526,
              "longitude": -75.1652,
              "top_employer": "COMCAST CABLE COMMUNICATIONS LLC"
             },
             {
              "case_no": 1014,
              "employer_count": 91,
              "job_info_work_city": "REDWOOD CITY",
              "latitude": 37.4852,
              "longitude": -122.2364,
              "top_employer": "INFORMATICA CORPORATION"
             },
             {
              "case_no": 1007,
              "employer_count": 114,
              "job_info_work_city": "SCHAUMBURG",
              "latitude": 42.0334,
              "longitude": -88.0834,
              "top_employer": "GLOBAL INFOTECH INC"
             },
             {
              "case_no": 974,
              "employer_count": 208,
              "job_info_work_city": "DUBLIN",
              "latitude": 37.7022,
              "longitude": -121.9358,
              "top_employer": "ERP ANALYSTS INC"
             },
             {
              "case_no": 972,
              "employer_count": 252,
              "job_info_work_city": "RICHMOND",
              "latitude": 37.5407,
              "longitude": -77.436,
              "top_employer": "CAPITAL ONE SERVICES LLC"
             },
             {
              "case_no": 963,
              "employer_count": 790,
              "job_info_work_city": "WOBURN",
              "latitude": 42.4793,
              "longitude": -71.1523,
              "top_employer": "RANDSTAD TECHNOLOGIES LP"
             },
             {
              "case_no": 956,
              "employer_count": 81,
              "job_info_work_city": "RESTON",
              "latitude": 38.9586,
              "longitude": -77.357,
              "top_employer": "HEADSTRONG SERVICES LLC"
             },
             {
              "case_no": 945,
              "employer_count": 334,
              "job_info_work_city": "CARY",
              "latitude": 35.7915,
              "longitude": -78.7811,
              "top_employer": "HCL AMERICA INC."
             },
             {
              "case_no": 944,
              "employer_count": 98,
              "job_info_work_city": "COLUMBIA",
              "latitude": 34.0007,
              "longitude": -81.0348,
              "top_employer": "QUALITY SOFTWARE SERVICES INC."
             },
             {
              "case_no": 940,
              "employer_count": 831,
              "job_info_work_city": "ROSEMONT",
              "latitude": 41.9868,
              "longitude": -87.8722,
              "top_employer": "CAPGEMINI FINANCIAL SERVICES USA INC."
             },
             {
              "case_no": 939,
              "employer_count": 221,
              "job_info_work_city": "SOMERSET",
              "latitude": 40.4976,
              "longitude": -74.4885,
              "top_employer": "NATSOFT CORPORATION"
             },
             {
              "case_no": 931,
              "employer_count": 457,
              "job_info_work_city": "LOUISVILLE",
              "latitude": 38.2527,
              "longitude": -85.7585,
              "top_employer": "V-SOFT CONSULTING GROUP INC."
             },
             {
              "case_no": 927,
              "employer_count": 327,
              "job_info_work_city": "SOUTHFIELD",
              "latitude": 42.4734,
              "longitude": -83.2219,
              "top_employer": "TECHNOSOFT CORPORATION"
             },
             {
              "case_no": 906,
              "employer_count": 96,
              "job_info_work_city": "SAN ANTONIO",
              "latitude": 29.4241,
              "longitude": -98.4936,
              "top_employer": "RACKSPACE US INC."
             },
             {
              "case_no": 899,
              "employer_count": 216,
              "job_info_work_city": "FAIRFAX",
              "latitude": 38.8462,
              "longitude": -77.3064,
              "top_employer": "CGI TECHNOLOGIES AND SOLUTIONS INC."
             },
             {
              "case_no": 896,
              "employer_count": 107,
              "job_info_work_city": "SOUTH PLAINFIELD",
              "latitude": 40.5793,
              "longitude": -74.4115,
              "top_employer": "ASTIR IT SOLUTIONS INC"
             },
             {
              "case_no": 893,
              "employer_count": 122,
              "job_info_work_city": "PLEASANTON",
              "latitude": 37.6624,
              "longitude": -121.8747,
              "top_employer": "TELECOM TECHNOLOGY SERVICES INC."
             },
             {
              "case_no": 884,
              "employer_count": 268,
              "job_info_work_city": "BALTIMORE",
              "latitude": 39.2904,
              "longitude": -76.6122,
              "top_employer": "BALTIMORE CITY PUBLIC SCHOOL SYSTEM"
             },
             {
              "case_no": 867,
              "employer_count": 592,
              "job_info_work_city": "MONTGOMERY",
              "latitude": 32.3668,
              "longitude": -86.3,
              "top_employer": "KOCH FOODS OF ALABAMA LLC"
             },
             {
              "case_no": 835,
              "employer_count": 521,
              "job_info_work_city": "PLAINSBORO",
              "latitude": 40.3383,
              "longitude": -74.5853,
              "top_employer": "COMPUNNEL SOFTWARE GROUP INC."
             },
             {
              "case_no": 812,
              "employer_count": 47,
              "job_info_work_city": "SAN MATEO",
              "latitude": 37.563,
              "longitude": -122.3255,
              "top_employer": "SALESFORCE.COM"
             },
             {
              "case_no": 803,
              "employer_count": 103,
              "job_info_work_city": "CHANTILLY",
              "latitude": 38.8943,
              "longitude": -77.4311,
              "top_employer": "USM BUSINESS SYSTEMS INC"
             }
            ]
           },
           "encoding": {
            "color": {
             "value": "purple"
            },
            "opacity": {
             "value": 0.6
            },
            "size": {
             "condition": {
              "selection": {
               "not": "selector001"
              },
              "value": 10
             },
             "value": 70
            },
            "x": {
             "field": "longitude",
             "type": "longitude"
            },
            "y": {
             "field": "latitude",
             "type": "latitude"
            }
           },
           "mark": "point",
           "selection": {
            "selector001": {
             "empty": "all",
             "fields": [
              "latitude",
              "longitude"
             ],
             "nearest": true,
             "on": "mouseover",
             "resolve": "global",
             "type": "single"
            }
           }
          },
          {
           "data": {
            "values": [
             {
              "case_no": 17758,
              "employer_count": 775,
              "job_info_work_city": "NEW YORK",
              "latitude": 40.7128,
              "longitude": -74.006,
              "top_employer": "BLOOMBERG L.P."
             },
             {
              "case_no": 10964,
              "employer_count": 10872,
              "job_info_work_city": "COLLEGE STATION",
              "latitude": 30.628,
              "longitude": -96.3344,
              "top_employer": "COGNIZANT TECHNOLOGY SOLUTIONS US CORPORATION"
             },
             {
              "case_no": 8355,
              "employer_count": 1945,
              "job_info_work_city": "SAN JOSE",
              "latitude": 37.3382,
              "longitude": -121.8863,
              "top_employer": "CISCO SYSTEMS INC."
             },
             {
              "case_no": 7902,
              "employer_count": 7207,
              "job_info_work_city": "REDMOND",
              "latitude": 47.674,
              "longitude": -122.1215,
              "top_employer": "MICROSOFT CORPORATION"
             },
             {
              "case_no": 7667,
              "employer_count": 146,
              "job_info_work_city": "HOUSTON",
              "latitude": 29.7604,
              "longitude": -95.3698,
              "top_employer": "TECHNIP USA INC."
             },
             {
              "case_no": 7079,
              "employer_count": 700,
              "job_info_work_city": "SAN FRANCISCO",
              "latitude": 37.7749,
              "longitude": -122.4194,
              "top_employer": "SALESFORCE.COM"
             },
             {
              "case_no": 6740,
              "employer_count": 3809,
              "job_info_work_city": "MOUNTAIN VIEW",
              "latitude": 37.3861,
              "longitude": -122.0839,
              "top_employer": "GOOGLE INC."
             },
             {
              "case_no": 5806,
              "employer_count": 1114,
              "job_info_work_city": "SANTA CLARA",
              "latitude": 37.3541,
              "longitude": -121.9552,
              "top_employer": "INTEL CORPORATION"
             },
             {
              "case_no": 5530,
              "employer_count": 1259,
              "job_info_work_city": "SUNNYVALE",
              "latitude": 37.3688,
              "longitude": -122.0363,
              "top_employer": "YAHOO! INC."
             },
             {
              "case_no": 5202,
              "employer_count": 3436,
              "job_info_work_city": "SEATTLE",
              "latitude": 47.6062,
              "longitude": -122.3321,
              "top_employer": "AMAZON CORPORATE LLC"
             },
             {
              "case_no": 4968,
              "employer_count": 2498,
              "job_info_work_city": "PLANO",
              "latitude": 33.0198,
              "longitude": -96.6989,
              "top_employer": "INFOSYS LTD."
             },
             {
              "case_no": 4438,
              "employer_count": 349,
              "job_info_work_city": "CHICAGO",
              "latitude": 41.8781,
              "longitude": -87.6298,
              "top_employer": "CAPGEMINI U.S. LLC"
             },
             {
              "case_no": 4176,
              "employer_count": 76,
              "job_info_work_city": "LOS ANGELES",
              "latitude": 34.0522,
              "longitude": -118.2437,
              "top_employer": "LOS ANGELES UNIFIED SCHOOL DISTRICT"
             },
             {
              "case_no": 3979,
              "employer_count": 1333,
              "job_info_work_city": "SAN DIEGO",
              "latitude": 32.7157,
              "longitude": -117.1611,
              "top_employer": "QUALCOMM TECHNOLOGIES INC."
             },
             {
              "case_no": 3969,
              "employer_count": 421,
              "job_info_work_city": "EDISON",
              "latitude": 40.5187,
              "longitude": -74.4121,
              "top_employer": "LARSEN & TOUBRO INFOTECH LIMITED"
             },
             {
              "case_no": 3391,
              "employer_count": 177,
              "job_info_work_city": "IRVING",
              "latitude": 32.814,
              "longitude": -96.9489,
              "top_employer": "VERIZON COMMUNICATIONS INC. & ALL ITS SUBSIDIARIES & AFFILIATES"
             },
             {
              "case_no": 3187,
              "employer_count": 336,
              "job_info_work_city": "ATLANTA",
              "latitude": 33.749,
              "longitude": -84.388,
              "top_employer": "MANHATTAN ASSOCIATES INC."
             },
             {
              "case_no": 3108,
              "employer_count": 261,
              "job_info_work_city": "AUSTIN",
              "latitude": 30.2672,
              "longitude": -97.7431,
              "top_employer": "INTEL CORPORATION"
             },
             {
              "case_no": 3025,
              "employer_count": 359,
              "job_info_work_city": "DALLAS",
              "latitude": 32.7791,
              "longitude": -96.8003,
              "top_employer": "DALLAS INDEPENDENT SCHOOL DISTRICT"
             },
             {
              "case_no": 3010,
              "employer_count": 447,
              "job_info_work_city": "FREMONT",
              "latitude": 37.5483,
              "longitude": -121.9886,
              "top_employer": "INFOSYS TECHNOLOGIES LIMITED"
             },
             {
              "case_no": 2878,
              "employer_count": 2670,
              "job_info_work_city": "HILLSBORO",
              "latitude": 45.5229,
              "longitude": -122.9898,
              "top_employer": "INTEL CORPORATION"
             },
             {
              "case_no": 2831,
              "employer_count": 2437,
              "job_info_work_city": "CUPERTINO",
              "latitude": 37.323,
              "longitude": -122.0322,
              "top_employer": "APPLE INC."
             },
             {
              "case_no": 2622,
              "employer_count": 750,
              "job_info_work_city": "PALO ALTO",
              "latitude": 37.4419,
              "longitude": -122.143,
              "top_employer": "VMWARE INC."
             },
             {
              "case_no": 2566,
              "employer_count": 481,
              "job_info_work_city": "JERSEY CITY",
              "latitude": 40.7282,
              "longitude": -74.0776,
              "top_employer": "HCL AMERICA INC."
             },
             {
              "case_no": 2269,
              "employer_count": 196,
              "job_info_work_city": "BOSTON",
              "latitude": 42.3601,
              "longitude": -71.0589,
              "top_employer": "SAPIENT CORPORATION"
             },
             {
              "case_no": 2233,
              "employer_count": 425,
              "job_info_work_city": "TROY",
              "latitude": 42.7284,
              "longitude": -73.6918,
              "top_employer": "HTC GLOBAL SERVICES INC."
             },
             {
              "case_no": 2127,
              "employer_count": 113,
              "job_info_work_city": "MIAMI",
              "latitude": 25.7617,
              "longitude": -80.1918,
              "top_employer": "PURE BEAUTY FARMS INC"
             },
             {
              "case_no": 2062,
              "employer_count": 310,
              "job_info_work_city": "IRVINE",
              "latitude": 33.6846,
              "longitude": -117.8265,
              "top_employer": "BROADCOM CORPORATION"
             },
             {
              "case_no": 1948,
              "employer_count": 343,
              "job_info_work_city": "FARMINGTON HILLS",
              "latitude": 42.499,
              "longitude": -83.3677,
              "top_employer": "HCL GLOBAL SYSTEMS INC"
             },
             {
              "case_no": 1908,
              "employer_count": 559,
              "job_info_work_city": "COLUMBUS",
              "latitude": 39.9612,
              "longitude": -82.9988,
              "top_employer": "CUMMINS INC."
             },
             {
              "case_no": 1843,
              "employer_count": 216,
              "job_info_work_city": "PISCATAWAY",
              "latitude": 40.5549,
              "longitude": -74.4643,
              "top_employer": "MARLABS INC"
             },
             {
              "case_no": 1766,
              "employer_count": 77,
              "job_info_work_city": "ALPHARETTA",
              "latitude": 34.0754,
              "longitude": -84.2941,
              "top_employer": "VIRTUE GROUP LLC."
             },
             {
              "case_no": 1702,
              "employer_count": 1372,
              "job_info_work_city": "MENLO PARK",
              "latitude": 37.453,
              "longitude": -122.1817,
              "top_employer": "FACEBOOK INC."
             },
             {
              "case_no": 1692,
              "employer_count": 63,
              "job_info_work_city": "WASHINGTON",
              "latitude": 38.9072,
              "longitude": -77.0369,
              "top_employer": "BOARD OF GOVERNORS OF THE FEDERAL RESERVE SYSTEM"
             },
             {
              "case_no": 1679,
              "employer_count": 782,
              "job_info_work_city": "TAMPA",
              "latitude": 27.9506,
              "longitude": -82.4572,
              "top_employer": "KFORCE INC."
             },
             {
              "case_no": 1616,
              "employer_count": 277,
              "job_info_work_city": "BELLEVUE",
              "latitude": 47.6101,
              "longitude": -122.2015,
              "top_employer": "EXPEDIA INC."
             },
             {
              "case_no": 1575,
              "employer_count": 137,
              "job_info_work_city": "HERNDON",
              "latitude": 38.9696,
              "longitude": -77.3861,
              "top_employer": "IDEXCEL INC"
             },
             {
              "case_no": 1559,
              "employer_count": 226,
              "job_info_work_city": "ISELIN",
              "latitude": 40.5754,
              "longitude": -74.3224,
              "top_employer": "POLARIS SOFTWARE LAB (INDIA) LTD."
             },
             {
              "case_no": 1528,
              "employer_count": 1107,
              "job_info_work_city": "FOLSOM",
              "latitude": 38.678,
              "longitude": -121.1761,
              "top_employer": "INTEL CORPORATION"
             },
             {
              "case_no": 1426,
              "employer_count": 110,
              "job_info_work_city": "PRINCETON",
              "latitude": 40.3573,
              "longitude": -74.6672,
              "top_employer": "PAMTEN INC."
             },
             {
              "case_no": 1354,
              "employer_count": 267,
              "job_info_work_city": "RICHARDSON",
              "latitude": 32.9483,
              "longitude": -96.7299,
              "top_employer": "FUJITSU AMERICA INC."
             },
             {
              "case_no": 1336,
              "employer_count": 822,
              "job_info_work_city": "BRIDGEWATER",
              "latitude": 40.594,
              "longitude": -74.6049,
              "top_employer": "IGATE TECHNOLOGIES INC."
             },
             {
              "case_no": 1309,
              "employer_count": 1055,
              "job_info_work_city": "EAST BRUNSWICK",
              "latitude": 40.4317,
              "longitude": -74.405,
              "top_employer": "WIPRO LIMITED"
             },
             {
              "case_no": 1290,
              "employer_count": 210,
              "job_info_work_city": "CHARLOTTE",
              "latitude": 35.2271,
              "longitude": -80.8431,
              "top_employer": "BANK OF AMERICA"
             },
             {
              "case_no": 1260,
              "employer_count": 365,
              "job_info_work_city": "PITTSBURGH",
              "latitude": 40.4406,
              "longitude": -79.9959,
              "top_employer": "MASTECH INC. A MASTECH HOLDINGS INC. COMPANY"
             },
             {
              "case_no": 1247,
              "employer_count": 667,
              "job_info_work_city": "CHANDLER",
              "latitude": 33.3062,
              "longitude": -111.8413,
              "top_employer": "INTEL CORPORATION"
             },
             {
              "case_no": 1240,
              "employer_count": 1172,
              "job_info_work_city": "REDWOOD SHORES",
              "latitude": 37.5364,
              "longitude": -122.2455,
              "top_employer": "ORACLE AMERICA INC."
             },
             {
              "case_no": 1169,
              "employer_count": 290,
              "job_info_work_city": "MILPITAS",
              "latitude": 37.4323,
              "longitude": -121.8996,
              "top_employer": "SANDISK CORPORATION"
             },
             {
              "case_no": 1157,
              "employer_count": 204,
              "job_info_work_city": "CAMBRIDGE",
              "latitude": 42.3736,
              "longitude": -71.1097,
              "top_employer": "PATNI AMERICAS INC."
             },
             {
              "case_no": 1150,
              "employer_count": 83,
              "job_info_work_city": "NEWARK",
              "latitude": 40.7357,
              "longitude": -74.1724,
              "top_employer": "HALLMARK GLOBAL TECHNOLOGIES INC."
             },
             {
              "case_no": 1111,
              "employer_count": 1064,
              "job_info_work_city": "TEANECK",
              "latitude": 40.8932,
              "longitude": -74.0117,
              "top_employer": "COGNIZANT TECHNOLOGY SOLUTIONS US CORPORATION"
             },
             {
              "case_no": 1055,
              "employer_count": 236,
              "job_info_work_city": "BROOKLYN",
              "latitude": 40.6782,
              "longitude": -73.9442,
              "top_employer": "NEW YORK CITY DEPARTMENT OF EDUCATION"
             },
             {
              "case_no": 1043,
              "employer_count": 202,
              "job_info_work_city": "PHOENIX",
              "latitude": 33.4484,
              "longitude": -112.074,
              "top_employer": "AMERICAN EXPRESS TRAVEL RELATED SERVICES"
             },
             {
              "case_no": 1023,
              "employer_count": 94,
              "job_info_work_city": "PHILADELPHIA",
              "latitude": 39.9526,
              "longitude": -75.1652,
              "top_employer": "COMCAST CABLE COMMUNICATIONS LLC"
             },
             {
              "case_no": 1014,
              "employer_count": 91,
              "job_info_work_city": "REDWOOD CITY",
              "latitude": 37.4852,
              "longitude": -122.2364,
              "top_employer": "INFORMATICA CORPORATION"
             },
             {
              "case_no": 1007,
              "employer_count": 114,
              "job_info_work_city": "SCHAUMBURG",
              "latitude": 42.0334,
              "longitude": -88.0834,
              "top_employer": "GLOBAL INFOTECH INC"
             },
             {
              "case_no": 974,
              "employer_count": 208,
              "job_info_work_city": "DUBLIN",
              "latitude": 37.7022,
              "longitude": -121.9358,
              "top_employer": "ERP ANALYSTS INC"
             },
             {
              "case_no": 972,
              "employer_count": 252,
              "job_info_work_city": "RICHMOND",
              "latitude": 37.5407,
              "longitude": -77.436,
              "top_employer": "CAPITAL ONE SERVICES LLC"
             },
             {
              "case_no": 963,
              "employer_count": 790,
              "job_info_work_city": "WOBURN",
              "latitude": 42.4793,
              "longitude": -71.1523,
              "top_employer": "RANDSTAD TECHNOLOGIES LP"
             },
             {
              "case_no": 956,
              "employer_count": 81,
              "job_info_work_city": "RESTON",
              "latitude": 38.9586,
              "longitude": -77.357,
              "top_employer": "HEADSTRONG SERVICES LLC"
             },
             {
              "case_no": 945,
              "employer_count": 334,
              "job_info_work_city": "CARY",
              "latitude": 35.7915,
              "longitude": -78.7811,
              "top_employer": "HCL AMERICA INC."
             },
             {
              "case_no": 944,
              "employer_count": 98,
              "job_info_work_city": "COLUMBIA",
              "latitude": 34.0007,
              "longitude": -81.0348,
              "top_employer": "QUALITY SOFTWARE SERVICES INC."
             },
             {
              "case_no": 940,
              "employer_count": 831,
              "job_info_work_city": "ROSEMONT",
              "latitude": 41.9868,
              "longitude": -87.8722,
              "top_employer": "CAPGEMINI FINANCIAL SERVICES USA INC."
             },
             {
              "case_no": 939,
              "employer_count": 221,
              "job_info_work_city": "SOMERSET",
              "latitude": 40.4976,
              "longitude": -74.4885,
              "top_employer": "NATSOFT CORPORATION"
             },
             {
              "case_no": 931,
              "employer_count": 457,
              "job_info_work_city": "LOUISVILLE",
              "latitude": 38.2527,
              "longitude": -85.7585,
              "top_employer": "V-SOFT CONSULTING GROUP INC."
             },
             {
              "case_no": 927,
              "employer_count": 327,
              "job_info_work_city": "SOUTHFIELD",
              "latitude": 42.4734,
              "longitude": -83.2219,
              "top_employer": "TECHNOSOFT CORPORATION"
             },
             {
              "case_no": 906,
              "employer_count": 96,
              "job_info_work_city": "SAN ANTONIO",
              "latitude": 29.4241,
              "longitude": -98.4936,
              "top_employer": "RACKSPACE US INC."
             },
             {
              "case_no": 899,
              "employer_count": 216,
              "job_info_work_city": "FAIRFAX",
              "latitude": 38.8462,
              "longitude": -77.3064,
              "top_employer": "CGI TECHNOLOGIES AND SOLUTIONS INC."
             },
             {
              "case_no": 896,
              "employer_count": 107,
              "job_info_work_city": "SOUTH PLAINFIELD",
              "latitude": 40.5793,
              "longitude": -74.4115,
              "top_employer": "ASTIR IT SOLUTIONS INC"
             },
             {
              "case_no": 893,
              "employer_count": 122,
              "job_info_work_city": "PLEASANTON",
              "latitude": 37.6624,
              "longitude": -121.8747,
              "top_employer": "TELECOM TECHNOLOGY SERVICES INC."
             },
             {
              "case_no": 884,
              "employer_count": 268,
              "job_info_work_city": "BALTIMORE",
              "latitude": 39.2904,
              "longitude": -76.6122,
              "top_employer": "BALTIMORE CITY PUBLIC SCHOOL SYSTEM"
             },
             {
              "case_no": 867,
              "employer_count": 592,
              "job_info_work_city": "MONTGOMERY",
              "latitude": 32.3668,
              "longitude": -86.3,
              "top_employer": "KOCH FOODS OF ALABAMA LLC"
             },
             {
              "case_no": 835,
              "employer_count": 521,
              "job_info_work_city": "PLAINSBORO",
              "latitude": 40.3383,
              "longitude": -74.5853,
              "top_employer": "COMPUNNEL SOFTWARE GROUP INC."
             },
             {
              "case_no": 812,
              "employer_count": 47,
              "job_info_work_city": "SAN MATEO",
              "latitude": 37.563,
              "longitude": -122.3255,
              "top_employer": "SALESFORCE.COM"
             },
             {
              "case_no": 803,
              "employer_count": 103,
              "job_info_work_city": "CHANTILLY",
              "latitude": 38.8943,
              "longitude": -77.4311,
              "top_employer": "USM BUSINESS SYSTEMS INC"
             }
            ]
           },
           "encoding": {
            "opacity": {
             "condition": {
              "selection": {
               "not": "selector001"
              },
              "value": 0
             },
             "value": 1
            },
            "text": {
             "field": "job_info_work_city",
             "type": "nominal"
            },
            "x": {
             "field": "longitude",
             "type": "longitude"
            },
            "y": {
             "field": "latitude",
             "type": "latitude"
            }
           },
           "mark": {
            "align": "right",
            "dy": -5,
            "type": "text"
           }
          }
         ]
        }
       ],
       "padding": {
        "bottom": 1,
        "left": 1,
        "right": 1,
        "top": 1
       }
      },
      "image/png": "[encoded data removed]",
      "text/plain": [
       "<VegaLite 2 object>"
      ]
     },
     "execution_count": 7,
     "metadata": {},
     "output_type": "execute_result"
    }
   ],
   "source": [
    "states = alt.UrlData(data.us_10m.url,\n",
    "                     format=alt.TopoDataFormat(type='topojson',\n",
    "                                               feature='states'))\n",
    "background = alt.Chart(states).mark_geoshape(\n",
    "    fill='lightgray',\n",
    "    stroke='white'\n",
    ").properties(\n",
    "    title='Top 75 Cities for Permanent Visa Requests',\n",
    "    projection={'type': 'albersUsa'},\n",
    "    width=650,\n",
    "    height=400\n",
    ")\n",
    "base2 = alt.Chart(top75cities).encode(\n",
    "    alt.X('longitude', type='longitude'),\n",
    "    alt.Y('latitude', type='latitude')\n",
    ")\n",
    "points1 = base2.mark_circle().encode(\n",
    "    alt.Size('case_no',legend=alt.Legend(title=\"Total City Visa Requests\")),\n",
    "    alt.ColorValue('purple')\n",
    ")\n",
    "chart1 = background + points1\n",
    "hover = alt.selection(type='single', on='mouseover', nearest=True,\n",
    "                      fields=['latitude', 'longitude'])\n",
    "base = alt.Chart(top75cities).encode(\n",
    "    alt.X('longitude', type='longitude'),\n",
    "    alt.Y('latitude', type='latitude')\n",
    ")\n",
    "text = base.mark_text(dy=-5, align='right').encode(\n",
    "    alt.Text('job_info_work_city', type='nominal'),\n",
    "    opacity=alt.condition(~hover, alt.value(0), alt.value(1))\n",
    ")\n",
    "points = base.mark_point().encode(\n",
    "    color=alt.value('purple'),\n",
    "    size=alt.condition(~hover, alt.value(10), alt.value(70)),\n",
    "    opacity=alt.value(0.6)\n",
    ").properties(\n",
    "    selection=hover\n",
    ")\n",
    "chart = chart1 + points + text\n",
    "bars = alt.Chart(top75cities).mark_bar().encode(\n",
    "    alt.X('top_employer',axis=alt.Axis(title='Top Employer')),\n",
    "    alt.Y('employer_count',axis=alt.Axis(title='Employer Visa Requests'),scale=alt.Scale(domain=[0,12000])),\n",
    "    alt.ColorValue('purple')\n",
    ").transform_filter(\n",
    "    hover.ref()\n",
    ").properties(\n",
    "    width=30,\n",
    "    height=200\n",
    ")\n",
    "alt.hconcat(bars,chart,padding={'left':1, 'top': 1, 'right': 1, 'bottom': 1} )"
   ]
  },
  {
   "cell_type": "markdown",
   "metadata": {},
   "source": [
    "A lot of conclusions can be drawn from this visualization: the top employers requesting permanent visas are on the West or East coasts, in Texas, or in the Midwest. Notably large employers are Cognizant Technology Solutions in College Station, Texas, (home of Texas A&M University) which submits the most visa requests of any United States employer by a landslide, as well as Microsoft in Redmond, Washington, Apple in Cupertino, California, and Infosys in Plano, Texas. Additionally, the Brooklyn area has the most visa requests of any city, but does not have any individual employers with lots of requests (all are under 2,000), simply lots of employers overall."
   ]
  },
  {
   "cell_type": "markdown",
   "metadata": {},
   "source": [
    "## Topic Modeling: Frobenius Non-negative Matrix Factorization"
   ]
  },
  {
   "cell_type": "code",
   "execution_count": 8,
   "metadata": {},
   "outputs": [],
   "source": [
    "from sklearn.feature_extraction.text import TfidfVectorizer, CountVectorizer\n",
    "from sklearn.decomposition import NMF, LatentDirichletAllocation"
   ]
  },
  {
   "cell_type": "code",
   "execution_count": 9,
   "metadata": {},
   "outputs": [],
   "source": [
    "def list_top_words(model, feature_names, top_words):\n",
    "    '''Creates and returns a dictionary with keys corresponding to the topic and values of\n",
    "    lists containing the top words of that topic'''\n",
    "    topdict = {}\n",
    "    for topic_idx, topic in enumerate(model.components_):\n",
    "        keyname = \"Topic {0}\".format(topic_idx)\n",
    "        topdict[keyname] = [feature_names[i] for i in topic.argsort()[:-top_words - 1:-1]]\n",
    "    return topdict"
   ]
  },
  {
   "cell_type": "code",
   "execution_count": 10,
   "metadata": {},
   "outputs": [],
   "source": [
    "def print_top_words(topdict):\n",
    "    '''Prints the topics and their top words based on the input topic dictionary'''\n",
    "    for key in topdict:\n",
    "        string = key + ': '\n",
    "        string += ' '.join([x for x in topdict[key]])\n",
    "        print(string)"
   ]
  },
  {
   "cell_type": "code",
   "execution_count": 11,
   "metadata": {},
   "outputs": [],
   "source": [
    "features = 1000\n",
    "components = 15\n",
    "top_words = 15\n",
    "v = TfidfVectorizer(max_df=0.95, min_df=2,max_features=features, stop_words='english')\n",
    "tfidf = v.fit_transform(visas['all_text'])"
   ]
  },
  {
   "cell_type": "code",
   "execution_count": 12,
   "metadata": {},
   "outputs": [],
   "source": [
    "#Note: Takes about one minute to run:\n",
    "nmf = NMF(n_components=components, random_state=1,alpha=.1, l1_ratio=.5).fit(tfidf)"
   ]
  },
  {
   "cell_type": "code",
   "execution_count": 13,
   "metadata": {},
   "outputs": [
    {
     "name": "stdout",
     "output_type": "stream",
     "text": [
      "Topic 0: programming custom computer services applications developers engineers analysts programmer analyst programmers administrators database sr network\n",
      "Topic 1: systems computer design analysts services related analyst network administrators bus iv consultant sci administrator math\n",
      "Topic 2: science computer related engineer engineering field software senior developer programmer technical development analyst sr ii\n",
      "Topic 3: engineering electrical engineer electronics related electronic field manufacturing senior engineers software communication technical communications engg\n",
      "Topic 4: mfg advanced manufacturing engineers semiconductor electronics electronic component equipment computer device materials communications peripheral scie\n",
      "Topic 5: business administration marketing analyst manager management research managers related market analysts operations specialists accounting senior\n",
      "Topic 6: sci comp eng math bus analyst info field ii systems engg electronic physics closely iv\n",
      "Topic 7: schools colleges universities teachers professional postsecondary educational education professor assistant elementary services secondary special school\n",
      "Topic 8: mechanical engineers engineering aerospace civil industrial services engineer manufacturing sales chemical construction project vehicle machinery\n",
      "Topic 9: poultry processing meat cutters fish trimmers worker processor trimmer butchers packers agribusiness cutter line production\n",
      "Topic 10: health medicine general care physicians medical internists offices mental surgical hospitals specialists surgeons internal physician\n",
      "Topic 11: information managers technology systems manager computer security senior management project marketing lead web related field\n",
      "Topic 12: software developers applications publishers services design engineer developer related systems retail shopping info technology phys\n",
      "Topic 13: management economic sector consulting scientific technical services administrative analysts general wholesalers merchant marketing research operations\n",
      "Topic 14: finance financial investment banking securities dealing analysts accounting accountants activities auditors economics commercial transactions reserve\n"
     ]
    }
   ],
   "source": [
    "tfidf_feature_names = v.get_feature_names()\n",
    "fnmftopicdict = list_top_words(nmf, tfidf_feature_names, top_words)\n",
    "print_top_words(fnmftopicdict)"
   ]
  },
  {
   "cell_type": "code",
   "execution_count": 14,
   "metadata": {},
   "outputs": [],
   "source": [
    "def primary_topic(x):\n",
    "    '''Using word counts, determines the most relevant topic for an observation'''\n",
    "    countsdict={'Topic {0}'.format(x):0 for x in range(0,15)}\n",
    "    for word in x.split(' '):\n",
    "        for key in fnmftopicdict:\n",
    "            if word.lower() in fnmftopicdict[key]:\n",
    "                countsdict[key] += 1\n",
    "    if max(countsdict.values()) == 0:\n",
    "        return 'None'\n",
    "    return max(countsdict, key=countsdict.get)"
   ]
  },
  {
   "cell_type": "code",
   "execution_count": 15,
   "metadata": {},
   "outputs": [],
   "source": [
    "visas['topic'] = visas['all_text'].apply(primary_topic)"
   ]
  },
  {
   "cell_type": "markdown",
   "metadata": {},
   "source": [
    "## Modeling: K-Nearest Neighbors"
   ]
  },
  {
   "cell_type": "code",
   "execution_count": 16,
   "metadata": {},
   "outputs": [],
   "source": [
    "def simple_employer(x):\n",
    "    '''If employer is in the top 48 employers (more than 500 applicants), return the employer name.\n",
    "    Otherwise, return a string of the word Other.'''\n",
    "    if x in topemployers:\n",
    "        return x\n",
    "    return \"Other\""
   ]
  },
  {
   "cell_type": "code",
   "execution_count": 17,
   "metadata": {},
   "outputs": [],
   "source": [
    "def get_year(x):\n",
    "    if pd.notnull(x):\n",
    "        return x.year\n",
    "    return x"
   ]
  },
  {
   "cell_type": "code",
   "execution_count": 18,
   "metadata": {},
   "outputs": [],
   "source": [
    "visasemployers = visas.groupby('employer_name')['case_no'].aggregate('count').reset_index().sort_values(by='case_no',ascending=False)\n",
    "visastopemployers = visasemployers[visasemployers['case_no']>=500]\n",
    "topemployers = list(visastopemployers['employer_name'])\n",
    "visas['employer_simple'] = visas['employer_name'].apply(simple_employer)\n",
    "visas['decision_year'] = visas['decision_date'].apply(get_year)\n",
    "categorical = ['case_status','class_of_admission','foreign_worker_info_birth_country',\n",
    "               'foreign_worker_info_education','ji_live_in_domestic_service','job_info_foreign_ed',\n",
    "              'job_info_foreign_lang_req','job_info_education','naics_code','pw_level_9089',\n",
    "               'ri_layoff_in_past_six_months','wage_offer_unit_of_pay_9089',\n",
    "               'professional_occupation','topic','employer_simple','decision_year']\n",
    "for data in categorical:\n",
    "    visas[data] = pd.get_dummies(visas[data], drop_first = True)\n",
    "list1 = ['employer_num_employees','foreign_worker_info_birth_country',\n",
    "         'foreign_worker_info_education','foreign_worker_info_inst',\n",
    "         'ji_live_in_domestic_service','job_info_education',\n",
    "         'job_info_experience','job_info_experience_num_months',\n",
    "         'job_info_foreign_ed','job_info_foreign_lang_req',\n",
    "         'job_info_work_postal_code','ri_layoff_in_past_six_months',\n",
    "         'employer_desperation','professional_occupation']\n",
    "for x in list1:\n",
    "    visas.loc[0:126848,x] = \"-1\""
   ]
  },
  {
   "cell_type": "code",
   "execution_count": 19,
   "metadata": {},
   "outputs": [],
   "source": [
    "visas_non_null = visas.dropna(subset=['class_of_admission','employer_num_employees','foreign_worker_info_birth_country',\n",
    "                 'foreign_worker_info_education','ji_live_in_domestic_service','job_info_foreign_ed',\n",
    "                 'job_info_foreign_lang_req','job_info_experience_num_months','job_info_education','decision_year',\n",
    "                 'naics_code','pw_level_9089','ri_layoff_in_past_six_months','wage_offer_unit_of_pay_9089',\n",
    "                 'employer_desperation','annual_wage','professional_occupation'])\n",
    "X = visas_non_null[['class_of_admission','employer_num_employees','decision_year','foreign_worker_info_birth_country',\n",
    "                 'foreign_worker_info_education','ji_live_in_domestic_service','job_info_foreign_ed',\n",
    "                    'job_info_foreign_lang_req','job_info_experience_num_months','job_info_education',\n",
    "                 'naics_code','pw_level_9089','ri_layoff_in_past_six_months','wage_offer_unit_of_pay_9089',\n",
    "                 'employer_desperation','annual_wage','professional_occupation','topic','employer_simple']]\n",
    "y=visas_non_null['case_status']"
   ]
  },
  {
   "cell_type": "code",
   "execution_count": 20,
   "metadata": {},
   "outputs": [],
   "source": [
    "from sklearn.model_selection import cross_val_score, train_test_split\n",
    "from sklearn.neighbors import KNeighborsClassifier\n",
    "from sklearn import metrics\n",
    "from sklearn.metrics import confusion_matrix\n",
    "import seaborn as sns\n",
    "import matplotlib.pyplot as plt"
   ]
  },
  {
   "cell_type": "code",
   "execution_count": 21,
   "metadata": {},
   "outputs": [
    {
     "data": {
      "text/plain": [
       "0.929614151035086"
      ]
     },
     "execution_count": 21,
     "metadata": {},
     "output_type": "execute_result"
    }
   ],
   "source": [
    "X_train, X_test, y_train, y_test = train_test_split(X, y, test_size = .25, random_state=1)\n",
    "knn = KNeighborsClassifier(n_neighbors=8,algorithm = 'auto')\n",
    "knn.fit(X_train,y_train)\n",
    "y_pred = knn.predict(X_test)\n",
    "knn.score(X_test, y_test)"
   ]
  },
  {
   "cell_type": "code",
   "execution_count": 22,
   "metadata": {},
   "outputs": [
    {
     "name": "stdout",
     "output_type": "stream",
     "text": [
      "             precision    recall  f1-score   support\n",
      "\n",
      "          0       0.99      0.94      0.96     50551\n",
      "          1       0.13      0.54      0.21       894\n",
      "\n",
      "avg / total       0.98      0.93      0.95     51445\n",
      "\n"
     ]
    }
   ],
   "source": [
    "print(metrics.classification_report(y_pred, y_test))"
   ]
  },
  {
   "cell_type": "code",
   "execution_count": 23,
   "metadata": {},
   "outputs": [
    {
     "data": {
      "image/png": "[encoded data removed]",
      "text/plain": [
       "<matplotlib.figure.Figure at 0x7f277395f128>"
      ]
     },
     "metadata": {},
     "output_type": "display_data"
    }
   ],
   "source": [
    "mat = confusion_matrix(y_test, y_pred)\n",
    "sns.heatmap(mat, square=True, annot=True, fmt='d',cbar=False)\n",
    "plt.xlabel('predicted value')\n",
    "plt.ylabel('true value');"
   ]
  },
  {
   "cell_type": "code",
   "execution_count": 24,
   "metadata": {},
   "outputs": [
    {
     "name": "stdout",
     "output_type": "stream",
     "text": [
      "             precision    recall  f1-score   support\n",
      "\n",
      "          0       0.99      0.94      0.96     50551\n",
      "          1       0.13      0.54      0.21       894\n",
      "\n",
      "avg / total       0.98      0.93      0.95     51445\n",
      "\n"
     ]
    }
   ],
   "source": [
    "print(metrics.classification_report(y_pred, y_test))"
   ]
  }
 ],
 "metadata": {
  "kernelspec": {
   "display_name": "Python 3",
   "language": "python",
   "name": "python3"
  },
  "language_info": {
   "codemirror_mode": {
    "name": "ipython",
    "version": 3
   },
   "file_extension": ".py",
   "mimetype": "text/x-python",
   "name": "python",
   "nbconvert_exporter": "python",
   "pygments_lexer": "ipython3",
   "version": "3.7.4"
  }
 },
 "nbformat": 4,
 "nbformat_minor": 4
}
