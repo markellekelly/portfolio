{
 "cells": [
  {
   "cell_type": "markdown",
   "metadata": {},
   "source": [
    "# Exploration and Modeling of U.S. Permanent Visa Applications, 2012-2017"
   ]
  },
  {
   "cell_type": "markdown",
   "metadata": {},
   "source": [
    "## Abstract."
   ]
  },
  {
   "cell_type": "markdown",
   "metadata": {},
   "source": [
    "This project takes a close look at United States Permanent Visa Applications submitted between 2012 and 2017. An exploratory data analysis examines which employers and industries are bringing in the most immigrants, where these immigrants are moving to, and where they are coming from. It also begins to investigate which factors are correlated with visa approval. For my challenge area, I looked at several methods of topic extraction for text columns about applicants' jobs and industries, including Latent Dirichlet Allocation and two models of non-negative matrix factorization. Finally, this project aims to predict whether visa applications will be approved or denied using logistic regression and machine learning."
   ]
  },
  {
   "cell_type": "markdown",
   "metadata": {},
   "source": [
    "## Description of the Data"
   ]
  },
  {
   "cell_type": "markdown",
   "metadata": {},
   "source": [
    "In order for U.S. employers to hire a foreign worker permanently, the worker must be approved for a certification, or visa, by the U.S. Department of Labor. Data on these applications is posted annually in different sets on the Department's website, which were combined into one large data set and posted on Kaggle by Jacob Boysen (jboysen) as \"us-perm-visas\".<br>\n",
    "This data set, with nearly 375,000 observations and over 70 columns, contains information on all U.S. permanent work visa applications from 2012 to 2017, including employer, position, wage offered, job posting history, employee education, and final decision."
   ]
  },
  {
   "cell_type": "markdown",
   "metadata": {},
   "source": [
    "## Questions to Answer"
   ]
  },
  {
   "cell_type": "markdown",
   "metadata": {},
   "source": [
    "- Which employers, cities, and industries are bringing in the most immigrants? What countries are they coming from?\n",
    "- What factors are correlated with whether a visa request will be approved or denied?\n",
    "- How can I use natural language processing to determine the essential industries and fields bringing in immigrants?\n",
    "- Can I predict whether a visa request will be approved or denied?"
   ]
  },
  {
   "cell_type": "markdown",
   "metadata": {},
   "source": [
    "## Notebooks"
   ]
  },
  {
   "cell_type": "markdown",
   "metadata": {},
   "source": [
    "[Import and Tidy](02-Import-Tidy.ipynb)<br>\n",
    "[Exploratory Data Analysis](03-Exploratory.ipynb)<br>\n",
    "[Topic Modeling and Machine Learning](04-NLP-Modeling.ipynb)<br>\n",
    "[Presentation](05-Presentation.ipynb)<br>"
   ]
  },
  {
   "cell_type": "markdown",
   "metadata": {},
   "source": [
    "## Citations"
   ]
  },
  {
   "cell_type": "markdown",
   "metadata": {},
   "source": [
    "[Boysen, Jacob. “US Permanent Visa Applications.” Kaggle, 24 Aug. 2017](http://www.kaggle.com/jboysen/us-perm-visas/) <br>\n",
    "[Grisel, Olivier, et al. “Topic Extraction with Non-Negative Matrix Factorization and Latent Dirichlet Allocation.” Scikit-Learn, 2017](http://www.scikit-learn.org/stable/auto_examples/applications/plot_topics_extraction_with_nmf_lda.html#sphx-glr-auto-examples-applications-plot-topics-extraction-with-nmf-lda-py)<br>\n",
    "[“OFLC Performance Disclosure Data.” Employment & Training Administration, U.S. Department of Labor, 23 Jan. 2018](www.foreignlaborcert.doleta.gov/performancedata.cfm)<br>\n",
    "[“NAICS Identification Tools.” NAICS Association, 2017](https://www.naics.com/search/)<br>\n",
    "[“Visa Waiver Program (WT/WB Status).” UC Berkeley International Office, UC Regents](https://internationaloffice.berkeley.edu/visa-waiver)<br>\n",
    "[“Nonimmigrant Visa Classifications.” U.S. Department of State, 14 July 2017](https://fam.state.gov/FAM/09FAM/09FAM040201.html)"
   ]
  }
 ],
 "metadata": {
  "kernelspec": {
   "display_name": "Python 3",
   "language": "python",
   "name": "python3"
  },
  "language_info": {
   "codemirror_mode": {
    "name": "ipython",
    "version": 3
   },
   "file_extension": ".py",
   "mimetype": "text/x-python",
   "name": "python",
   "nbconvert_exporter": "python",
   "pygments_lexer": "ipython3",
   "version": "3.7.4"
  }
 },
 "nbformat": 4,
 "nbformat_minor": 4
}
