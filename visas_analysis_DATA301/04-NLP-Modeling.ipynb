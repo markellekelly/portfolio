{
 "cells": [
  {
   "cell_type": "markdown",
   "metadata": {
    "toc-hr-collapsed": false
   },
   "source": [
    "# Topic Extraction and Statistical Modeling"
   ]
  },
  {
   "cell_type": "markdown",
   "metadata": {
    "toc-hr-collapsed": true
   },
   "source": [
    "## Import"
   ]
  },
  {
   "cell_type": "markdown",
   "metadata": {},
   "source": [
    "First, I import the tidy data set from the second notebook, and reset the numeric dtypes."
   ]
  },
  {
   "cell_type": "code",
   "execution_count": 1,
   "metadata": {},
   "outputs": [],
   "source": [
    "import pandas as pd\n",
    "import numpy as np"
   ]
  },
  {
   "cell_type": "code",
   "execution_count": 2,
   "metadata": {},
   "outputs": [],
   "source": [
    "visas = pd.read_csv('/data/markellekelly/visas.csv',parse_dates=['decision_date'],\n",
    "                   dtype=str,index_col=0)"
   ]
  },
  {
   "cell_type": "code",
   "execution_count": 3,
   "metadata": {},
   "outputs": [],
   "source": [
    "numeric_list = ['employer_num_employees','job_info_experience_num_months','overall_wage_offer','employer_desperation',\n",
    "               'annual_wage']\n",
    "for x in numeric_list:\n",
    "    visas[x] = visas[x].apply(pd.to_numeric)"
   ]
  },
  {
   "cell_type": "markdown",
   "metadata": {
    "tags": [
     "markelle"
    ],
    "toc-hr-collapsed": true
   },
   "source": [
    "## Not Asked Signal"
   ]
  },
  {
   "cell_type": "markdown",
   "metadata": {},
   "source": [
    "Since slightly different information was recorded each year, I set values to -1 if the question was not asked on that visa application, differentiating between not asked and asked, but not answered, for the purpose of machine learning."
   ]
  },
  {
   "cell_type": "code",
   "execution_count": 4,
   "metadata": {
    "tags": [
     "markelle"
    ]
   },
   "outputs": [],
   "source": [
    "def check_missing(ind1,ind2,colname):\n",
    "    '''Ensures that all values are missing where they should be'''\n",
    "    i=ind1\n",
    "    check=True\n",
    "    while i <= ind2:\n",
    "        if pd.notnull(visas[colname][i]):\n",
    "            check= False\n",
    "        i += 1\n",
    "    assert check"
   ]
  },
  {
   "cell_type": "code",
   "execution_count": 5,
   "metadata": {},
   "outputs": [],
   "source": [
    "list1 = ['employer_num_employees','foreign_worker_info_birth_country',\n",
    "         'foreign_worker_info_education','foreign_worker_info_inst',\n",
    "         'ji_live_in_domestic_service','job_info_education',\n",
    "         'job_info_experience','job_info_experience_num_months',\n",
    "         'job_info_foreign_ed','job_info_foreign_lang_req',\n",
    "         'job_info_work_postal_code','ri_layoff_in_past_six_months',\n",
    "         'employer_desperation','professional_occupation']\n",
    "for x in list1:\n",
    "    check_missing(0,126847,x)\n",
    "    visas.loc[0:126848,x] = \"-1\""
   ]
  },
  {
   "cell_type": "markdown",
   "metadata": {
    "tags": [
     "asdfkajewaef"
    ],
    "toc-hr-collapsed": false
   },
   "source": [
    "## Topic Extraction with Non-negative Matrix Factorization and Latent Dirichlet Allocation"
   ]
  },
  {
   "cell_type": "markdown",
   "metadata": {},
   "source": [
    "I used three different methods of unsupervised topic extraction to model 15 topics of the all_text column, attempting to describe the different job types/industries on visa applications. The first two methods are different types of non-negative matrix factorization (Frobenius and Kullback-Leiber), and the last model uses latent dirichlet allocation."
   ]
  },
  {
   "cell_type": "markdown",
   "metadata": {},
   "source": [
    "The first function I wrote creates a dictionary of the topics and their top words, and the second prints these in a nicely formatted way, based loosely on the function for printing in this example: http://scikit-learn.org/stable/auto_examples/applications/plot_topics_extraction_with_nmf_lda.html#sphx-glr-auto-examples-applications-plot-topics-extraction-with-nmf-lda-py"
   ]
  },
  {
   "cell_type": "code",
   "execution_count": 6,
   "metadata": {},
   "outputs": [],
   "source": [
    "def list_top_words(model, feature_names, top_words):\n",
    "    '''Creates and returns a dictionary with keys corresponding to the topic and values of\n",
    "    lists containing the top words of that topic'''\n",
    "    topdict = {}\n",
    "    for topic_idx, topic in enumerate(model.components_):\n",
    "        keyname = \"Topic {0}\".format(topic_idx)\n",
    "        topdict[keyname] = [feature_names[i] for i in topic.argsort()[:-top_words - 1:-1]]\n",
    "    return topdict"
   ]
  },
  {
   "cell_type": "code",
   "execution_count": 7,
   "metadata": {},
   "outputs": [],
   "source": [
    "def print_top_words(topdict):\n",
    "    '''Prints the topics and their top words based on the input topic dictionary'''\n",
    "    for key in topdict:\n",
    "        string = key + ': '\n",
    "        string += ' '.join([x for x in topdict[key]])\n",
    "        print(string)"
   ]
  },
  {
   "cell_type": "code",
   "execution_count": 8,
   "metadata": {},
   "outputs": [],
   "source": [
    "from sklearn.feature_extraction.text import TfidfVectorizer, CountVectorizer\n",
    "from sklearn.decomposition import NMF, LatentDirichletAllocation"
   ]
  },
  {
   "cell_type": "code",
   "execution_count": 9,
   "metadata": {},
   "outputs": [],
   "source": [
    "features = 1000\n",
    "components = 15\n",
    "top_words = 15"
   ]
  },
  {
   "cell_type": "code",
   "execution_count": 10,
   "metadata": {},
   "outputs": [],
   "source": [
    "v = TfidfVectorizer(max_df=0.95, min_df=2,max_features=features, stop_words='english')\n",
    "tfidf = v.fit_transform(visas['all_text'])\n",
    "cv = CountVectorizer(max_df=0.95, min_df=2,max_features=features,stop_words='english')\n",
    "tdm = cv.fit_transform(visas['all_text'])"
   ]
  },
  {
   "cell_type": "markdown",
   "metadata": {},
   "source": [
    "### Non-negative Matrix Factorization (Frobenius norm)"
   ]
  },
  {
   "cell_type": "markdown",
   "metadata": {},
   "source": [
    "Non-negative matrix factorization performs topic extraction with two non-negative matrices; I used NMF from sklearn.decomposition. The Frobenius norm is the default value of the beta loss parameter."
   ]
  },
  {
   "cell_type": "code",
   "execution_count": 11,
   "metadata": {
    "tags": [
     "awoef"
    ]
   },
   "outputs": [],
   "source": [
    "#Note: Takes about one minute to run:\n",
    "nmf = NMF(n_components=components, random_state=1,alpha=.1, l1_ratio=.5).fit(tfidf)"
   ]
  },
  {
   "cell_type": "code",
   "execution_count": 12,
   "metadata": {},
   "outputs": [
    {
     "name": "stdout",
     "output_type": "stream",
     "text": [
      "Topic 0: programming custom computer services applications developers engineers analysts programmer analyst programmers administrators database sr network\n",
      "Topic 1: systems computer design analysts services related analyst network administrators bus iv consultant sci administrator math\n",
      "Topic 2: science computer related engineer engineering field software senior developer programmer technical development analyst sr ii\n",
      "Topic 3: engineering electrical engineer electronics related electronic field manufacturing senior engineers software communication technical communications engg\n",
      "Topic 4: mfg advanced manufacturing engineers semiconductor electronics electronic component equipment computer device materials communications peripheral scie\n",
      "Topic 5: business administration marketing analyst manager management research managers related market analysts operations specialists accounting senior\n",
      "Topic 6: sci comp eng math bus analyst info field ii systems engg electronic physics closely iv\n",
      "Topic 7: schools colleges universities teachers professional postsecondary educational education professor assistant elementary services secondary special school\n",
      "Topic 8: mechanical engineers engineering aerospace civil industrial services engineer manufacturing sales chemical construction project vehicle machinery\n",
      "Topic 9: poultry processing meat cutters fish trimmers worker processor trimmer butchers packers agribusiness cutter line production\n",
      "Topic 10: health medicine general care physicians medical internists offices mental surgical hospitals specialists surgeons internal physician\n",
      "Topic 11: information managers technology systems manager computer security senior management project marketing lead web related field\n",
      "Topic 12: software developers applications publishers services design engineer developer related systems retail shopping info technology phys\n",
      "Topic 13: management economic sector consulting scientific technical services administrative analysts general wholesalers merchant marketing research operations\n",
      "Topic 14: finance financial investment banking securities dealing analysts accounting accountants activities auditors economics commercial transactions reserve\n"
     ]
    }
   ],
   "source": [
    "tfidf_feature_names = v.get_feature_names()\n",
    "fnmftopicdict = list_top_words(nmf, tfidf_feature_names, top_words)\n",
    "print_top_words(fnmftopicdict)"
   ]
  },
  {
   "cell_type": "markdown",
   "metadata": {},
   "source": [
    "### Non-negative Matrix Factorization (generalized Kullback-Leiber divergence)"
   ]
  },
  {
   "cell_type": "markdown",
   "metadata": {},
   "source": [
    "This second type of topic modeling still uses non-negative matrix factorization, but with the Kullback-Leiber norm (equivalent to setting the beta loss parameter to 1, instead of 2). "
   ]
  },
  {
   "cell_type": "code",
   "execution_count": 13,
   "metadata": {},
   "outputs": [],
   "source": [
    "#Note: Takes about two minutes to run:\n",
    "nmf = NMF(n_components=components, random_state=1, beta_loss='kullback-leibler',\n",
    "          solver='mu', max_iter=1000, alpha=.1, l1_ratio=.5).fit(tfidf)"
   ]
  },
  {
   "cell_type": "code",
   "execution_count": 14,
   "metadata": {},
   "outputs": [
    {
     "name": "stdout",
     "output_type": "stream",
     "text": [
      "Topic 0: software services developers applications computer programming custom science systems developer engineering analyst programmer engineer related\n",
      "Topic 1: systems computer analysts analyst related science design engineering network administrators field senior administrator consultant sr\n",
      "Topic 2: related engineer science field engineering software developers electronic electrical senior web development shopping ii technical\n",
      "Topic 3: engineering manufacturing engineer engineers electrical electronics mechanical industrial equipment senior product power sales quality staff\n",
      "Topic 4: manufacturing mfg engineers semiconductor advanced computer electronic electronics component equipment device television scie wireless radio\n",
      "Topic 5: business managers administration marketing manager research stores retail management specialists market wholesalers operations merchant specialist\n",
      "Topic 6: sci math comp eng services engineering bus info engg rel sys analyst field ii phys\n",
      "Topic 7: schools universities teachers professional educational services postsecondary colleges education professor secondary school assistant elementary special\n",
      "Topic 8: services design engineers engineering mechanical construction commercial aerospace civil housekeeping maids designer contractors designers janitorial\n",
      "Topic 9: processing poultry meat workers cutters trimmers worker fish production preparation line service food limited supervisors\n",
      "Topic 10: health offices general medical care service physicians surgical restaurants specialists medicine cooks hospitals mental internists\n",
      "Topic 11: information technology managers services manager management engineering technical project database senior security architectural web lead\n",
      "Topic 12: publishers software systems research sciences development physical telecommunications engineering life wireless physics operations scientist scientists\n",
      "Topic 13: sector management economic technical consulting scientific wholesalers general merchant administrative organizations religious staff member private\n",
      "Topic 14: finance financial investment securities banking dealing auditors accountants activities insurance analysts statisticians commercial statistics offices\n"
     ]
    }
   ],
   "source": [
    "tfidf_feature_names = v.get_feature_names()\n",
    "knmftopicdict = list_top_words(nmf, tfidf_feature_names, top_words)\n",
    "print_top_words(knmftopicdict)"
   ]
  },
  {
   "cell_type": "markdown",
   "metadata": {},
   "source": [
    "### Latent Dirichlet Allocation"
   ]
  },
  {
   "cell_type": "markdown",
   "metadata": {},
   "source": [
    "This final topic model uses latent dirichlet allocation, also from sklearn.decomposition, to find latent, or hidden, topics based on a vector of words."
   ]
  },
  {
   "cell_type": "code",
   "execution_count": 15,
   "metadata": {},
   "outputs": [],
   "source": [
    "lda = LatentDirichletAllocation(n_components=components, max_iter=5, learning_method='online',\n",
    "                                learning_offset=50.,random_state=0)"
   ]
  },
  {
   "cell_type": "code",
   "execution_count": 16,
   "metadata": {},
   "outputs": [
    {
     "data": {
      "text/plain": [
       "LatentDirichletAllocation(batch_size=128, doc_topic_prior=None,\n",
       "             evaluate_every=-1, learning_decay=0.7,\n",
       "             learning_method='online', learning_offset=50.0,\n",
       "             max_doc_update_iter=100, max_iter=5, mean_change_tol=0.001,\n",
       "             n_components=15, n_jobs=1, n_topics=None, perp_tol=0.1,\n",
       "             random_state=0, topic_word_prior=None,\n",
       "             total_samples=1000000.0, verbose=0)"
      ]
     },
     "execution_count": 16,
     "metadata": {},
     "output_type": "execute_result"
    }
   ],
   "source": [
    "#Note: Takes about four minutes to run:\n",
    "lda.fit(tdm)"
   ]
  },
  {
   "cell_type": "code",
   "execution_count": 17,
   "metadata": {},
   "outputs": [
    {
     "name": "stdout",
     "output_type": "stream",
     "text": [
      "Topic 0: financial finance related investment banking activities securities insurance architectural analysts commercial dealing services cleaners designer\n",
      "Topic 1: bus industrial sales wholesalers merchant tech search portals equipment transportation miscellaneous machinery supplies head goods\n",
      "Topic 2: field electronic development specialists specialist sciences associate shopping closely materials physical mental life physician educ\n",
      "Topic 3: information manufacturing technology medicine computer electronic semiconductor component product managers engineers market electronics device advanced\n",
      "Topic 4: ii communication staff construction iv applied related workers family java member environmental social building specialty\n",
      "Topic 5: manager poultry general medical meat cutters stores fish trimmers managers support surgical hospitals workers internal\n",
      "Topic 6: comp senior engg health administrators network rel sys offices database phys physicians admin telecommunications administrator\n",
      "Topic 7: computer systems sci design related services analyst eng analysts info mis closely cis test principal\n",
      "Topic 8: research processing communications data 14 operations manufacturing director wireless equipment broadcasting scientist television radio hardware\n",
      "Topic 9: science business math schools professional education teachers colleges mathematics physics universities economics assistant services postsecondary\n",
      "Topic 10: developers service food restaurants web architect cooks cook limited combined fast restaurant dental facilities chef\n",
      "Topic 11: management administration technical marketing services managers consulting analysts analyst accountants worker auditors scientific public administrative\n",
      "Topic 12: software computer applications services programming custom engineer related developer programmer engg quality application cs cis\n",
      "Topic 13: publishers sr accounting lead consultant engr scie preparation discipline chemical international mgmt distribution power program\n",
      "Topic 14: engineering electrical related engineer engineers mechanical electronics services civil project production iii credit aerospace biomedical\n"
     ]
    }
   ],
   "source": [
    "tf_feature_names = cv.get_feature_names()\n",
    "ldatopicdict = list_top_words(lda, tf_feature_names, top_words)\n",
    "print_top_words(ldatopicdict)"
   ]
  },
  {
   "cell_type": "markdown",
   "metadata": {
    "toc-hr-collapsed": true
   },
   "source": [
    "## Primary Topic Determination using Word Counts"
   ]
  },
  {
   "cell_type": "markdown",
   "metadata": {},
   "source": [
    "Of the three topic models created, I chose the Frobenius Non-negative Matrix Factorization model because it made the clearest distinction between hospital and restaurant topics (otherwise, all three models were very similar). To include these topics in my data set for modeling, I wrote a function that uses basic word counts to determine the most relevant topic for each observation. I created a new column in my data set containing each applicant's determined primary topic."
   ]
  },
  {
   "cell_type": "code",
   "execution_count": 18,
   "metadata": {
    "tags": [
     "qawnkdaif"
    ]
   },
   "outputs": [],
   "source": [
    "def primary_topic(x):\n",
    "    '''Using word counts, determines the most relevant topic for an observation'''\n",
    "    countsdict={'Topic {0}'.format(x):0 for x in range(0,15)}\n",
    "    for word in x.split(' '):\n",
    "        for key in fnmftopicdict:\n",
    "            if word.lower() in fnmftopicdict[key]:\n",
    "                countsdict[key] += 1\n",
    "    if max(countsdict.values()) == 0:\n",
    "        return 'None'\n",
    "    return max(countsdict, key=countsdict.get)"
   ]
  },
  {
   "cell_type": "code",
   "execution_count": 19,
   "metadata": {},
   "outputs": [],
   "source": [
    "visas['topic'] = visas['all_text'].apply(primary_topic)"
   ]
  },
  {
   "cell_type": "markdown",
   "metadata": {
    "toc-hr-collapsed": true
   },
   "source": [
    "## Feature Engineering"
   ]
  },
  {
   "cell_type": "markdown",
   "metadata": {},
   "source": [
    "Since there are too many different employers in this data set to create dummy variables for all employers, I made a list of all employers with over 500 applicants, and only included those 48 employers in a new column. In this new column, if the applicant's employer was not among these top 48, the value is simply \"Other\"."
   ]
  },
  {
   "cell_type": "code",
   "execution_count": 20,
   "metadata": {},
   "outputs": [],
   "source": [
    "visasemployers = visas.groupby('employer_name')['case_no'].aggregate('count').reset_index().sort_values(by='case_no',ascending=False)\n",
    "visastopemployers = visasemployers[visasemployers['case_no']>=500]\n",
    "topemployers = list(visastopemployers['employer_name'])"
   ]
  },
  {
   "cell_type": "code",
   "execution_count": 21,
   "metadata": {},
   "outputs": [],
   "source": [
    "def simple_employer(x):\n",
    "    '''If employer is in the top 48 employers (more than 500 applicants), return the employer name.\n",
    "    Otherwise, return a string of the word Other.'''\n",
    "    if x in topemployers:\n",
    "        return x\n",
    "    return \"Other\""
   ]
  },
  {
   "cell_type": "code",
   "execution_count": 22,
   "metadata": {},
   "outputs": [],
   "source": [
    "visas['employer_simple'] = visas['employer_name'].apply(simple_employer)"
   ]
  },
  {
   "cell_type": "code",
   "execution_count": 23,
   "metadata": {},
   "outputs": [],
   "source": [
    "def get_year(x):\n",
    "    if pd.notnull(x):\n",
    "        return x.year\n",
    "    return x"
   ]
  },
  {
   "cell_type": "code",
   "execution_count": 24,
   "metadata": {},
   "outputs": [],
   "source": [
    "visas['decision_year'] = visas['decision_date'].apply(get_year)"
   ]
  },
  {
   "cell_type": "markdown",
   "metadata": {},
   "source": [
    "I then used pandas.get_dummies to create dummy variables for categorical columns of the data set, except for very large categorical variables (like the original employer_name column) which could not be included due to limited memory."
   ]
  },
  {
   "cell_type": "code",
   "execution_count": 25,
   "metadata": {},
   "outputs": [],
   "source": [
    "categorical = ['case_status','class_of_admission','foreign_worker_info_birth_country',\n",
    "               'foreign_worker_info_education','ji_live_in_domestic_service','job_info_foreign_ed',\n",
    "              'job_info_foreign_lang_req','job_info_education','naics_code','pw_level_9089',\n",
    "               'ri_layoff_in_past_six_months','wage_offer_unit_of_pay_9089',\n",
    "               'professional_occupation','topic','employer_simple','decision_year']\n",
    "for data in categorical:\n",
    "    visas[data] = pd.get_dummies(visas[data], drop_first = True)"
   ]
  },
  {
   "cell_type": "markdown",
   "metadata": {
    "toc-hr-collapsed": true
   },
   "source": [
    "## Logistic Regression with 5-fold Cross Validation"
   ]
  },
  {
   "cell_type": "markdown",
   "metadata": {},
   "source": [
    "I first attempted to model whether applications will be approved or denied using logistic regression (with 5-fold cross validation). Since the data set is very unbalanced, I spent a lot of time adjusting the class_weight parameter of sklearn.linear_model's LogisticRegressionCV, but was unable to accurately predict the denial of applications (only their approval). For this and every model, I used train_test_split with a test size of 25%."
   ]
  },
  {
   "cell_type": "code",
   "execution_count": 26,
   "metadata": {},
   "outputs": [],
   "source": [
    "from sklearn.linear_model import LogisticRegressionCV\n",
    "from sklearn.model_selection import cross_val_score, train_test_split"
   ]
  },
  {
   "cell_type": "code",
   "execution_count": 27,
   "metadata": {},
   "outputs": [],
   "source": [
    "lreg = LogisticRegressionCV(cv=5,class_weight={0:.149, 1:.851})"
   ]
  },
  {
   "cell_type": "code",
   "execution_count": 28,
   "metadata": {},
   "outputs": [],
   "source": [
    "visas_non_null = visas.dropna(subset=['class_of_admission','employer_num_employees','foreign_worker_info_birth_country',\n",
    "                 'foreign_worker_info_education','ji_live_in_domestic_service','job_info_foreign_ed',\n",
    "                 'job_info_foreign_lang_req','job_info_experience_num_months','job_info_education','decision_year',\n",
    "                 'naics_code','pw_level_9089','ri_layoff_in_past_six_months','wage_offer_unit_of_pay_9089',\n",
    "                 'employer_desperation','annual_wage','professional_occupation'])"
   ]
  },
  {
   "cell_type": "code",
   "execution_count": 29,
   "metadata": {},
   "outputs": [],
   "source": [
    "X = visas_non_null[['class_of_admission','employer_num_employees','decision_year','foreign_worker_info_birth_country',\n",
    "                 'foreign_worker_info_education','ji_live_in_domestic_service','job_info_foreign_ed',\n",
    "                    'job_info_foreign_lang_req','job_info_experience_num_months','job_info_education',\n",
    "                 'naics_code','pw_level_9089','ri_layoff_in_past_six_months','wage_offer_unit_of_pay_9089',\n",
    "                 'employer_desperation','annual_wage','professional_occupation','topic','employer_simple']]"
   ]
  },
  {
   "cell_type": "code",
   "execution_count": 30,
   "metadata": {},
   "outputs": [],
   "source": [
    "y=visas_non_null['case_status']"
   ]
  },
  {
   "cell_type": "code",
   "execution_count": 31,
   "metadata": {},
   "outputs": [],
   "source": [
    "X_train, X_test, y_train, y_test = train_test_split(X, y, test_size = .25, random_state=1)"
   ]
  },
  {
   "cell_type": "code",
   "execution_count": 32,
   "metadata": {},
   "outputs": [
    {
     "data": {
      "text/plain": [
       "LogisticRegressionCV(Cs=10, class_weight={0: 0.149, 1: 0.851}, cv=5,\n",
       "           dual=False, fit_intercept=True, intercept_scaling=1.0,\n",
       "           max_iter=100, multi_class='ovr', n_jobs=1, penalty='l2',\n",
       "           random_state=None, refit=True, scoring=None, solver='lbfgs',\n",
       "           tol=0.0001, verbose=0)"
      ]
     },
     "execution_count": 32,
     "metadata": {},
     "output_type": "execute_result"
    }
   ],
   "source": [
    "lreg.fit(X_train,y_train)"
   ]
  },
  {
   "cell_type": "code",
   "execution_count": 33,
   "metadata": {},
   "outputs": [],
   "source": [
    "y_pred = lreg.predict(X_test)"
   ]
  },
  {
   "cell_type": "code",
   "execution_count": 34,
   "metadata": {},
   "outputs": [
    {
     "data": {
      "text/plain": [
       "0.9229857128972689"
      ]
     },
     "execution_count": 34,
     "metadata": {},
     "output_type": "execute_result"
    }
   ],
   "source": [
    "lreg.score(X_test, y_test)"
   ]
  },
  {
   "cell_type": "code",
   "execution_count": 35,
   "metadata": {},
   "outputs": [
    {
     "name": "stdout",
     "output_type": "stream",
     "text": [
      "             precision    recall  f1-score   support\n",
      "\n",
      "          0       0.98      0.94      0.96     49992\n",
      "          1       0.16      0.41      0.23      1453\n",
      "\n",
      "avg / total       0.96      0.92      0.94     51445\n",
      "\n"
     ]
    }
   ],
   "source": [
    "from sklearn import metrics\n",
    "print(metrics.classification_report(y_pred, y_test))"
   ]
  },
  {
   "cell_type": "code",
   "execution_count": 36,
   "metadata": {},
   "outputs": [],
   "source": [
    "from sklearn.metrics import confusion_matrix\n",
    "import seaborn as sns\n",
    "import matplotlib.pyplot as plt"
   ]
  },
  {
   "cell_type": "code",
   "execution_count": 37,
   "metadata": {},
   "outputs": [
    {
     "data": {
      "image/png": "[encoded data removed]",
      "text/plain": [
       "<matplotlib.figure.Figure at 0x7f1a729f79e8>"
      ]
     },
     "metadata": {},
     "output_type": "display_data"
    }
   ],
   "source": [
    "mat = confusion_matrix(y_test, y_pred)\n",
    "sns.heatmap(mat, square=True, annot=True,fmt='d', cbar=False)\n",
    "plt.xlabel('predicted value')\n",
    "plt.ylabel('true value');"
   ]
  },
  {
   "cell_type": "markdown",
   "metadata": {},
   "source": [
    "Overall, logistic regression is not an effective way to model the data, especially because it is so unbalanced (only about 7% of the permanent visa applications are denied). As is clear from the confusion matrix, the model just predicts approval (0) most of the time, making it appear effective (the score is 0.92), but not accurately predicting when an application will be denied."
   ]
  },
  {
   "cell_type": "markdown",
   "metadata": {
    "toc-hr-collapsed": true
   },
   "source": [
    "## Modeling: KNN"
   ]
  },
  {
   "cell_type": "markdown",
   "metadata": {},
   "source": [
    "I then attempted to model the approval or denial of appplications using scikit-learn's K-Nearest Neighbors model. After adjusting the parameters quite a bit, I determined the best number of neighbors to be 8, and the best algorithm to be \"auto\"."
   ]
  },
  {
   "cell_type": "code",
   "execution_count": 38,
   "metadata": {},
   "outputs": [],
   "source": [
    "from sklearn.neighbors import KNeighborsClassifier "
   ]
  },
  {
   "cell_type": "code",
   "execution_count": 39,
   "metadata": {},
   "outputs": [],
   "source": [
    "knn = KNeighborsClassifier(n_neighbors=8,algorithm = 'auto')"
   ]
  },
  {
   "cell_type": "code",
   "execution_count": 40,
   "metadata": {},
   "outputs": [
    {
     "data": {
      "text/plain": [
       "0.929614151035086"
      ]
     },
     "execution_count": 40,
     "metadata": {},
     "output_type": "execute_result"
    }
   ],
   "source": [
    "knn.fit(X_train,y_train)\n",
    "y_pred = knn.predict(X_test)\n",
    "knn.score(X_test, y_test)"
   ]
  },
  {
   "cell_type": "code",
   "execution_count": 41,
   "metadata": {},
   "outputs": [
    {
     "name": "stdout",
     "output_type": "stream",
     "text": [
      "             precision    recall  f1-score   support\n",
      "\n",
      "          0       0.99      0.94      0.96     50551\n",
      "          1       0.13      0.54      0.21       894\n",
      "\n",
      "avg / total       0.98      0.93      0.95     51445\n",
      "\n"
     ]
    }
   ],
   "source": [
    "print(metrics.classification_report(y_pred, y_test))"
   ]
  },
  {
   "cell_type": "code",
   "execution_count": 42,
   "metadata": {},
   "outputs": [
    {
     "data": {
      "image/png": "[encoded data removed]",
      "text/plain": [
       "<matplotlib.figure.Figure at 0x7f1aa8b03b00>"
      ]
     },
     "metadata": {},
     "output_type": "display_data"
    }
   ],
   "source": [
    "mat = confusion_matrix(y_test, y_pred)\n",
    "sns.heatmap(mat, square=True, annot=True, fmt='d',cbar=False)\n",
    "plt.xlabel('predicted value')\n",
    "plt.ylabel('true value');"
   ]
  },
  {
   "cell_type": "markdown",
   "metadata": {},
   "source": [
    "The KNN model makes an improvement on the logistic regression model (the score increased by 0.6%), but is still not accurately predicting the denial of applications."
   ]
  },
  {
   "cell_type": "markdown",
   "metadata": {},
   "source": [
    "## Modeling: Random Forest"
   ]
  },
  {
   "cell_type": "markdown",
   "metadata": {},
   "source": [
    "Finally, I tried a random forest to model whether applications will be approved or denied. Once again, I spent a lot of time adjusting the class_weight parameter to account for the unbalanced data, but was unable to make an improvement on either of the previous models."
   ]
  },
  {
   "cell_type": "code",
   "execution_count": 43,
   "metadata": {},
   "outputs": [],
   "source": [
    "from sklearn.ensemble import RandomForestClassifier"
   ]
  },
  {
   "cell_type": "code",
   "execution_count": 44,
   "metadata": {},
   "outputs": [],
   "source": [
    "rfc = RandomForestClassifier(n_estimators=40,class_weight={0:.19, 1:.81})"
   ]
  },
  {
   "cell_type": "code",
   "execution_count": 45,
   "metadata": {},
   "outputs": [
    {
     "data": {
      "text/plain": [
       "RandomForestClassifier(bootstrap=True, class_weight={0: 0.19, 1: 0.81},\n",
       "            criterion='gini', max_depth=None, max_features='auto',\n",
       "            max_leaf_nodes=None, min_impurity_decrease=0.0,\n",
       "            min_impurity_split=None, min_samples_leaf=1,\n",
       "            min_samples_split=2, min_weight_fraction_leaf=0.0,\n",
       "            n_estimators=40, n_jobs=1, oob_score=False, random_state=None,\n",
       "            verbose=0, warm_start=False)"
      ]
     },
     "execution_count": 45,
     "metadata": {},
     "output_type": "execute_result"
    }
   ],
   "source": [
    "rfc.fit(X_train, y_train)"
   ]
  },
  {
   "cell_type": "code",
   "execution_count": 46,
   "metadata": {},
   "outputs": [],
   "source": [
    "y_pred = rfc.predict(X_test)"
   ]
  },
  {
   "cell_type": "code",
   "execution_count": 47,
   "metadata": {},
   "outputs": [
    {
     "data": {
      "text/plain": [
       "0.9022062396734376"
      ]
     },
     "execution_count": 47,
     "metadata": {},
     "output_type": "execute_result"
    }
   ],
   "source": [
    "rfc.score(X_test, y_test)"
   ]
  },
  {
   "cell_type": "code",
   "execution_count": 48,
   "metadata": {},
   "outputs": [
    {
     "name": "stdout",
     "output_type": "stream",
     "text": [
      "             precision    recall  f1-score   support\n",
      "\n",
      "          0       0.95      0.95      0.95     47689\n",
      "          1       0.33      0.32      0.32      3756\n",
      "\n",
      "avg / total       0.90      0.90      0.90     51445\n",
      "\n"
     ]
    }
   ],
   "source": [
    "print(metrics.classification_report(y_pred, y_test))"
   ]
  },
  {
   "cell_type": "code",
   "execution_count": 49,
   "metadata": {},
   "outputs": [
    {
     "data": {
      "image/png": "[encoded data removed]",
      "text/plain": [
       "<matplotlib.figure.Figure at 0x7f1aa86c75c0>"
      ]
     },
     "metadata": {},
     "output_type": "display_data"
    }
   ],
   "source": [
    "mat = confusion_matrix(y_test, y_pred)\n",
    "sns.heatmap(mat.T, square=True, annot=True, fmt='d', cbar=False)\n",
    "plt.xlabel('true label')\n",
    "plt.ylabel('predicted label');"
   ]
  },
  {
   "cell_type": "markdown",
   "metadata": {},
   "source": [
    "This model has the lowest score of all three (.901), and is significantly less accurate than just predicting all applications will be approved."
   ]
  },
  {
   "cell_type": "markdown",
   "metadata": {},
   "source": [
    "Modeling this data set proved very difficult, due to the unbalanced nature of the data. Overall, the K-Nearest Neighbors model was most effective, with a score of 0.9296, an average precision of 98%, and an average recall of 93%. Unfortunately, this is no more accurate  than guessing that all permanent visa applications are approved, since only about 7% are denied.<br> A more complex model and some work with sub-sampling may help create more accurate predictions."
   ]
  },
  {
   "cell_type": "markdown",
   "metadata": {},
   "source": [
    "Next: [Presentation](05-Presentation.ipynb)<br>"
   ]
  }
 ],
 "metadata": {
  "kernelspec": {
   "display_name": "Python 3",
   "language": "python",
   "name": "python3"
  },
  "language_info": {
   "codemirror_mode": {
    "name": "ipython",
    "version": 3
   },
   "file_extension": ".py",
   "mimetype": "text/x-python",
   "name": "python",
   "nbconvert_exporter": "python",
   "pygments_lexer": "ipython3",
   "version": "3.7.4"
  },
  "toc-autonumbering": true,
  "toc-showcode": true,
  "toc-showmarkdowntxt": false,
  "toc-showtags": false
 },
 "nbformat": 4,
 "nbformat_minor": 4
}
