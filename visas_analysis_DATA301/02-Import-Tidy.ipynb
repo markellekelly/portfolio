{
 "cells": [
  {
   "cell_type": "markdown",
   "metadata": {},
   "source": [
    "# Import and Tidy Data"
   ]
  },
  {
   "cell_type": "markdown",
   "metadata": {},
   "source": [
    "## Import"
   ]
  },
  {
   "cell_type": "markdown",
   "metadata": {},
   "source": [
    "In this section, the original visas data set is imported from a csv file. As visible from the head of the data set, there are split columns containing the same information which need to be merged (country_of_citizenship vs. country_of_citzenship), as well as inconsistencies in NaN values. Less obviously, there are issues in the numeric columns that prevent them from being read in with a float dtype; some contain commas, while others do not."
   ]
  },
  {
   "cell_type": "code",
   "execution_count": 1,
   "metadata": {},
   "outputs": [],
   "source": [
    "import pandas as pd\n",
    "import numpy as np"
   ]
  },
  {
   "cell_type": "code",
   "execution_count": 2,
   "metadata": {},
   "outputs": [],
   "source": [
    "visas = pd.read_csv('/data/markellekelly/jboysen/us-perm-visas/us_perm_visas.csv', \n",
    "                    usecols=['add_these_pw_job_title_9089','case_no','case_number',\n",
    "                             'case_status','class_of_admission',\n",
    "                             'country_of_citizenship','country_of_citzenship','decision_date',\n",
    "                             'employer_name','employer_num_employees',\n",
    "                             'foreign_worker_info_birth_country',\n",
    "                             'foreign_worker_info_education','foreign_worker_info_inst',\n",
    "                             'foreign_worker_info_major','fw_info_birth_country',\n",
    "                             'ji_live_in_domestic_service','job_info_education','job_info_experience',\n",
    "                             'job_info_experience_num_months', 'job_info_foreign_ed',\n",
    "                             'job_info_foreign_lang_req','job_info_job_title','job_info_major',\n",
    "                             'job_info_training_field','job_info_work_city',\n",
    "                             'job_info_work_postal_code','job_info_work_state','naics_2007_us_code',\n",
    "                             'naics_2007_us_title','naics_code','naics_title','naics_us_code',\n",
    "                             'naics_us_code_2007','naics_us_title','naics_us_title_2007',\n",
    "                             'pw_level_9089','pw_soc_title',\n",
    "                             'recr_info_coll_univ_teacher',\n",
    "                             'ri_employer_web_post_from', 'ri_employer_web_post_to',\n",
    "                             'recr_info_professional_occ','ri_layoff_in_past_six_months',\n",
    "                             'us_economic_sector','wage_offer_from_9089',\n",
    "                             'wage_offer_to_9089','wage_offer_unit_of_pay_9089',\n",
    "                             'wage_offered_from_9089','wage_offered_to_9089',\n",
    "                             'wage_offered_unit_of_pay_9089'],\n",
    "                    parse_dates=['decision_date','ri_employer_web_post_from',\n",
    "                                'ri_employer_web_post_to'],\n",
    "                    dtype=str)"
   ]
  },
  {
   "cell_type": "code",
   "execution_count": 3,
   "metadata": {},
   "outputs": [
    {
     "data": {
      "text/html": [
       "<div>\n",
       "<style scoped>\n",
       "    .dataframe tbody tr th:only-of-type {\n",
       "        vertical-align: middle;\n",
       "    }\n",
       "\n",
       "    .dataframe tbody tr th {\n",
       "        vertical-align: top;\n",
       "    }\n",
       "\n",
       "    .dataframe thead th {\n",
       "        text-align: right;\n",
       "    }\n",
       "</style>\n",
       "<table border=\"1\" class=\"dataframe\">\n",
       "  <thead>\n",
       "    <tr style=\"text-align: right;\">\n",
       "      <th></th>\n",
       "      <th>add_these_pw_job_title_9089</th>\n",
       "      <th>case_no</th>\n",
       "      <th>case_number</th>\n",
       "      <th>case_status</th>\n",
       "      <th>class_of_admission</th>\n",
       "      <th>country_of_citizenship</th>\n",
       "      <th>country_of_citzenship</th>\n",
       "      <th>decision_date</th>\n",
       "      <th>employer_name</th>\n",
       "      <th>employer_num_employees</th>\n",
       "      <th>...</th>\n",
       "      <th>ri_employer_web_post_from</th>\n",
       "      <th>ri_employer_web_post_to</th>\n",
       "      <th>ri_layoff_in_past_six_months</th>\n",
       "      <th>us_economic_sector</th>\n",
       "      <th>wage_offer_from_9089</th>\n",
       "      <th>wage_offer_to_9089</th>\n",
       "      <th>wage_offer_unit_of_pay_9089</th>\n",
       "      <th>wage_offered_from_9089</th>\n",
       "      <th>wage_offered_to_9089</th>\n",
       "      <th>wage_offered_unit_of_pay_9089</th>\n",
       "    </tr>\n",
       "  </thead>\n",
       "  <tbody>\n",
       "    <tr>\n",
       "      <th>0</th>\n",
       "      <td>NaN</td>\n",
       "      <td>A-07323-97014</td>\n",
       "      <td>NaN</td>\n",
       "      <td>Certified</td>\n",
       "      <td>J-1</td>\n",
       "      <td>NaN</td>\n",
       "      <td>ARMENIA</td>\n",
       "      <td>2012-02-01</td>\n",
       "      <td>NETSOFT USA INC.</td>\n",
       "      <td>NaN</td>\n",
       "      <td>...</td>\n",
       "      <td>nan</td>\n",
       "      <td>NaT</td>\n",
       "      <td>NaN</td>\n",
       "      <td>IT</td>\n",
       "      <td>75629.0</td>\n",
       "      <td>NaN</td>\n",
       "      <td>yr</td>\n",
       "      <td>NaN</td>\n",
       "      <td>NaN</td>\n",
       "      <td>NaN</td>\n",
       "    </tr>\n",
       "    <tr>\n",
       "      <th>1</th>\n",
       "      <td>NaN</td>\n",
       "      <td>A-07332-99439</td>\n",
       "      <td>NaN</td>\n",
       "      <td>Denied</td>\n",
       "      <td>B-2</td>\n",
       "      <td>NaN</td>\n",
       "      <td>POLAND</td>\n",
       "      <td>2011-12-21</td>\n",
       "      <td>PINNACLE ENVIRONEMNTAL CORP</td>\n",
       "      <td>NaN</td>\n",
       "      <td>...</td>\n",
       "      <td>nan</td>\n",
       "      <td>NaT</td>\n",
       "      <td>NaN</td>\n",
       "      <td>Other Economic Sector</td>\n",
       "      <td>37024.0</td>\n",
       "      <td>NaN</td>\n",
       "      <td>yr</td>\n",
       "      <td>NaN</td>\n",
       "      <td>NaN</td>\n",
       "      <td>NaN</td>\n",
       "    </tr>\n",
       "    <tr>\n",
       "      <th>2</th>\n",
       "      <td>NaN</td>\n",
       "      <td>A-07333-99643</td>\n",
       "      <td>NaN</td>\n",
       "      <td>Certified</td>\n",
       "      <td>H-1B</td>\n",
       "      <td>NaN</td>\n",
       "      <td>INDIA</td>\n",
       "      <td>2011-12-01</td>\n",
       "      <td>SCHNABEL ENGINEERING, INC.</td>\n",
       "      <td>NaN</td>\n",
       "      <td>...</td>\n",
       "      <td>nan</td>\n",
       "      <td>NaT</td>\n",
       "      <td>NaN</td>\n",
       "      <td>Aerospace</td>\n",
       "      <td>47923.0</td>\n",
       "      <td>NaN</td>\n",
       "      <td>yr</td>\n",
       "      <td>NaN</td>\n",
       "      <td>NaN</td>\n",
       "      <td>NaN</td>\n",
       "    </tr>\n",
       "    <tr>\n",
       "      <th>3</th>\n",
       "      <td>NaN</td>\n",
       "      <td>A-07339-01930</td>\n",
       "      <td>NaN</td>\n",
       "      <td>Certified</td>\n",
       "      <td>B-2</td>\n",
       "      <td>NaN</td>\n",
       "      <td>SOUTH KOREA</td>\n",
       "      <td>2011-12-01</td>\n",
       "      <td>EBENEZER MISSION CHURCH</td>\n",
       "      <td>NaN</td>\n",
       "      <td>...</td>\n",
       "      <td>nan</td>\n",
       "      <td>NaT</td>\n",
       "      <td>NaN</td>\n",
       "      <td>Other Economic Sector</td>\n",
       "      <td>10.97</td>\n",
       "      <td>NaN</td>\n",
       "      <td>hr</td>\n",
       "      <td>NaN</td>\n",
       "      <td>NaN</td>\n",
       "      <td>NaN</td>\n",
       "    </tr>\n",
       "    <tr>\n",
       "      <th>4</th>\n",
       "      <td>NaN</td>\n",
       "      <td>A-07345-03565</td>\n",
       "      <td>NaN</td>\n",
       "      <td>Certified</td>\n",
       "      <td>L-1</td>\n",
       "      <td>NaN</td>\n",
       "      <td>CANADA</td>\n",
       "      <td>2012-01-26</td>\n",
       "      <td>ALBANY INTERNATIONAL CORP.</td>\n",
       "      <td>NaN</td>\n",
       "      <td>...</td>\n",
       "      <td>nan</td>\n",
       "      <td>NaT</td>\n",
       "      <td>NaN</td>\n",
       "      <td>Advanced Mfg</td>\n",
       "      <td>100000.0</td>\n",
       "      <td>NaN</td>\n",
       "      <td>yr</td>\n",
       "      <td>NaN</td>\n",
       "      <td>NaN</td>\n",
       "      <td>NaN</td>\n",
       "    </tr>\n",
       "  </tbody>\n",
       "</table>\n",
       "<p>5 rows × 49 columns</p>\n",
       "</div>"
      ],
      "text/plain": [
       "  add_these_pw_job_title_9089        case_no case_number case_status  \\\n",
       "0                         NaN  A-07323-97014         NaN   Certified   \n",
       "1                         NaN  A-07332-99439         NaN      Denied   \n",
       "2                         NaN  A-07333-99643         NaN   Certified   \n",
       "3                         NaN  A-07339-01930         NaN   Certified   \n",
       "4                         NaN  A-07345-03565         NaN   Certified   \n",
       "\n",
       "  class_of_admission country_of_citizenship country_of_citzenship  \\\n",
       "0                J-1                    NaN               ARMENIA   \n",
       "1                B-2                    NaN                POLAND   \n",
       "2               H-1B                    NaN                 INDIA   \n",
       "3                B-2                    NaN           SOUTH KOREA   \n",
       "4                L-1                    NaN                CANADA   \n",
       "\n",
       "  decision_date                employer_name employer_num_employees  \\\n",
       "0    2012-02-01             NETSOFT USA INC.                    NaN   \n",
       "1    2011-12-21  PINNACLE ENVIRONEMNTAL CORP                    NaN   \n",
       "2    2011-12-01   SCHNABEL ENGINEERING, INC.                    NaN   \n",
       "3    2011-12-01      EBENEZER MISSION CHURCH                    NaN   \n",
       "4    2012-01-26   ALBANY INTERNATIONAL CORP.                    NaN   \n",
       "\n",
       "               ...              ri_employer_web_post_from  \\\n",
       "0              ...                                    nan   \n",
       "1              ...                                    nan   \n",
       "2              ...                                    nan   \n",
       "3              ...                                    nan   \n",
       "4              ...                                    nan   \n",
       "\n",
       "  ri_employer_web_post_to ri_layoff_in_past_six_months     us_economic_sector  \\\n",
       "0                     NaT                          NaN                     IT   \n",
       "1                     NaT                          NaN  Other Economic Sector   \n",
       "2                     NaT                          NaN              Aerospace   \n",
       "3                     NaT                          NaN  Other Economic Sector   \n",
       "4                     NaT                          NaN           Advanced Mfg   \n",
       "\n",
       "  wage_offer_from_9089 wage_offer_to_9089 wage_offer_unit_of_pay_9089  \\\n",
       "0              75629.0                NaN                          yr   \n",
       "1              37024.0                NaN                          yr   \n",
       "2              47923.0                NaN                          yr   \n",
       "3                10.97                NaN                          hr   \n",
       "4             100000.0                NaN                          yr   \n",
       "\n",
       "  wage_offered_from_9089 wage_offered_to_9089 wage_offered_unit_of_pay_9089  \n",
       "0                    NaN                  NaN                           NaN  \n",
       "1                    NaN                  NaN                           NaN  \n",
       "2                    NaN                  NaN                           NaN  \n",
       "3                    NaN                  NaN                           NaN  \n",
       "4                    NaN                  NaN                           NaN  \n",
       "\n",
       "[5 rows x 49 columns]"
      ]
     },
     "execution_count": 3,
     "metadata": {},
     "output_type": "execute_result"
    }
   ],
   "source": [
    "visas.head()"
   ]
  },
  {
   "cell_type": "markdown",
   "metadata": {},
   "source": [
    "Because this project aims to predict whether a visa request was approved or denied, I removed observations where the application was withdrawn or the result is unknown, limiting the data set to my only the observations of interest, and then reset the observation numbers."
   ]
  },
  {
   "cell_type": "code",
   "execution_count": 4,
   "metadata": {},
   "outputs": [],
   "source": [
    "visas = visas[(visas['case_status'] != 'Withdrawn') & (pd.notnull(visas['case_status']))]"
   ]
  },
  {
   "cell_type": "code",
   "execution_count": 5,
   "metadata": {},
   "outputs": [],
   "source": [
    "visas.reset_index(drop=True,inplace=True)"
   ]
  },
  {
   "cell_type": "markdown",
   "metadata": {},
   "source": [
    "## Initial Fixes and Tests"
   ]
  },
  {
   "cell_type": "markdown",
   "metadata": {},
   "source": [
    "To fix the initial problems I found, I wrote functions to remove commas from numeric values, fix NaN values that were input as a string rather than a float, and convert numeric variables the correct dtype (ignoring errors for now). I then applied these functions to whichever columns necessary, coming back from time to time to add new columns."
   ]
  },
  {
   "cell_type": "code",
   "execution_count": 6,
   "metadata": {},
   "outputs": [],
   "source": [
    "def remove_commas(x):\n",
    "    '''remove commas from numbers in a column'''\n",
    "    x= str(x)\n",
    "    newstr = \"\"\n",
    "    for letter in x:\n",
    "        if letter != ',':\n",
    "            newstr = newstr + letter\n",
    "    return newstr"
   ]
  },
  {
   "cell_type": "code",
   "execution_count": 7,
   "metadata": {},
   "outputs": [],
   "source": [
    "def fix_nan(x):\n",
    "    '''changes the text \"nan\" in columns into np.nan'''\n",
    "    if x=='nan':\n",
    "        x=np.nan\n",
    "    return x"
   ]
  },
  {
   "cell_type": "code",
   "execution_count": 8,
   "metadata": {},
   "outputs": [],
   "source": [
    "commas_list = ['employer_num_employees','wage_offer_from_9089','employer_name',\n",
    "              'wage_offer_to_9089','wage_offered_from_9089','wage_offered_to_9089']\n",
    "for x in commas_list:\n",
    "    visas[x] = visas[x].apply(remove_commas)"
   ]
  },
  {
   "cell_type": "code",
   "execution_count": 9,
   "metadata": {},
   "outputs": [],
   "source": [
    "numeric_list = ['wage_offer_from_9089','wage_offer_to_9089','wage_offered_from_9089',\n",
    "      'wage_offered_to_9089']\n",
    "for x in numeric_list:\n",
    "    visas[x] = visas[x].apply(pd.to_numeric,errors='ignore')"
   ]
  },
  {
   "cell_type": "code",
   "execution_count": 10,
   "metadata": {},
   "outputs": [],
   "source": [
    "fix_nan_list=['wage_offered_from_9089','wage_offer_from_9089','wage_offer_to_9089',\n",
    "            'wage_offered_to_9089','wage_offer_unit_of_pay_9089','employer_name',\n",
    "            'wage_offered_unit_of_pay_9089','employer_num_employees',\n",
    "            'add_these_pw_job_title_9089','ri_employer_web_post_from',\n",
    "            'ri_employer_web_post_to']\n",
    "for x in fix_nan_list:\n",
    "    visas[x] = visas[x].apply(fix_nan)"
   ]
  },
  {
   "cell_type": "markdown",
   "metadata": {},
   "source": [
    "## Preliminary Data Overview"
   ]
  },
  {
   "cell_type": "markdown",
   "metadata": {},
   "source": [
    "Before going further, I made a list of columns in the data set, researching what exactly they contained (this was not specified on Kaggle, so I had to dig through different data set descriptions on the Department of Labor website), deleting ones that were empty or otherwise not useful, and making a note of columns that needed to be merged (denoted in <b>bold</b>)."
   ]
  },
  {
   "cell_type": "markdown",
   "metadata": {},
   "source": [
    "- add_these_pw_job_title_9089: Job Title\n",
    "- <b>case_no,case_number</b>: Unique case identifier\n",
    "- case_status: Whether the applications were confirmed or denied (target variable)\n",
    "- class_of_admission: Type of visa\n",
    "- <b>country_of_citizenship,country_of_citzenship</b>: Current country of citizenship\n",
    "- decision_date: Date of decision\n",
    "- employer_name: Name of employer\n",
    "- employer_num_employees: Number of employees of the employer\n",
    "- <b>foreign_worker_info_birth_country,fw_info_birth_country</b>: Country of birth\n",
    "- foreign_worker_info_education: Level of education (Bachelor's, Master's, etc.)\n",
    "- foreign_worker_info_inst: School attended\n",
    "- foreign_worker_info_major: Major\n",
    "- ji_live_in_domestic_service: Whether the application is for a live-in domestic service worker (Y/N)\n",
    "- job_info_education: Minimum level of education required for the job\n",
    "- job_info_experience: Whether experience is required for the job\n",
    "- job_info_experience_num_months: Months of experience required for the job\n",
    "- job_info_foreign_ed: Whether foreign education was accepted for the job\n",
    "- job_info_foreign_lang_req: Whether knowledge of a foreign language was a job requirement\n",
    "- job_info_job_title: Job title (generalized)\n",
    "- job_info_major: Major specified for the job\n",
    "- job_info_training_field: The field of training for the job, if applicable\n",
    "- job_info_work_city: The city where the immigrant is applying to work\n",
    "- job_info_work_postal_code: The postal code where the immigrant is applying to work\n",
    "- job_info_work_state: The state where the immigrant is applying to work\n",
    "- <b>naics_2007_us_code, naics_code, naics_us_code, nacis_us_code_2007</b>: Employer's industry code as classified by the North American Industrial Classification System \n",
    "- <b>naics_2007_us_title,naics_title, naics_us_title, naics_us_title_2007</b>: Title associated with employer's NAICS industry code\n",
    "- pw_level_9089: Level of the prevailing wage determination (a Department of Labor classification)\n",
    "- pw_social_title: Title associated with the occupational code as classified by the Standard Occupational Classification (SOC) System.\n",
    "- ri_employer_web_post_from: Date the job posting was posted on the employer's website\n",
    "- ri_employer_web_post_to: Date the job posting was removed from the employer's website\n",
    "- <i>recr_info_coll_univ_teacher,recr_info_professional_occ </i>: Whether or not the job is a college or university teacher; whether or not the job is a professional occupation, other than a college or university professor (will combine into one column of professional job vs. not professional job)\n",
    "- ri_layoff_in_past_six_months: Whether the employer had a layoff in the field within the last six months\n",
    "- us_economic_sector: Major economic sector associated with the NAICS code of the employer\n",
    "- <b>wage_offer_from_9089,wage_offered_from_9089</b>: Lower range of the wage offer\n",
    "- <b>wage_offer_to_9089,wage_offered_to_9089</b>: Upper range of the wage offer\n",
    "- <b>wage_offer_unit_of_pay_9089,wage_offered_unit_of_pay_9089</b>: Unit of pay of the wage offer (e.g. Hr/Yr)"
   ]
  },
  {
   "cell_type": "markdown",
   "metadata": {},
   "source": [
    "## Column Merges"
   ]
  },
  {
   "cell_type": "markdown",
   "metadata": {},
   "source": [
    "I believed that the columns I designated to be merged (in bold above) did not have any overlap, since they contained the same information, just in different columns, depending on the year asked. To double check this, I wrote a function to assert that the columns do not overlap before I merged them."
   ]
  },
  {
   "cell_type": "code",
   "execution_count": 11,
   "metadata": {},
   "outputs": [],
   "source": [
    "def non_repeating(col1, col2):\n",
    "    '''test that two columns do not have overlapping values'''\n",
    "    test_data = visas[(pd.notnull(visas[col1])) \n",
    "              & (pd.notnull(visas[col2]))]\n",
    "    return (len(test_data) == 0)"
   ]
  },
  {
   "cell_type": "code",
   "execution_count": 12,
   "metadata": {},
   "outputs": [],
   "source": [
    "naics_codes = ['naics_code','naics_us_code','naics_us_code_2007','naics_2007_us_code']\n",
    "naics_titles = ['naics_2007_us_title','naics_title', 'naics_us_title', 'naics_us_title_2007']\n",
    "for i in [naics_codes,naics_titles]:\n",
    "    for j in range(4):\n",
    "        for k in range(4):\n",
    "            if j!=k:\n",
    "                assert non_repeating(i[j],i[k])\n",
    "assert non_repeating('wage_offer_from_9089','wage_offered_from_9089')\n",
    "assert non_repeating('wage_offer_to_9089','wage_offered_to_9089')\n",
    "assert non_repeating('wage_offer_unit_of_pay_9089','wage_offered_unit_of_pay_9089')\n",
    "assert non_repeating('case_no','case_number')"
   ]
  },
  {
   "cell_type": "markdown",
   "metadata": {},
   "source": [
    "Since these tests were successful, I merged the columns. I used the .fillna() method to accomplish this, filling the null values of the first column with values from the second column."
   ]
  },
  {
   "cell_type": "code",
   "execution_count": 13,
   "metadata": {},
   "outputs": [],
   "source": [
    "def merge_cols(cols):\n",
    "    '''adds the values of col2 to col1 and then deletes col2'''\n",
    "    col1,col2 = cols[0],cols[1]\n",
    "    visas[col1] = visas[col1].fillna(visas[col2])\n",
    "    del visas[col2]"
   ]
  },
  {
   "cell_type": "code",
   "execution_count": 14,
   "metadata": {},
   "outputs": [],
   "source": [
    "merge_list = [('country_of_citizenship','country_of_citzenship'), \n",
    "              ('foreign_worker_info_birth_country','fw_info_birth_country'),\n",
    "              ('wage_offer_from_9089','wage_offered_from_9089'),\n",
    "              ('wage_offer_to_9089','wage_offered_to_9089'),\n",
    "              ('wage_offer_unit_of_pay_9089','wage_offered_unit_of_pay_9089'),\n",
    "              ('case_no','case_number')]\n",
    "for i in merge_list:\n",
    "    merge_cols(i)\n",
    "for j in ['naics_2007_us_code', 'naics_us_code','naics_us_code_2007']:\n",
    "    merge_cols(('naics_code',j))\n",
    "for k in ['naics_2007_us_title','naics_us_title', 'naics_us_title_2007']:\n",
    "    merge_cols(('naics_title',k))"
   ]
  },
  {
   "cell_type": "markdown",
   "metadata": {},
   "source": [
    "## Column Tests"
   ]
  },
  {
   "cell_type": "markdown",
   "metadata": {},
   "source": [
    "After fixing preliminary issues and merging columns, I wrote a series of tests for each type of column (text-based, categorical, postal codes, general numeric, dates, and visa case numbers) and functions to fix issues that came up while testing."
   ]
  },
  {
   "cell_type": "markdown",
   "metadata": {},
   "source": [
    "### Text-Based Columns"
   ]
  },
  {
   "cell_type": "markdown",
   "metadata": {},
   "source": [
    "I tested that text columns are in the desired format, ensuring NaN value consistencies, checking for extra commas at the end of values, and confirming that values were strings (or null). I wrote functions converting some columns to uppercase, and fixing a problem where some applications had street addresses, rather than city names, in the city column."
   ]
  },
  {
   "cell_type": "code",
   "execution_count": 15,
   "metadata": {},
   "outputs": [],
   "source": [
    "def test_text_cols(col_name):\n",
    "    '''tests columns with textual data (not nominal data) to ensure NaNs are not strings,\n",
    "    there are no commas at the end of values, and the values are either strings or NaN'''\n",
    "    for x in visas[col_name]:\n",
    "        assert x != 'nan'\n",
    "        if pd.notnull(x):\n",
    "            assert x[-1] != ','\n",
    "        assert type(x) == str or (type(x) == float and pd.isnull(x))"
   ]
  },
  {
   "cell_type": "code",
   "execution_count": 16,
   "metadata": {},
   "outputs": [],
   "source": [
    "def fix_upper_case(x):\n",
    "    '''make text columns all upper case'''\n",
    "    if pd.notnull(x):\n",
    "        return x.upper()\n",
    "    return x"
   ]
  },
  {
   "cell_type": "code",
   "execution_count": 17,
   "metadata": {},
   "outputs": [],
   "source": [
    "def fix_city_names(x):\n",
    "    '''Set addresses in city name columns to NaN'''\n",
    "    if pd.notnull(x) and any(char.isdigit() for char in x):\n",
    "        return np.nan\n",
    "    return x"
   ]
  },
  {
   "cell_type": "code",
   "execution_count": 18,
   "metadata": {},
   "outputs": [],
   "source": [
    "visas['job_info_work_city'] = visas['job_info_work_city'].apply(fix_upper_case).apply(fix_city_names)\n",
    "visas['employer_name'] = visas['employer_name'].apply(fix_upper_case)"
   ]
  },
  {
   "cell_type": "code",
   "execution_count": 19,
   "metadata": {},
   "outputs": [],
   "source": [
    "for column in visas: \n",
    "    visas[column] = visas[column].apply(remove_commas).apply(fix_nan)"
   ]
  },
  {
   "cell_type": "code",
   "execution_count": 20,
   "metadata": {},
   "outputs": [],
   "source": [
    "text_cols = ['add_these_pw_job_title_9089','country_of_citizenship',\n",
    "             'employer_name','foreign_worker_info_birth_country',\n",
    "            'foreign_worker_info_inst','foreign_worker_info_major','job_info_education',\n",
    "             'job_info_job_title', 'job_info_major','job_info_training_field','job_info_work_city',\n",
    "             'job_info_work_state','naics_title','pw_soc_title','us_economic_sector']\n",
    "for column in text_cols:\n",
    "    test_text_cols(column)"
   ]
  },
  {
   "cell_type": "markdown",
   "metadata": {},
   "source": [
    "### Categorical Columns"
   ]
  },
  {
   "cell_type": "markdown",
   "metadata": {},
   "source": [
    "I wrote a function to check that categorical columns have only the correct categories, input as a second parameter, as values. To fix this, I had to write several functions to ensure values conformed to these categories."
   ]
  },
  {
   "cell_type": "code",
   "execution_count": 21,
   "metadata": {},
   "outputs": [],
   "source": [
    "def test_nominal(col_name,possible_values):\n",
    "    '''checks that each value is either NaN or within the specified list\n",
    "    of acceptable values '''\n",
    "    for x in visas[col_name]:\n",
    "        assert (x in possible_values) or (pd.isnull(x))"
   ]
  },
  {
   "cell_type": "markdown",
   "metadata": {},
   "source": [
    "Since whether the visa has expired is not relevant to my prediction of whether it was initially approved or not, I removed the extension \"-Expired\" from all visa status values. "
   ]
  },
  {
   "cell_type": "code",
   "execution_count": 22,
   "metadata": {},
   "outputs": [],
   "source": [
    "def fix_visa_status(x):\n",
    "    '''remove \"Expired\" from visa status to group all approvals together'''\n",
    "    if x=='Certified-Expired':\n",
    "        x='Certified'\n",
    "    return x"
   ]
  },
  {
   "cell_type": "code",
   "execution_count": 23,
   "metadata": {},
   "outputs": [],
   "source": [
    "visas['case_status'] = visas['case_status'].apply(fix_visa_status)"
   ]
  },
  {
   "cell_type": "markdown",
   "metadata": {},
   "source": [
    "To ensure that all values of the class_of_admission column were real visa types, I printed the unique values of the column, researched them to ensure they were real visa types, and wrote a function to combine or adjust them where necessary."
   ]
  },
  {
   "cell_type": "code",
   "execution_count": 24,
   "metadata": {},
   "outputs": [
    {
     "name": "stdout",
     "output_type": "stream",
     "text": [
      "['J-1' 'B-2' 'H-1B' 'L-1' 'EWI' 'E-2' nan 'E-1' 'H-2B' 'TPS' 'F-1' 'B-1'\n",
      " 'C-1' 'Not in USA' 'TN' 'H-4' 'O-1' 'R-1' 'L-2' 'Q' 'F-2' 'H-1B1'\n",
      " 'Parolee' 'G-5' 'E-3' 'H-2A' 'VWT' 'P-1' 'A1/A2' 'D-1' 'A-3' 'R-2' 'H-1C'\n",
      " 'H-3' 'J-2' 'P-4' 'I' 'H-1A' 'G-1' 'VWB' 'G-4' 'P-3' 'AOS/H-1B' 'O-3'\n",
      " 'Parol' 'O-2' 'H1B' 'N' 'T-1' 'TD' 'M-1' 'U-1' 'AOS' 'P-2' 'C-3' 'K-1'\n",
      " 'V-2' 'M-2']\n"
     ]
    }
   ],
   "source": [
    "print(visas['class_of_admission'].unique())"
   ]
  },
  {
   "cell_type": "code",
   "execution_count": 25,
   "metadata": {},
   "outputs": [],
   "source": [
    "types_of_visas = ['A1/A2','A-3','AOS','B-1','B-2','C-1','C-3','D-1','E-1','E-2','E-3',\n",
    "                  'EWI','F-1','F-2','G-1','G-4','G-5','H-1A','H-1B','H-1C','H-2A','H-2B',\n",
    "                  'H-3','H-4','I','J-1','J-2','K-1','L-1','L-2','M-1','M-2','N','O-1',\n",
    "                  'O-2','O-3','P-1','P-2','P-3','P-4','Q-1','R-1','R-2','T-1','TD','TN',\n",
    "                  'TPS','U-1','V-2','VWB','VWT','Not in USA','Parole']"
   ]
  },
  {
   "cell_type": "code",
   "execution_count": 26,
   "metadata": {},
   "outputs": [],
   "source": [
    "def fix_visa_type(x):\n",
    "    '''adjusts some inconsistencies in the visa type column'''\n",
    "    if x == 'Parolee' or x=='Parol':\n",
    "        x='Parole'\n",
    "    elif x == 'Q':\n",
    "        x = 'Q-1'\n",
    "    elif x == 'H-1B1' or x == 'H1B':\n",
    "        x = 'H-1B'\n",
    "    elif x == 'AOS/H-1B':\n",
    "        x = 'AOS'\n",
    "    if x not in types_of_visas:\n",
    "        x = np.nan\n",
    "    return x"
   ]
  },
  {
   "cell_type": "code",
   "execution_count": 27,
   "metadata": {},
   "outputs": [],
   "source": [
    "visas['class_of_admission'] = visas['class_of_admission'].apply(fix_visa_type)"
   ]
  },
  {
   "cell_type": "markdown",
   "metadata": {},
   "source": [
    "Since some state values were input as abbreviations and others included the whole word, I used a function and dictionary to convert the spelled out states to their abbreviations."
   ]
  },
  {
   "cell_type": "code",
   "execution_count": 28,
   "metadata": {},
   "outputs": [],
   "source": [
    "states = ['AL', 'AK', 'AZ', 'AR', 'BC', 'CA', 'CO', 'CT', 'DC', 'DE', 'FL', 'FM', 'GA',\n",
    "          'GU', 'HI', 'ID', 'IL', 'IN', 'IA', 'KS', 'KY', 'LA', 'ME', 'MD', 'MA', 'MI',\n",
    "          'MN', 'MP', 'MH', 'MS', 'MO', 'MT', 'NE', 'NV', 'NH', 'NJ', 'NM', 'NY', 'NC',\n",
    "          'ND', 'OH', 'OK', 'OR', 'PA', 'PR', 'RI', 'SC', 'SD', 'TN', 'TX', 'UT', 'VI',\n",
    "          'VT', 'VA', 'WA', 'WV', 'WI', 'WY']"
   ]
  },
  {
   "cell_type": "code",
   "execution_count": 29,
   "metadata": {},
   "outputs": [],
   "source": [
    "states_dict1 = {'Alabama': 'AL', 'Alaska': 'AK', 'Arizona': 'AZ', 'Arkansas' : 'AR',\n",
    "                'British Columbia' : 'BC', 'California': 'CA', 'Colorado': 'CO',\n",
    "                'Connecticut': 'CT', 'District of Columbia' : 'DC', 'Delaware': 'DE',\n",
    "                'Florida': 'FL', 'Federated States of Micronesia' : 'FM', 'Georgia': 'GA',\n",
    "                'Guam': 'GU','Hawaii': 'HI', 'Idaho': 'ID', 'Illinois': 'IL',\n",
    "                'Indiana': 'IN', 'Iowa': 'IA','Kansas': 'KS', 'Kentucky': 'KY', \n",
    "                'Louisiana': 'LA', 'Maine': 'ME', 'Marshall Islands': 'MH','Maryland': 'MD', \n",
    "                'Massachusetts': 'MA', 'Michigan': 'MI', 'Minnesota': 'MN',\n",
    "                'Mississippi': 'MS', 'Missouri': 'MO', 'Montana': 'MT', 'Nebraska': 'NE',\n",
    "                'Nevada': 'NV', 'New Hampshire': 'NH', 'New Jersey': 'NJ',\n",
    "                'New Mexico': 'NM', 'New York': 'NY', 'North Carolina': 'NC', \n",
    "                'North Dakota': 'ND', 'Northern Mariana Islands': 'MP', 'Ohio': 'OH',\n",
    "                'Oklahoma': 'OK', 'Oregon': 'OR', 'Pennsylvania': 'PA','Puerto Rico': 'PR',\n",
    "                'Rhode Island': 'RI', 'South Carolina': 'SC', 'South Dakota': 'SD',\n",
    "                'Tennessee': 'TN', 'Texas': 'TX', 'Utah': 'UT', 'Vermont': 'VT',\n",
    "                'Virginia': 'VA', 'Virgin Islands': 'VA', 'Washington': 'WA',\n",
    "                'West Virginia': 'WV', 'Wisconsin': 'WI', 'Wyoming': 'WY'}\n",
    "states_dict = {a.upper():b for a,b in states_dict1.items()}"
   ]
  },
  {
   "cell_type": "code",
   "execution_count": 30,
   "metadata": {},
   "outputs": [],
   "source": [
    "def fix_states(x):\n",
    "    '''Replace full word states with their abbreviation when necessary'''\n",
    "    if x not in states:\n",
    "        if x in states_dict.keys():\n",
    "            x = states_dict[x]\n",
    "    return x"
   ]
  },
  {
   "cell_type": "code",
   "execution_count": 31,
   "metadata": {},
   "outputs": [],
   "source": [
    "visas['job_info_work_state'] = visas['job_info_work_state'].apply(fix_states)"
   ]
  },
  {
   "cell_type": "markdown",
   "metadata": {},
   "source": [
    "Similarly to state values, some pay unit values were saved as abbreviations (yr, hr) while others were spelled out (Year, Hour), so I wrote a function to convert the abbreviations to the full values and applied it to the pay unit column."
   ]
  },
  {
   "cell_type": "code",
   "execution_count": 32,
   "metadata": {},
   "outputs": [
    {
     "name": "stdout",
     "output_type": "stream",
     "text": [
      "['yr' 'hr' 'mth' 'wk' 'bi' nan 'Year' 'Hour' 'Week' 'Month' 'Bi-Weekly']\n"
     ]
    }
   ],
   "source": [
    "y = visas['wage_offer_unit_of_pay_9089'].unique()\n",
    "print(y)"
   ]
  },
  {
   "cell_type": "code",
   "execution_count": 33,
   "metadata": {},
   "outputs": [],
   "source": [
    "correct_pay_units = ['Year','Hour','Week','Month','Bi-Weekly']"
   ]
  },
  {
   "cell_type": "code",
   "execution_count": 34,
   "metadata": {},
   "outputs": [],
   "source": [
    "pay_units_dict = {'yr':'Year','hr':'Hour','mth':'Month','wk':'Week','bi':'Bi-Weekly'}"
   ]
  },
  {
   "cell_type": "code",
   "execution_count": 35,
   "metadata": {},
   "outputs": [],
   "source": [
    "def fix_pay_units(x):\n",
    "    '''Replace pay unit abbreviations with the full word when necessary'''\n",
    "    if x not in correct_pay_units:\n",
    "        if x in pay_units_dict.keys():\n",
    "            x = pay_units_dict[x]\n",
    "    return x"
   ]
  },
  {
   "cell_type": "code",
   "execution_count": 36,
   "metadata": {},
   "outputs": [],
   "source": [
    "visas['wage_offer_unit_of_pay_9089'] = visas['wage_offer_unit_of_pay_9089'].apply(fix_pay_units)"
   ]
  },
  {
   "cell_type": "markdown",
   "metadata": {},
   "source": [
    "One column included NAICS codes, which represent the specific industry of the job, and can have several different lengths, depending on how specific they are. Since many applications only included the first two digits (representing the general industry), and in order to more effectively use the column as a categorical variable, I wrote a function to convert longer codes to their first two digits, and check that these shorter codes are legitimate NAICS codes."
   ]
  },
  {
   "cell_type": "code",
   "execution_count": 37,
   "metadata": {},
   "outputs": [],
   "source": [
    "naics_codes = [11,21,22,23,31,42,44,48,51,52,53,54,55,56,61,62,71,72,81,92]"
   ]
  },
  {
   "cell_type": "code",
   "execution_count": 38,
   "metadata": {},
   "outputs": [],
   "source": [
    "def fix_naics_codes(x):\n",
    "    '''Simplify all NAICS codes to their first 2 digits, which represent the general industry,\n",
    "    and ensure they are within the range of possible values'''\n",
    "    if pd.isnull(x):\n",
    "        return x\n",
    "    if len(x) > 2:\n",
    "        x = x[:2]\n",
    "    x = int(x)\n",
    "    if x == 32 or x == 33:\n",
    "        x=31\n",
    "    elif x == 45:\n",
    "        x=44\n",
    "    elif x == 49:\n",
    "        x=48\n",
    "    if x not in naics_codes:\n",
    "        print(x)\n",
    "    assert x in naics_codes\n",
    "    return x"
   ]
  },
  {
   "cell_type": "code",
   "execution_count": 39,
   "metadata": {},
   "outputs": [],
   "source": [
    "visas['naics_code'] = visas['naics_code'].apply(fix_naics_codes)"
   ]
  },
  {
   "cell_type": "markdown",
   "metadata": {},
   "source": [
    "Finally, I used my test_nominal function to ensure all categorical columns contained only the values they should."
   ]
  },
  {
   "cell_type": "code",
   "execution_count": 40,
   "metadata": {},
   "outputs": [],
   "source": [
    "test_nominal('case_status',['Certified','Denied'])\n",
    "test_nominal('class_of_admission',types_of_visas)\n",
    "test_nominal('job_info_work_state',states)\n",
    "education = ['foreign_worker_info_education', 'job_info_education']\n",
    "for h in education:\n",
    "    test_nominal(h,['High School',\"Associate's\", \"Bachelor's\",\"Master's\",'Doctorate',\n",
    "                    \"None\",\"Other\"])\n",
    "yes_no = ['ji_live_in_domestic_service',\n",
    "         'job_info_experience','job_info_foreign_ed','job_info_foreign_lang_req',\n",
    "         'recr_info_coll_univ_teacher',\n",
    "         'recr_info_professional_occ','ri_layoff_in_past_six_months']\n",
    "for y in yes_no:\n",
    "    test_nominal(y,['Y','N'])\n",
    "test_nominal('pw_level_9089',['Level I','Level II','Level III','Level IV'])\n",
    "test_nominal('wage_offer_unit_of_pay_9089', correct_pay_units)\n",
    "test_nominal('naics_code',naics_codes)"
   ]
  },
  {
   "cell_type": "markdown",
   "metadata": {},
   "source": [
    "### Postal Codes"
   ]
  },
  {
   "cell_type": "markdown",
   "metadata": {},
   "source": [
    "Since some applications included the additional four digits at the end of the postal code (ZIP-plus-4 codes), and these don't provide any significant useful information for my data analyisis and modeling, I wrote a function to remove these extensions, putting all postal codes in the same format. Additionally, postal codes from out of the U.S. were switched to the string \"Not in US\". I then tested that all postal codes in the column were either \"Not in US\", null, or five-digit strings."
   ]
  },
  {
   "cell_type": "code",
   "execution_count": 41,
   "metadata": {},
   "outputs": [],
   "source": [
    "def test_postal_codes(col_name):\n",
    "    '''Tests whether postal codes are of the type str and of length 5'''\n",
    "    for x in visas[col_name]:\n",
    "        if x != \"Not in US\":\n",
    "            assert (pd.isnull(x) or len(x) == 5)\n",
    "            assert (pd.isnull(x) or type(x) == str)"
   ]
  },
  {
   "cell_type": "code",
   "execution_count": 42,
   "metadata": {},
   "outputs": [],
   "source": [
    "def fix_postal_codes(x):\n",
    "    '''If postal codes include the four-digit extension, remove it; if they omit the 0 at\n",
    "    the beginning, add it; if they are out of US zip codes (length != 5), mark them as out of US'''\n",
    "    if pd.isnull(x):\n",
    "        return x\n",
    "    if (len(x) == 9 or len(x) == 10) and x[-5] == '-':\n",
    "        x = x.split('-')[0]\n",
    "    if len(x) == 4:\n",
    "        x = '0' + x\n",
    "    if len(x) != 5:\n",
    "        x = \"Not in US\"\n",
    "    return x"
   ]
  },
  {
   "cell_type": "code",
   "execution_count": 43,
   "metadata": {},
   "outputs": [],
   "source": [
    "visas['job_info_work_postal_code'] = visas['job_info_work_postal_code'].apply(fix_postal_codes)\n",
    "test_postal_codes('job_info_work_postal_code')"
   ]
  },
  {
   "cell_type": "markdown",
   "metadata": {},
   "source": [
    "### General Numeric"
   ]
  },
  {
   "cell_type": "markdown",
   "metadata": {},
   "source": [
    "I tested that values of numeric columns are of the correct type and greater than 0 (since negative values do not make sense for any of the columns). For some reason, wage values were sometimes input as \"#############\" if missing, so I wrote a function to convert these values to NaN, and was able to convert the numeric columns to the correct type without ignoring errors (as was the case in the preliminary look at the data set)."
   ]
  },
  {
   "cell_type": "code",
   "execution_count": 44,
   "metadata": {},
   "outputs": [],
   "source": [
    "def test_numerical(col_name):\n",
    "    '''Test that numerical values are floats that are NaN or >0'''\n",
    "    for x in visas[col_name]:\n",
    "        assert (pd.isnull(x) or (type(x)==float and x >= 0))"
   ]
  },
  {
   "cell_type": "code",
   "execution_count": 45,
   "metadata": {},
   "outputs": [],
   "source": [
    "def fix_wage_offers(x):\n",
    "    '''fix inconsistencies in wage offer values'''\n",
    "    if x == '#############' or float(x) <=0:\n",
    "        x= np.nan\n",
    "    return x"
   ]
  },
  {
   "cell_type": "code",
   "execution_count": 46,
   "metadata": {},
   "outputs": [],
   "source": [
    "visas['wage_offer_from_9089'] = visas['wage_offer_from_9089'].apply(fix_wage_offers)\n",
    "visas['wage_offer_to_9089'] = visas['wage_offer_to_9089'].apply(fix_wage_offers)"
   ]
  },
  {
   "cell_type": "code",
   "execution_count": 47,
   "metadata": {},
   "outputs": [],
   "source": [
    "convert_floats = ['employer_num_employees','job_info_experience_num_months',\n",
    "                  'wage_offer_from_9089', 'wage_offer_to_9089']\n",
    "for col in convert_floats:\n",
    "    visas[col] = visas[col].astype(float)"
   ]
  },
  {
   "cell_type": "code",
   "execution_count": 48,
   "metadata": {},
   "outputs": [],
   "source": [
    "numeric_cols = ['employer_num_employees','job_info_experience_num_months','naics_code',\n",
    "               'wage_offer_from_9089', 'wage_offer_to_9089']\n",
    "for col in numeric_cols:\n",
    "    test_numerical(col)"
   ]
  },
  {
   "cell_type": "markdown",
   "metadata": {},
   "source": [
    "### Dates"
   ]
  },
  {
   "cell_type": "markdown",
   "metadata": {},
   "source": [
    "I wrote a function to fix an error where the year was input as \"0214\" instead of 2014, and to ensure no date values corresponded to a date after the data set was published (since these would be errors). I then converted date values to the datetime type and tested that they are reasonable dates, including a test ensuring that the date the job posting was posted on the employer's web site is before the date it was removed."
   ]
  },
  {
   "cell_type": "code",
   "execution_count": 49,
   "metadata": {},
   "outputs": [],
   "source": [
    "def test_dates(col_name):\n",
    "    '''Test that dates are within the appropriate time frame'''\n",
    "    for x in visas[col_name]:\n",
    "        if pd.notnull(x):\n",
    "            assert x.year > 1995 and x.year < 2017\n",
    "            assert x.month < 13 and x.month > 0\n",
    "            assert x.day < 32 and x.day > 0"
   ]
  },
  {
   "cell_type": "code",
   "execution_count": 50,
   "metadata": {},
   "outputs": [],
   "source": [
    "def fix_dates(x):\n",
    "    '''Fix inconsistencies in date values'''\n",
    "    if x=='0214-04-22':\n",
    "        x='2014-04-22'\n",
    "    if pd.notnull(x) and (int(str(x)[:4]) > 2017):\n",
    "        x=np.nan\n",
    "    return x"
   ]
  },
  {
   "cell_type": "code",
   "execution_count": 51,
   "metadata": {},
   "outputs": [],
   "source": [
    "visas['ri_employer_web_post_from'] = visas['ri_employer_web_post_from'].apply(fix_dates)"
   ]
  },
  {
   "cell_type": "code",
   "execution_count": 52,
   "metadata": {},
   "outputs": [],
   "source": [
    "date_cols = ['decision_date', 'ri_employer_web_post_from','ri_employer_web_post_to']\n",
    "for col in date_cols:\n",
    "    visas[col] = pd.to_datetime(visas[col])"
   ]
  },
  {
   "cell_type": "code",
   "execution_count": 53,
   "metadata": {},
   "outputs": [],
   "source": [
    "for col in date_cols:\n",
    "    test_dates(col)\n",
    "for x,y in zip(visas['ri_employer_web_post_from'],visas['ri_employer_web_post_to']):\n",
    "    if (pd.notnull(x) and pd.notnull(y)):\n",
    "        assert x <= y"
   ]
  },
  {
   "cell_type": "markdown",
   "metadata": {},
   "source": [
    "### Case Numbers"
   ]
  },
  {
   "cell_type": "markdown",
   "metadata": {},
   "source": [
    "I tested that all values in the case number column are real visa application case number values. "
   ]
  },
  {
   "cell_type": "code",
   "execution_count": 54,
   "metadata": {},
   "outputs": [],
   "source": [
    "for x in visas['case_no']:\n",
    "    a,b,c = x.split('-')\n",
    "    assert a == 'A' or a == 'C'\n",
    "    assert len(b) == 5\n",
    "    test1 = int(b)\n",
    "    assert len(c) == 5\n",
    "    test2 = int(c)"
   ]
  },
  {
   "cell_type": "markdown",
   "metadata": {},
   "source": [
    "## Transformation of Columns"
   ]
  },
  {
   "cell_type": "markdown",
   "metadata": {},
   "source": [
    "After testing the columns, I decided to create some new columns that would be more useful for further analysis:<br> First, since some applications included one value for wage offer while others had a range of wages, I created a new column containing a single value for wage: the wage specified for applications with one value, and the mean of the two values for applications with a range. <br>Second, since some wage values were already in terms of annual salary, while others were hourly rates (with a few weekly, bi-weekly, or monthly values), I created a column that contained an estimated annual wage for all observations, assuming that applicants work 40 hours a week.<br> Third, I combined two columns regarding whether the job was professional, one about whether it was a professional job other than professor, and the other about whether the job was a professor position. <br> Fourth, I combined the columns containing the date the job was posted on the employer website and the date it was removed, creating a column of information on the total length of time the job posting was on the employer's web site.<br> Finally, I combined all text columns containing information about the applicant's job or industry into one column, which is more practical for topic modeling."
   ]
  },
  {
   "cell_type": "markdown",
   "metadata": {},
   "source": [
    "In summary, the new columns to create are:\n",
    "- center of min wage offer and max wage offer (overall_wage_offer)\n",
    "- overall_wage_offer converted to annual wages (annual_wage)\n",
    "- combine university professor with other professional careers (professional_occupation)\n",
    "- length of time the job posting was on the employer's web site (employer_desperation)\n",
    "- all of the text columns containing job or industry info, combined (all_text)"
   ]
  },
  {
   "cell_type": "code",
   "execution_count": 55,
   "metadata": {},
   "outputs": [],
   "source": [
    "visas['employer_desperation'] = visas['ri_employer_web_post_to'] - visas['ri_employer_web_post_from']\n",
    "visas['employer_desperation'] = [x.days for x in visas['employer_desperation']]\n",
    "del visas['ri_employer_web_post_from'], visas['ri_employer_web_post_to']"
   ]
  },
  {
   "cell_type": "code",
   "execution_count": 56,
   "metadata": {},
   "outputs": [],
   "source": [
    "def determine_wage(x,y):\n",
    "    '''Returns the midpoint of the minimum and maximum wage if both specified;\n",
    "    otherwise, returns the single wage specified'''\n",
    "    if pd.notnull(x) and pd.notnull(y):\n",
    "        return (x+y)/2\n",
    "    elif pd.notnull(y):\n",
    "        return y\n",
    "    return x"
   ]
  },
  {
   "cell_type": "code",
   "execution_count": 57,
   "metadata": {},
   "outputs": [],
   "source": [
    "overall_wage_list = []\n",
    "for x,y in zip(visas['wage_offer_from_9089'],visas['wage_offer_to_9089']):\n",
    "    overall_wage_list.append(determine_wage(x,y))\n",
    "visas['overall_wage_offer'] = overall_wage_list\n",
    "del visas['wage_offer_from_9089'],visas['wage_offer_to_9089']"
   ]
  },
  {
   "cell_type": "code",
   "execution_count": 58,
   "metadata": {},
   "outputs": [],
   "source": [
    "def return_annual_wage(x,y):\n",
    "    '''If unit of pay is specified, use that to convert to annual. If unspecified, make a\n",
    "    guess based on <400: hourly, >400 & <2500: weekly, >2500 & <5000: biweekly, \n",
    "    >5000 & <15000: monthly, >15000:annual'''\n",
    "    if pd.isnull(x):\n",
    "        return x\n",
    "    if pd.notnull(y):\n",
    "        if x < 30 or y=='Hour':\n",
    "            return x*40*52\n",
    "        if y== 'Year':\n",
    "            if x < 2500:\n",
    "                return x*26\n",
    "            return x\n",
    "        elif y=='Month':\n",
    "            return x*12\n",
    "        elif y=='Bi-Weekly':\n",
    "            return x*26\n",
    "        else:\n",
    "            assert y=='Week'\n",
    "            return x*52\n",
    "    if x > 15000:\n",
    "        return x\n",
    "    elif x <= 15000 and x > 5000:\n",
    "        return x*12\n",
    "    elif x <=5000 and x > 2500:\n",
    "        return x*26\n",
    "    elif x <=2500 and x > 400:\n",
    "        return x*52\n",
    "    else:\n",
    "        assert x <=400\n",
    "        return x*40*52"
   ]
  },
  {
   "cell_type": "code",
   "execution_count": 59,
   "metadata": {},
   "outputs": [],
   "source": [
    "annual_wage_list = []\n",
    "for x,y in zip(visas['overall_wage_offer'],visas['wage_offer_unit_of_pay_9089']):\n",
    "    annual_wage_list.append(return_annual_wage(x,y))\n",
    "visas['annual_wage'] = annual_wage_list"
   ]
  },
  {
   "cell_type": "code",
   "execution_count": 60,
   "metadata": {},
   "outputs": [],
   "source": [
    "def is_it_professional(x,y):\n",
    "    '''Combines two columns regarding professional occupation into one'''\n",
    "    if y == 'Y':\n",
    "        return 'Y'\n",
    "    return x"
   ]
  },
  {
   "cell_type": "code",
   "execution_count": 61,
   "metadata": {},
   "outputs": [],
   "source": [
    "professional_list = []\n",
    "for x,y in zip(visas['recr_info_coll_univ_teacher'],visas['recr_info_professional_occ']):\n",
    "    professional_list.append(is_it_professional(x,y))\n",
    "visas['professional_occupation'] = professional_list\n",
    "del visas['recr_info_coll_univ_teacher'],visas['recr_info_professional_occ']"
   ]
  },
  {
   "cell_type": "code",
   "execution_count": 62,
   "metadata": {},
   "outputs": [],
   "source": [
    "visas['all_text'] = (visas['add_these_pw_job_title_9089'].fillna('') \n",
    "    + ' ' + visas['foreign_worker_info_major'].fillna('')\n",
    "    + ' ' + visas['job_info_job_title'].fillna('') + ' ' + visas['job_info_major'].fillna('')\n",
    "    + ' ' + visas['job_info_training_field'].fillna('') \n",
    "    + ' ' + visas['naics_title'].fillna('') + ' ' + visas['pw_soc_title'].fillna('')\n",
    "    + ' ' + visas['us_economic_sector'].fillna(''))"
   ]
  },
  {
   "cell_type": "code",
   "execution_count": 63,
   "metadata": {},
   "outputs": [],
   "source": [
    "del (visas['add_these_pw_job_title_9089'],visas['foreign_worker_info_major'],\n",
    "    visas['job_info_job_title'],visas['job_info_major'],visas['job_info_training_field'],\n",
    "    visas['naics_title'],visas['pw_soc_title'],visas['us_economic_sector'])"
   ]
  },
  {
   "cell_type": "markdown",
   "metadata": {},
   "source": [
    "## New Column Tests"
   ]
  },
  {
   "cell_type": "markdown",
   "metadata": {},
   "source": [
    "Finally, I tested the new columns I created, and converted the employer desperation column, which was a pandas TimeDelta, to a float containing the number of days, which is much easier to work with."
   ]
  },
  {
   "cell_type": "code",
   "execution_count": 64,
   "metadata": {},
   "outputs": [],
   "source": [
    "def test_time_delta(col_name):\n",
    "    '''test that time deltas converted successfully to number of days'''\n",
    "    for x in visas[col_name]:\n",
    "        if pd.notnull(x):\n",
    "            assert x<10000\n",
    "            assert x >= 0\n",
    "            assert type(x) == float"
   ]
  },
  {
   "cell_type": "code",
   "execution_count": 65,
   "metadata": {},
   "outputs": [],
   "source": [
    "test_time_delta('employer_desperation')\n",
    "visas['employer_desperation'] = visas['employer_desperation'].apply(pd.to_numeric)"
   ]
  },
  {
   "cell_type": "code",
   "execution_count": 66,
   "metadata": {},
   "outputs": [],
   "source": [
    "test_numerical('overall_wage_offer')\n",
    "test_numerical('annual_wage')\n",
    "test_nominal('professional_occupation',['Y','N'])"
   ]
  },
  {
   "cell_type": "code",
   "execution_count": 67,
   "metadata": {},
   "outputs": [
    {
     "name": "stdout",
     "output_type": "stream",
     "text": [
      "5226.0 100.5 Week   HOUSEKEEPER/BABY SITTER     \n"
     ]
    }
   ],
   "source": [
    "for x,y,z,w in zip(visas['annual_wage'],visas['overall_wage_offer'],visas['wage_offer_unit_of_pay_9089'],visas['all_text']):\n",
    "    if pd.notnull(x):\n",
    "        if x < 9000:\n",
    "            print(x,y,z,w)\n",
    "        assert x > 9000 or x==5226.0"
   ]
  },
  {
   "cell_type": "code",
   "execution_count": 68,
   "metadata": {},
   "outputs": [],
   "source": [
    "for x in visas['all_text']:\n",
    "    assert type(x) == str or pd.isnull(x)"
   ]
  },
  {
   "cell_type": "markdown",
   "metadata": {},
   "source": [
    "## Final Column Overview"
   ]
  },
  {
   "cell_type": "code",
   "execution_count": 70,
   "metadata": {},
   "outputs": [
    {
     "data": {
      "text/html": [
       "<div>\n",
       "<style scoped>\n",
       "    .dataframe tbody tr th:only-of-type {\n",
       "        vertical-align: middle;\n",
       "    }\n",
       "\n",
       "    .dataframe tbody tr th {\n",
       "        vertical-align: top;\n",
       "    }\n",
       "\n",
       "    .dataframe thead th {\n",
       "        text-align: right;\n",
       "    }\n",
       "</style>\n",
       "<table border=\"1\" class=\"dataframe\">\n",
       "  <thead>\n",
       "    <tr style=\"text-align: right;\">\n",
       "      <th></th>\n",
       "      <th>case_no</th>\n",
       "      <th>case_status</th>\n",
       "      <th>class_of_admission</th>\n",
       "      <th>country_of_citizenship</th>\n",
       "      <th>decision_date</th>\n",
       "      <th>employer_name</th>\n",
       "      <th>employer_num_employees</th>\n",
       "      <th>foreign_worker_info_birth_country</th>\n",
       "      <th>foreign_worker_info_education</th>\n",
       "      <th>foreign_worker_info_inst</th>\n",
       "      <th>...</th>\n",
       "      <th>job_info_work_state</th>\n",
       "      <th>naics_code</th>\n",
       "      <th>pw_level_9089</th>\n",
       "      <th>ri_layoff_in_past_six_months</th>\n",
       "      <th>wage_offer_unit_of_pay_9089</th>\n",
       "      <th>employer_desperation</th>\n",
       "      <th>overall_wage_offer</th>\n",
       "      <th>annual_wage</th>\n",
       "      <th>professional_occupation</th>\n",
       "      <th>all_text</th>\n",
       "    </tr>\n",
       "  </thead>\n",
       "  <tbody>\n",
       "    <tr>\n",
       "      <th>0</th>\n",
       "      <td>A-07323-97014</td>\n",
       "      <td>Certified</td>\n",
       "      <td>J-1</td>\n",
       "      <td>ARMENIA</td>\n",
       "      <td>2012-02-01</td>\n",
       "      <td>NETSOFT USA INC.</td>\n",
       "      <td>NaN</td>\n",
       "      <td>NaN</td>\n",
       "      <td>NaN</td>\n",
       "      <td>NaN</td>\n",
       "      <td>...</td>\n",
       "      <td>NY</td>\n",
       "      <td>54.0</td>\n",
       "      <td>Level II</td>\n",
       "      <td>NaN</td>\n",
       "      <td>Year</td>\n",
       "      <td>NaN</td>\n",
       "      <td>75629.00</td>\n",
       "      <td>75629.0</td>\n",
       "      <td>NaN</td>\n",
       "      <td>Computer Systems Design Services Computer...</td>\n",
       "    </tr>\n",
       "    <tr>\n",
       "      <th>1</th>\n",
       "      <td>A-07332-99439</td>\n",
       "      <td>Denied</td>\n",
       "      <td>B-2</td>\n",
       "      <td>POLAND</td>\n",
       "      <td>2011-12-21</td>\n",
       "      <td>PINNACLE ENVIRONEMNTAL CORP</td>\n",
       "      <td>NaN</td>\n",
       "      <td>NaN</td>\n",
       "      <td>NaN</td>\n",
       "      <td>NaN</td>\n",
       "      <td>...</td>\n",
       "      <td>NY</td>\n",
       "      <td>56.0</td>\n",
       "      <td>Level I</td>\n",
       "      <td>NaN</td>\n",
       "      <td>Year</td>\n",
       "      <td>NaN</td>\n",
       "      <td>37024.00</td>\n",
       "      <td>37024.0</td>\n",
       "      <td>NaN</td>\n",
       "      <td>Hazardous Waste Treatment and Disposal Ha...</td>\n",
       "    </tr>\n",
       "    <tr>\n",
       "      <th>2</th>\n",
       "      <td>A-07333-99643</td>\n",
       "      <td>Certified</td>\n",
       "      <td>H-1B</td>\n",
       "      <td>INDIA</td>\n",
       "      <td>2011-12-01</td>\n",
       "      <td>SCHNABEL ENGINEERING INC.</td>\n",
       "      <td>NaN</td>\n",
       "      <td>NaN</td>\n",
       "      <td>NaN</td>\n",
       "      <td>NaN</td>\n",
       "      <td>...</td>\n",
       "      <td>MD</td>\n",
       "      <td>54.0</td>\n",
       "      <td>Level I</td>\n",
       "      <td>NaN</td>\n",
       "      <td>Year</td>\n",
       "      <td>NaN</td>\n",
       "      <td>47923.00</td>\n",
       "      <td>47923.0</td>\n",
       "      <td>NaN</td>\n",
       "      <td>Engineering Services Civil Engineers Aero...</td>\n",
       "    </tr>\n",
       "    <tr>\n",
       "      <th>3</th>\n",
       "      <td>A-07339-01930</td>\n",
       "      <td>Certified</td>\n",
       "      <td>B-2</td>\n",
       "      <td>SOUTH KOREA</td>\n",
       "      <td>2011-12-01</td>\n",
       "      <td>EBENEZER MISSION CHURCH</td>\n",
       "      <td>NaN</td>\n",
       "      <td>NaN</td>\n",
       "      <td>NaN</td>\n",
       "      <td>NaN</td>\n",
       "      <td>...</td>\n",
       "      <td>NY</td>\n",
       "      <td>81.0</td>\n",
       "      <td>Level II</td>\n",
       "      <td>NaN</td>\n",
       "      <td>Hour</td>\n",
       "      <td>NaN</td>\n",
       "      <td>10.97</td>\n",
       "      <td>22817.6</td>\n",
       "      <td>NaN</td>\n",
       "      <td>Religious Organizations File Clerks Other...</td>\n",
       "    </tr>\n",
       "    <tr>\n",
       "      <th>4</th>\n",
       "      <td>A-07345-03565</td>\n",
       "      <td>Certified</td>\n",
       "      <td>L-1</td>\n",
       "      <td>CANADA</td>\n",
       "      <td>2012-01-26</td>\n",
       "      <td>ALBANY INTERNATIONAL CORP.</td>\n",
       "      <td>NaN</td>\n",
       "      <td>NaN</td>\n",
       "      <td>NaN</td>\n",
       "      <td>NaN</td>\n",
       "      <td>...</td>\n",
       "      <td>NY</td>\n",
       "      <td>31.0</td>\n",
       "      <td>Level IV</td>\n",
       "      <td>NaN</td>\n",
       "      <td>Year</td>\n",
       "      <td>NaN</td>\n",
       "      <td>100000.00</td>\n",
       "      <td>100000.0</td>\n",
       "      <td>NaN</td>\n",
       "      <td>Paper Industry Machinery Manufacturing Sa...</td>\n",
       "    </tr>\n",
       "  </tbody>\n",
       "</table>\n",
       "<p>5 rows × 28 columns</p>\n",
       "</div>"
      ],
      "text/plain": [
       "         case_no case_status class_of_admission country_of_citizenship  \\\n",
       "0  A-07323-97014   Certified                J-1                ARMENIA   \n",
       "1  A-07332-99439      Denied                B-2                 POLAND   \n",
       "2  A-07333-99643   Certified               H-1B                  INDIA   \n",
       "3  A-07339-01930   Certified                B-2            SOUTH KOREA   \n",
       "4  A-07345-03565   Certified                L-1                 CANADA   \n",
       "\n",
       "  decision_date                employer_name  employer_num_employees  \\\n",
       "0    2012-02-01             NETSOFT USA INC.                     NaN   \n",
       "1    2011-12-21  PINNACLE ENVIRONEMNTAL CORP                     NaN   \n",
       "2    2011-12-01    SCHNABEL ENGINEERING INC.                     NaN   \n",
       "3    2011-12-01      EBENEZER MISSION CHURCH                     NaN   \n",
       "4    2012-01-26   ALBANY INTERNATIONAL CORP.                     NaN   \n",
       "\n",
       "  foreign_worker_info_birth_country foreign_worker_info_education  \\\n",
       "0                               NaN                           NaN   \n",
       "1                               NaN                           NaN   \n",
       "2                               NaN                           NaN   \n",
       "3                               NaN                           NaN   \n",
       "4                               NaN                           NaN   \n",
       "\n",
       "  foreign_worker_info_inst                        ...                          \\\n",
       "0                      NaN                        ...                           \n",
       "1                      NaN                        ...                           \n",
       "2                      NaN                        ...                           \n",
       "3                      NaN                        ...                           \n",
       "4                      NaN                        ...                           \n",
       "\n",
       "  job_info_work_state naics_code pw_level_9089  ri_layoff_in_past_six_months  \\\n",
       "0                  NY       54.0      Level II                           NaN   \n",
       "1                  NY       56.0       Level I                           NaN   \n",
       "2                  MD       54.0       Level I                           NaN   \n",
       "3                  NY       81.0      Level II                           NaN   \n",
       "4                  NY       31.0      Level IV                           NaN   \n",
       "\n",
       "  wage_offer_unit_of_pay_9089 employer_desperation overall_wage_offer  \\\n",
       "0                        Year                  NaN           75629.00   \n",
       "1                        Year                  NaN           37024.00   \n",
       "2                        Year                  NaN           47923.00   \n",
       "3                        Hour                  NaN              10.97   \n",
       "4                        Year                  NaN          100000.00   \n",
       "\n",
       "  annual_wage professional_occupation  \\\n",
       "0     75629.0                     NaN   \n",
       "1     37024.0                     NaN   \n",
       "2     47923.0                     NaN   \n",
       "3     22817.6                     NaN   \n",
       "4    100000.0                     NaN   \n",
       "\n",
       "                                            all_text  \n",
       "0       Computer Systems Design Services Computer...  \n",
       "1       Hazardous Waste Treatment and Disposal Ha...  \n",
       "2       Engineering Services Civil Engineers Aero...  \n",
       "3       Religious Organizations File Clerks Other...  \n",
       "4       Paper Industry Machinery Manufacturing Sa...  \n",
       "\n",
       "[5 rows x 28 columns]"
      ]
     },
     "execution_count": 70,
     "metadata": {},
     "output_type": "execute_result"
    }
   ],
   "source": [
    "visas.head()"
   ]
  },
  {
   "cell_type": "markdown",
   "metadata": {},
   "source": [
    "All Columns: (<i> New Column </i>)\n",
    "- case_no: Unique case identifier\n",
    "- case_status: Target Variable (whether they were confirmed or denied)\n",
    "- class_of_admission: Type of Visa\n",
    "- country_of_citizenship: Current country of citizenship\n",
    "- decision_date: Date of decision\n",
    "- employer_name: Name of Employer\n",
    "- employer_num_employees: Number of Employees at the Employer\n",
    "- foreign_worker_info_birth_country: Country of birth\n",
    "- foreign_worker_info_education: Level of education (Bachelor's, Master's, etc.)\n",
    "- foreign_worker_info_inst: School attended\n",
    "- ji_live_in_domestic_service: whether the application is for a live-in domestic service worker (Y/N)\n",
    "- job_info_education: Minimum level of education required for the job\n",
    "- job_info_experience: Whether experience is required for the job\n",
    "- job_info_experience_num_months: Months of experience required for the job\n",
    "- job_info_foreign_ed: Whether foreign education was accepted for the job\n",
    "- job_info_foreign_lang_req: Whether knowledge of a foreign language was a job requirement\n",
    "- job_info_work_city: The city where the immigrant is working\n",
    "- job_info_work_postal_code: The postal code where the immigrant is working\n",
    "- job_info_work_state: The state where the immigrant is working\n",
    "- naics_code: Employer's industry code as classified by the North American Industrial Classification System \n",
    "- pw_level_9089: Level of the prevailing wage determination\n",
    "- ri_layoff_in_past_six_months: Whether the employer had a layoff in the field within the last six months\n",
    "- wage_offer_unit_of_pay_9089: Unit of pay of the wage offer (e.g. Hr/Yr)\n",
    "- <i>employer_desperation</i>: How long the job posting was on the employer's website\n",
    "- <i>overall_wage_offer</i>: Wage offered to the employee (if a range given, the average of this range)\n",
    "- <i>annual_wage</i>: The overall wage offer in terms of annual salary\n",
    "- <i>professional_occupation</i>: Whether or not the job was classified as professional (educational or otherwise)\n",
    "- <i>all_text</i>: Combination of all job-descriptive text columns, including job titles, majors, training fields, industry titles, and economic sectors"
   ]
  },
  {
   "cell_type": "markdown",
   "metadata": {},
   "source": [
    "## Export"
   ]
  },
  {
   "cell_type": "markdown",
   "metadata": {},
   "source": [
    "I exported the finalized visa dataset to csv for use in the rest of the notebooks."
   ]
  },
  {
   "cell_type": "code",
   "execution_count": 69,
   "metadata": {},
   "outputs": [],
   "source": [
    "visas.to_csv('/data/markellekelly/visas.csv',encoding = \"utf8\")"
   ]
  },
  {
   "cell_type": "markdown",
   "metadata": {},
   "source": [
    "Next: [Exploratory Data Analysis](03-Exploratory.ipynb)"
   ]
  }
 ],
 "metadata": {
  "kernelspec": {
   "display_name": "Python 3",
   "language": "python",
   "name": "python3"
  },
  "language_info": {
   "codemirror_mode": {
    "name": "ipython",
    "version": 3
   },
   "file_extension": ".py",
   "mimetype": "text/x-python",
   "name": "python",
   "nbconvert_exporter": "python",
   "pygments_lexer": "ipython3",
   "version": "3.7.4"
  },
  "toc-showcode": true
 },
 "nbformat": 4,
 "nbformat_minor": 4
}
