{
 "cells": [
  {
   "cell_type": "code",
   "execution_count": 25,
   "metadata": {},
   "outputs": [],
   "source": [
    "import pandas as pd\n",
    "import os\n",
    "import nltk\n",
    "import string\n",
    "from sklearn.feature_extraction.text import TfidfVectorizer\n",
    "from nltk.stem.porter import PorterStemmer\n",
    "from nltk.corpus import stopwords\n",
    "import scipy.sparse\n",
    "from scipy.sparse import csr_matrix"
   ]
  },
  {
   "cell_type": "markdown",
   "metadata": {},
   "source": [
    "# Create sparse matrix from given BoW"
   ]
  },
  {
   "cell_type": "code",
   "execution_count": 22,
   "metadata": {},
   "outputs": [],
   "source": [
    "nrow = 0\n",
    "data = []\n",
    "row = []\n",
    "col= []\n",
    "#with open('data401/reviews/train/labeldBow.feat') as pearl:\n",
    "with open('data401/reviews/test/labeledBow.feat') as pearl:\n",
    "    text = pearl.read().split('\\n')\n",
    "    for line in text:\n",
    "        if len(line) > 0:\n",
    "            entries = line.split(\" \")\n",
    "            row.append(nrow)\n",
    "            col.append(0)\n",
    "            if int(entries[0]) > 5: \n",
    "                data.append(1)\n",
    "            else:\n",
    "                data.append(0)\n",
    "            c= 1\n",
    "            while c < len(entries):\n",
    "                ent = entries[c].split(\":\")\n",
    "                row.append(nrow)\n",
    "                col.append(int(ent[0]) + 1)\n",
    "                data.append(int(ent[1]))\n",
    "                c+=1\n",
    "            nrow += 1\n",
    "sp = csr_matrix((data, (row, col)))"
   ]
  },
  {
   "cell_type": "code",
   "execution_count": 24,
   "metadata": {},
   "outputs": [],
   "source": [
    "#scipy.sparse.save_npz('origfeat_train.npz',sp)\n",
    "scipy.sparse.save_npz('origfeat_test.npz', sp)"
   ]
  },
  {
   "cell_type": "markdown",
   "metadata": {},
   "source": [
    "# Parse files and create basic dataframe"
   ]
  },
  {
   "cell_type": "code",
   "execution_count": 8,
   "metadata": {},
   "outputs": [
    {
     "name": "stdout",
     "output_type": "stream",
     "text": [
      "halfway!\n"
     ]
    }
   ],
   "source": [
    "reviews = []\n",
    "pos = []\n",
    "for filename in os.listdir('data401/reviews/train/neg/'):\n",
    "    path = os.path.join('data401/reviews/train/neg/', filename)\n",
    "    if not os.path.isdir(path):\n",
    "        with open(os.path.join('data401/reviews/train/neg/', filename)) as file:\n",
    "            data = file.read().replace(\"<br />\",\"\")\n",
    "            reviews.append(data)\n",
    "            pos.append(0)\n",
    "print(\"halfway!\")\n",
    "for filename in os.listdir('data401/reviews/train/pos/'):\n",
    "    path = os.path.join('data401/reviews/train/pos/', filename)\n",
    "    if not os.path.isdir(path):\n",
    "        with open(os.path.join('data401/reviews/train/pos/', filename)) as file:\n",
    "            data = file.read().replace(\"<br />\",\"\")\n",
    "            reviews.append(data)\n",
    "            pos.append(1)\n",
    "dat = {'review':reviews, 'pos': pos}\n",
    "df = pd.DataFrame(data=dat)"
   ]
  },
  {
   "cell_type": "code",
   "execution_count": 7,
   "metadata": {},
   "outputs": [],
   "source": [
    "df.to_csv('reviews.csv',encoding = \"utf8\",index=False)"
   ]
  },
  {
   "cell_type": "code",
   "execution_count": 14,
   "metadata": {},
   "outputs": [],
   "source": [
    "df['pos'].to_csv('classes.csv',encoding='utf-8',index=False)"
   ]
  },
  {
   "cell_type": "markdown",
   "metadata": {},
   "source": [
    "# Unigrams and bigrams with TFIDF"
   ]
  },
  {
   "cell_type": "code",
   "execution_count": 2,
   "metadata": {},
   "outputs": [],
   "source": [
    "def tokenize(text):\n",
    "    tokens = nltk.word_tokenize(text)\n",
    "    stems = []\n",
    "    for item in tokens:\n",
    "        stems.append(PorterStemmer().stem(item))\n",
    "    return stems"
   ]
  },
  {
   "cell_type": "code",
   "execution_count": 17,
   "metadata": {},
   "outputs": [],
   "source": [
    "tfidf = TfidfVectorizer(tokenizer=tokenize, ngram_range=(1,2), max_features=500000)\n",
    "tfs = tfidf.fit_transform(df['review'])"
   ]
  },
  {
   "cell_type": "code",
   "execution_count": 19,
   "metadata": {},
   "outputs": [],
   "source": [
    "scipy.sparse.save_npz('bigrams2.npz', tfs)"
   ]
  },
  {
   "cell_type": "code",
   "execution_count": 12,
   "metadata": {},
   "outputs": [
    {
     "name": "stdout",
     "output_type": "stream",
     "text": [
      "halfway!\n"
     ]
    }
   ],
   "source": [
    "#ignore this cell!\n",
    "token_dict = {}\n",
    "for dirpath, dirs, files in os.walk('data401/reviews/train/neg/'):\n",
    "    for f in files:\n",
    "        fname = os.path.join(dirpath, f)\n",
    "        with open(fname) as pearl:\n",
    "            text = pearl.read()\n",
    "            token_dict[f] = text.lower().translate(string.punctuation)\n",
    "\n",
    "for dirpath, dirs, files in os.walk('data401/reviews/train/pos/'):\n",
    "    for f in files:\n",
    "        fname = os.path.join(dirpath, f)\n",
    "        with open(fname) as pearl:\n",
    "            text = pearl.read()\n",
    "            token_dict[f] = text.lower().translate(string.punctuation)"
   ]
  }
 ],
 "metadata": {
  "kernelspec": {
   "display_name": "Python 3",
   "language": "python",
   "name": "python3"
  },
  "language_info": {
   "codemirror_mode": {
    "name": "ipython",
    "version": 3
   },
   "file_extension": ".py",
   "mimetype": "text/x-python",
   "name": "python",
   "nbconvert_exporter": "python",
   "pygments_lexer": "ipython3",
   "version": "3.6.8"
  }
 },
 "nbformat": 4,
 "nbformat_minor": 2
}
