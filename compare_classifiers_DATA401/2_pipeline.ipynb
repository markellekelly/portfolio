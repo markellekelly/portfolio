{
 "cells": [
  {
   "cell_type": "markdown",
   "metadata": {},
   "source": [
    "# Project 2: Movie Review Sentiment Analysis"
   ]
  },
  {
   "cell_type": "code",
   "execution_count": 12,
   "metadata": {},
   "outputs": [],
   "source": [
    "from sklearn.model_selection import train_test_split\n",
    "from scipy.sparse import load_npz"
   ]
  },
  {
   "cell_type": "markdown",
   "metadata": {},
   "source": [
    "## Importing Features"
   ]
  },
  {
   "cell_type": "code",
   "execution_count": 13,
   "metadata": {},
   "outputs": [],
   "source": [
    "# Import our features and their features here\n",
    "their_data = load_npz('../data/origfeat.npz')"
   ]
  },
  {
   "cell_type": "code",
   "execution_count": 14,
   "metadata": {},
   "outputs": [],
   "source": [
    "their_y = their_data[:, 0].toarray()"
   ]
  },
  {
   "cell_type": "code",
   "execution_count": 15,
   "metadata": {},
   "outputs": [],
   "source": [
    "their_features = their_data[:, 1:]"
   ]
  },
  {
   "cell_type": "markdown",
   "metadata": {},
   "source": [
    "## Dimensionality Reduction"
   ]
  },
  {
   "cell_type": "code",
   "execution_count": 52,
   "metadata": {},
   "outputs": [],
   "source": [
    "from sklearn.decomposition import TruncatedSVD\n",
    "from sklearn.decomposition import PCA"
   ]
  },
  {
   "cell_type": "code",
   "execution_count": 25,
   "metadata": {},
   "outputs": [],
   "source": [
    "our_pca = PCA(n_components = 3)\n",
    "their_pca = TruncatedSVD(n_components = 250)\n",
    "\n",
    "our_reduced_features = our_pca.fit_transform(our_features)\n",
    "their_reduced_features = their_pca.fit_transform(their_features)"
   ]
  },
  {
   "cell_type": "markdown",
   "metadata": {},
   "source": [
    "## Building models"
   ]
  },
  {
   "cell_type": "code",
   "execution_count": 7,
   "metadata": {},
   "outputs": [],
   "source": [
    "from linear_models.lda import LDAClassifier\n",
    "from linear_models.SGD import SGDClassifier"
   ]
  },
  {
   "cell_type": "code",
   "execution_count": 43,
   "metadata": {},
   "outputs": [],
   "source": [
    "# We can tweek model parameters here\n",
    "our_lda = LDAClassifier()\n",
    "their_lda = LDAClassifier()\n",
    "\n",
    "# Default params for SVM and logistic regression do not \"converge\".\n",
    "# It actually does converge, but not to a point where the algorithm will\n",
    "# stop based on the default epsilon Changing the epsilon value to be more\n",
    "# lenient will result in faster training times\n",
    "our_svm = SGDClassifier()\n",
    "their_svm = SGDClassifier()\n",
    "\n",
    "our_log = SGDClassifier(loss='log')\n",
    "their_log = SGDClassifier(loss='log')"
   ]
  },
  {
   "cell_type": "code",
   "execution_count": 41,
   "metadata": {},
   "outputs": [],
   "source": [
    "ox_train, ox_test, oy_train, oy_test = train_test_split(\n",
    "    our_reduced_features, \n",
    "    our_y, \n",
    "    test_size=0.33,\n",
    "    random_state=42)\n",
    "\n",
    "tx_train, tx_test, ty_train, ty_test = train_test_split(\n",
    "    their_reduced_features,\n",
    "    their_y,\n",
    "    test_size=0.33,\n",
    "    random_state=42)"
   ]
  },
  {
   "cell_type": "code",
   "execution_count": 44,
   "metadata": {},
   "outputs": [
    {
     "name": "stdout",
     "output_type": "stream",
     "text": [
      "SGD did not converge after 1000 epochs. Increase max_iters for a better model.\n",
      "SGD did not converge after 1000 epochs. Increase max_iters for a better model.\n"
     ]
    },
    {
     "data": {
      "text/plain": [
       "<linear_models.SGD.SGDClassifier at 0x117660c18>"
      ]
     },
     "execution_count": 44,
     "metadata": {},
     "output_type": "execute_result"
    }
   ],
   "source": [
    "\n",
    "our_lda.fit(ox_train, oy_train)\n",
    "their_lda.fit(tx_train, ty_train)\n",
    "\n",
    "# Can pass verbose = int for varying levels of verbosity in the fit functions\n",
    "# verbose = 1: Gives training time per epoch and total training time\n",
    "# verbose >= 2: Not really supported for high-dimensional data\n",
    "our_svm.fit(ox_train, oy_train)\n",
    "their_svm.fit(tx_train, ty_train)\n",
    "\n",
    "our_log.fit(ox_train, oy_train)\n",
    "their_log.fit(tx_train, ty_train)"
   ]
  },
  {
   "cell_type": "code",
   "execution_count": 47,
   "metadata": {},
   "outputs": [],
   "source": [
    "def get_confusion_matrix(y_true, y_pred):\n",
    "    y_true = pd.Series(y_true, name=\"Actual\")\n",
    "    y_pred = pd.Series(y_pred, name=\"Predicted\")\n",
    "    return pd.crosstab(y_true, y_pred)"
   ]
  },
  {
   "cell_type": "code",
   "execution_count": 48,
   "metadata": {},
   "outputs": [],
   "source": [
    "import pandas as pd"
   ]
  },
  {
   "cell_type": "markdown",
   "metadata": {},
   "source": [
    "## Aggregation of Metrics"
   ]
  },
  {
   "cell_type": "code",
   "execution_count": null,
   "metadata": {},
   "outputs": [],
   "source": [
    "our_lda_score = our_lda.score(ox_test, oy_test)\n",
    "our_predictions = our_lda.predict(ox_test)\n",
    "our_lda_confusion = get_confusion_matrix(\n",
    "    oy_test.reshape(our_predictions.shape),\n",
    "    our_predictions)\n",
    "their_lda_score = their_lda.score(tx_test, ty_test)\n",
    "their_predictions = their_lda.predict(tx_test)\n",
    "their_lda_confusion = get_confusion_matrix(\n",
    "    ty_test.reshape(our_predictions.shape),\n",
    "    their_predictions)\n",
    "print('================================')\n",
    "print('* LDA Cross Validation Metrics *')\n",
    "print('================================')\n",
    "print(f'Accuracy w/ our Features: {our_lda_score}')\n",
    "print(f'Accuracy w/ their Features: {their_lda_score}')\n",
    "print(f'Confusion Matrix w/ our Features:\\n{our_lda_confusion}')\n",
    "print(f'Confusion Matrix w/ their Features:\\n{their_lda_confusion}')"
   ]
  },
  {
   "cell_type": "code",
   "execution_count": 50,
   "metadata": {},
   "outputs": [
    {
     "name": "stdout",
     "output_type": "stream",
     "text": [
      "================================\n",
      "* SVM Cross Validation Metrics *\n",
      "================================\n",
      "Accuracy w/ their Features: 0.7244848484848485\n",
      "Confusion Matrix w/ their Features:\n",
      "Predicted     0     1\n",
      "Actual               \n",
      "0          2460  1673\n",
      "1           600  3517\n"
     ]
    }
   ],
   "source": [
    "our_svm_score = our_svm.score(ox_test, oy_test)\n",
    "our_predictions = our_svm.predict(ox_test)\n",
    "our_svm_confusion = get_confusion_matrix(oy_test.reshape(our_predictions.shape), our_predictions)\n",
    "their_svm_score = their_svm.score(tx_test, ty_test)\n",
    "their_predictions = their_svm.predict(tx_test)\n",
    "their_svm_confusion = get_confusion_matrix(\n",
    "    ty_test.reshape(their_predictions.shape),\n",
    "    their_predictions)\n",
    "print('================================')\n",
    "print('* SVM Cross Validation Metrics *')\n",
    "print('================================')\n",
    "print(f'Accuracy w/ our Features: {our_svm_score}')\n",
    "print(f'Accuracy w/ their Features: {their_svm_score}')\n",
    "print(f'Confusion Matrix w/ our Features:\\n{our_svm_confusion}')\n",
    "print(f'Confusion Matrix w/ their Features:\\n{their_svm_confusion}')"
   ]
  },
  {
   "cell_type": "code",
   "execution_count": 51,
   "metadata": {},
   "outputs": [
    {
     "ename": "NameError",
     "evalue": "name 'ox_test' is not defined",
     "output_type": "error",
     "traceback": [
      "\u001b[0;31m---------------------------------------------------------------------------\u001b[0m",
      "\u001b[0;31mNameError\u001b[0m                                 Traceback (most recent call last)",
      "\u001b[0;32m<ipython-input-51-c614d7dee6bb>\u001b[0m in \u001b[0;36m<module>\u001b[0;34m\u001b[0m\n\u001b[0;32m----> 1\u001b[0;31m \u001b[0mour_log_score\u001b[0m \u001b[0;34m=\u001b[0m \u001b[0mour_log\u001b[0m\u001b[0;34m.\u001b[0m\u001b[0mscore\u001b[0m\u001b[0;34m(\u001b[0m\u001b[0mox_test\u001b[0m\u001b[0;34m,\u001b[0m \u001b[0moy_test\u001b[0m\u001b[0;34m)\u001b[0m\u001b[0;34m\u001b[0m\u001b[0m\n\u001b[0m\u001b[1;32m      2\u001b[0m \u001b[0mour_predictions\u001b[0m \u001b[0;34m=\u001b[0m \u001b[0mour_log\u001b[0m\u001b[0;34m.\u001b[0m\u001b[0mpredict\u001b[0m\u001b[0;34m(\u001b[0m\u001b[0mox_test\u001b[0m\u001b[0;34m)\u001b[0m\u001b[0;34m\u001b[0m\u001b[0m\n\u001b[1;32m      3\u001b[0m \u001b[0mour_log_confusion\u001b[0m \u001b[0;34m=\u001b[0m \u001b[0mget_confusion_matrix\u001b[0m\u001b[0;34m(\u001b[0m\u001b[0moy_test\u001b[0m\u001b[0;34m.\u001b[0m\u001b[0mreshape\u001b[0m\u001b[0;34m(\u001b[0m\u001b[0mour_predictions\u001b[0m\u001b[0;34m.\u001b[0m\u001b[0mshape\u001b[0m\u001b[0;34m)\u001b[0m\u001b[0;34m,\u001b[0m \u001b[0mour_predictions\u001b[0m\u001b[0;34m)\u001b[0m\u001b[0;34m\u001b[0m\u001b[0m\n\u001b[1;32m      4\u001b[0m \u001b[0mtheir_log_score\u001b[0m \u001b[0;34m=\u001b[0m \u001b[0mtheir_log\u001b[0m\u001b[0;34m.\u001b[0m\u001b[0mscore\u001b[0m\u001b[0;34m(\u001b[0m\u001b[0mtx_test\u001b[0m\u001b[0;34m,\u001b[0m \u001b[0mty_test\u001b[0m\u001b[0;34m)\u001b[0m\u001b[0;34m\u001b[0m\u001b[0m\n\u001b[1;32m      5\u001b[0m \u001b[0mtheir_predictions\u001b[0m \u001b[0;34m=\u001b[0m \u001b[0mtheir_log\u001b[0m\u001b[0;34m.\u001b[0m\u001b[0mpredict\u001b[0m\u001b[0;34m(\u001b[0m\u001b[0mtx_test\u001b[0m\u001b[0;34m)\u001b[0m\u001b[0;34m\u001b[0m\u001b[0m\n",
      "\u001b[0;31mNameError\u001b[0m: name 'ox_test' is not defined"
     ]
    }
   ],
   "source": [
    "our_log_score = our_log.score(ox_test, oy_test)\n",
    "our_predictions = our_log.predict(ox_test)\n",
    "our_log_confusion = get_confusion_matrix(oy_test.reshape(our_predictions.shape), our_predictions)\n",
    "their_log_score = their_log.score(tx_test, ty_test)\n",
    "their_predictions = their_log.predict(tx_test)\n",
    "their_svm_confusion = get_confusion_matrix(\n",
    "    ty_test.reshape(our_predictions.shape),\n",
    "    their_predictions)\n",
    "print('================================')\n",
    "print('* LDA Cross Validation Metrics *')\n",
    "print('================================')\n",
    "print(f'Accuracy w/ our Features: {our_log_score}')\n",
    "print(f'Accuracy w/ their Features: {their_log_score}')\n",
    "print(f'Confusion Matrix w/ our Features:\\n{our_log_confusion}')\n",
    "print(f'Confusion Matrix w/ their Features:\\n{their_log_confusion}')"
   ]
  },
  {
   "cell_type": "code",
   "execution_count": null,
   "metadata": {},
   "outputs": [],
   "source": []
  }
 ],
 "metadata": {
  "kernelspec": {
   "display_name": "Python 3",
   "language": "python",
   "name": "python3"
  },
  "language_info": {
   "codemirror_mode": {
    "name": "ipython",
    "version": 3
   },
   "file_extension": ".py",
   "mimetype": "text/x-python",
   "name": "python",
   "nbconvert_exporter": "python",
   "pygments_lexer": "ipython3",
   "version": "3.7.4"
  }
 },
 "nbformat": 4,
 "nbformat_minor": 4
}
